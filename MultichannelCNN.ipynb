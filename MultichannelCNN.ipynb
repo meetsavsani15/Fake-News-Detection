{
  "nbformat": 4,
  "nbformat_minor": 0,
  "metadata": {
    "colab": {
      "name": "MultichannelCNN.ipynb",
      "provenance": [],
      "collapsed_sections": []
    },
    "kernelspec": {
      "name": "python3",
      "display_name": "Python 3"
    }
  },
  "cells": [
    {
      "cell_type": "code",
      "metadata": {
        "id": "htb2tZMuRpOg",
        "colab_type": "code",
        "outputId": "e846576f-699b-4084-e40e-f711da3bc5f7",
        "colab": {
          "base_uri": "https://localhost:8080/",
          "height": 121
        }
      },
      "source": [
        "from google.colab import drive\n",
        "drive.mount('/content/drive')"
      ],
      "execution_count": 1,
      "outputs": [
        {
          "output_type": "stream",
          "text": [
            "Go to this URL in a browser: https://accounts.google.com/o/oauth2/auth?client_id=947318989803-6bn6qk8qdgf4n4g3pfee6491hc0brc4i.apps.googleusercontent.com&redirect_uri=urn%3aietf%3awg%3aoauth%3a2.0%3aoob&response_type=code&scope=email%20https%3a%2f%2fwww.googleapis.com%2fauth%2fdocs.test%20https%3a%2f%2fwww.googleapis.com%2fauth%2fdrive%20https%3a%2f%2fwww.googleapis.com%2fauth%2fdrive.photos.readonly%20https%3a%2f%2fwww.googleapis.com%2fauth%2fpeopleapi.readonly\n",
            "\n",
            "Enter your authorization code:\n",
            "··········\n",
            "Mounted at /content/drive\n"
          ],
          "name": "stdout"
        }
      ]
    },
    {
      "cell_type": "code",
      "metadata": {
        "id": "pV7hXltRR9I2",
        "colab_type": "code",
        "colab": {}
      },
      "source": [
        "import pandas as pd"
      ],
      "execution_count": 0,
      "outputs": []
    },
    {
      "cell_type": "code",
      "metadata": {
        "id": "yRCHCIN4R_jP",
        "colab_type": "code",
        "colab": {}
      },
      "source": [
        "path = '/content/drive/My Drive/Team 2 BI/Meet/Fake_News/train.csv'\n",
        "train_data = pd.read_csv(path)"
      ],
      "execution_count": 0,
      "outputs": []
    },
    {
      "cell_type": "code",
      "metadata": {
        "id": "Kxnr3OguSA5Z",
        "colab_type": "code",
        "outputId": "8f77cd3e-6a0b-44cb-bb36-595f6570eef9",
        "colab": {
          "base_uri": "https://localhost:8080/",
          "height": 34
        }
      },
      "source": [
        "train_data.shape"
      ],
      "execution_count": 4,
      "outputs": [
        {
          "output_type": "execute_result",
          "data": {
            "text/plain": [
              "(20800, 5)"
            ]
          },
          "metadata": {
            "tags": []
          },
          "execution_count": 4
        }
      ]
    },
    {
      "cell_type": "code",
      "metadata": {
        "id": "XTFxBwqXSCgy",
        "colab_type": "code",
        "outputId": "62d40f03-97f8-4b79-d005-e4d3838b1675",
        "colab": {
          "base_uri": "https://localhost:8080/",
          "height": 118
        }
      },
      "source": [
        "train_data.isnull().sum()"
      ],
      "execution_count": 5,
      "outputs": [
        {
          "output_type": "execute_result",
          "data": {
            "text/plain": [
              "id           0\n",
              "title      558\n",
              "author    1957\n",
              "text        39\n",
              "label        0\n",
              "dtype: int64"
            ]
          },
          "metadata": {
            "tags": []
          },
          "execution_count": 5
        }
      ]
    },
    {
      "cell_type": "code",
      "metadata": {
        "id": "wdFjnKOXSEFE",
        "colab_type": "code",
        "outputId": "ebedc6b6-f0b9-420a-922d-054b54354f05",
        "colab": {
          "base_uri": "https://localhost:8080/",
          "height": 118
        }
      },
      "source": [
        "train_data[['title' , 'author']] = train_data[['title' , 'author']].fillna(value = 'Missing')\n",
        "train_data = train_data.dropna()\n",
        "train_data.isnull().sum()"
      ],
      "execution_count": 6,
      "outputs": [
        {
          "output_type": "execute_result",
          "data": {
            "text/plain": [
              "id        0\n",
              "title     0\n",
              "author    0\n",
              "text      0\n",
              "label     0\n",
              "dtype: int64"
            ]
          },
          "metadata": {
            "tags": []
          },
          "execution_count": 6
        }
      ]
    },
    {
      "cell_type": "code",
      "metadata": {
        "id": "ARGhrqaFSFaH",
        "colab_type": "code",
        "outputId": "6ba38079-a76d-492c-841e-cbd0890450dd",
        "colab": {
          "base_uri": "https://localhost:8080/",
          "height": 195
        }
      },
      "source": [
        "length = []\n",
        "[length.append(len(str(text))) for text in train_data['text']]\n",
        "train_data['length'] = length\n",
        "train_data.head()"
      ],
      "execution_count": 7,
      "outputs": [
        {
          "output_type": "execute_result",
          "data": {
            "text/html": [
              "<div>\n",
              "<style scoped>\n",
              "    .dataframe tbody tr th:only-of-type {\n",
              "        vertical-align: middle;\n",
              "    }\n",
              "\n",
              "    .dataframe tbody tr th {\n",
              "        vertical-align: top;\n",
              "    }\n",
              "\n",
              "    .dataframe thead th {\n",
              "        text-align: right;\n",
              "    }\n",
              "</style>\n",
              "<table border=\"1\" class=\"dataframe\">\n",
              "  <thead>\n",
              "    <tr style=\"text-align: right;\">\n",
              "      <th></th>\n",
              "      <th>id</th>\n",
              "      <th>title</th>\n",
              "      <th>author</th>\n",
              "      <th>text</th>\n",
              "      <th>label</th>\n",
              "      <th>length</th>\n",
              "    </tr>\n",
              "  </thead>\n",
              "  <tbody>\n",
              "    <tr>\n",
              "      <th>0</th>\n",
              "      <td>0</td>\n",
              "      <td>House Dem Aide: We Didn’t Even See Comey’s Let...</td>\n",
              "      <td>Darrell Lucus</td>\n",
              "      <td>House Dem Aide: We Didn’t Even See Comey’s Let...</td>\n",
              "      <td>1</td>\n",
              "      <td>4930</td>\n",
              "    </tr>\n",
              "    <tr>\n",
              "      <th>1</th>\n",
              "      <td>1</td>\n",
              "      <td>FLYNN: Hillary Clinton, Big Woman on Campus - ...</td>\n",
              "      <td>Daniel J. Flynn</td>\n",
              "      <td>Ever get the feeling your life circles the rou...</td>\n",
              "      <td>0</td>\n",
              "      <td>4160</td>\n",
              "    </tr>\n",
              "    <tr>\n",
              "      <th>2</th>\n",
              "      <td>2</td>\n",
              "      <td>Why the Truth Might Get You Fired</td>\n",
              "      <td>Consortiumnews.com</td>\n",
              "      <td>Why the Truth Might Get You Fired October 29, ...</td>\n",
              "      <td>1</td>\n",
              "      <td>7692</td>\n",
              "    </tr>\n",
              "    <tr>\n",
              "      <th>3</th>\n",
              "      <td>3</td>\n",
              "      <td>15 Civilians Killed In Single US Airstrike Hav...</td>\n",
              "      <td>Jessica Purkiss</td>\n",
              "      <td>Videos 15 Civilians Killed In Single US Airstr...</td>\n",
              "      <td>1</td>\n",
              "      <td>3237</td>\n",
              "    </tr>\n",
              "    <tr>\n",
              "      <th>4</th>\n",
              "      <td>4</td>\n",
              "      <td>Iranian woman jailed for fictional unpublished...</td>\n",
              "      <td>Howard Portnoy</td>\n",
              "      <td>Print \\nAn Iranian woman has been sentenced to...</td>\n",
              "      <td>1</td>\n",
              "      <td>938</td>\n",
              "    </tr>\n",
              "  </tbody>\n",
              "</table>\n",
              "</div>"
            ],
            "text/plain": [
              "   id                                              title  ... label length\n",
              "0   0  House Dem Aide: We Didn’t Even See Comey’s Let...  ...     1   4930\n",
              "1   1  FLYNN: Hillary Clinton, Big Woman on Campus - ...  ...     0   4160\n",
              "2   2                  Why the Truth Might Get You Fired  ...     1   7692\n",
              "3   3  15 Civilians Killed In Single US Airstrike Hav...  ...     1   3237\n",
              "4   4  Iranian woman jailed for fictional unpublished...  ...     1    938\n",
              "\n",
              "[5 rows x 6 columns]"
            ]
          },
          "metadata": {
            "tags": []
          },
          "execution_count": 7
        }
      ]
    },
    {
      "cell_type": "code",
      "metadata": {
        "id": "K1SUSxZSSHFI",
        "colab_type": "code",
        "outputId": "2727942d-25b8-481b-b6a6-fb390a5dd954",
        "colab": {
          "base_uri": "https://localhost:8080/",
          "height": 34
        }
      },
      "source": [
        "len(train_data[train_data['length'] < 50])"
      ],
      "execution_count": 8,
      "outputs": [
        {
          "output_type": "execute_result",
          "data": {
            "text/plain": [
              "207"
            ]
          },
          "metadata": {
            "tags": []
          },
          "execution_count": 8
        }
      ]
    },
    {
      "cell_type": "code",
      "metadata": {
        "id": "PmZAtxJ7SIem",
        "colab_type": "code",
        "outputId": "1a1557c0-17fe-47b8-f895-740e09ddbf9b",
        "colab": {
          "base_uri": "https://localhost:8080/",
          "height": 218
        }
      },
      "source": [
        "train_data['text'][train_data['length'] < 50]"
      ],
      "execution_count": 9,
      "outputs": [
        {
          "output_type": "execute_result",
          "data": {
            "text/plain": [
              "82                                                   \n",
              "169                                                  \n",
              "173                                   Guest   Guest  \n",
              "196            They got the heater turned up on high.\n",
              "295                                                  \n",
              "                             ...                     \n",
              "20350                         I hope nobody got hurt!\n",
              "20418                                 Guest   Guest  \n",
              "20431    \\nOctober 28, 2016 The Mothers by stclair by\n",
              "20513                                                \n",
              "20636                              Trump all the way!\n",
              "Name: text, Length: 207, dtype: object"
            ]
          },
          "metadata": {
            "tags": []
          },
          "execution_count": 9
        }
      ]
    },
    {
      "cell_type": "code",
      "metadata": {
        "id": "fSodr4ACSKs3",
        "colab_type": "code",
        "colab": {}
      },
      "source": [
        "train_data = train_data.drop(train_data['text'][train_data['length'] < 50].index, axis = 0)"
      ],
      "execution_count": 0,
      "outputs": []
    },
    {
      "cell_type": "code",
      "metadata": {
        "id": "yzyJbT0lSL8I",
        "colab_type": "code",
        "colab": {}
      },
      "source": [
        "train_data = train_data.apply(lambda x: x.astype(str).str.lower())\n"
      ],
      "execution_count": 0,
      "outputs": []
    },
    {
      "cell_type": "code",
      "metadata": {
        "id": "FYO5azWQSNCo",
        "colab_type": "code",
        "colab": {}
      },
      "source": [
        "train_data['title'] = train_data['title'].str.replace('[^\\w\\s]','')\n",
        "train_data['title'] = train_data['title'].str.replace('<.*?>','')\n",
        "train_data['text'] = train_data['text'].str.replace('[^\\w\\s]','')\n",
        "train_data['text'] = train_data['text'].str.replace('<.*?>','')"
      ],
      "execution_count": 0,
      "outputs": []
    },
    {
      "cell_type": "code",
      "metadata": {
        "id": "pWzno1d4SOTY",
        "colab_type": "code",
        "colab": {
          "base_uri": "https://localhost:8080/",
          "height": 34
        },
        "outputId": "4c35592d-b677-4585-ed2a-5502f2250287"
      },
      "source": [
        "import tensorflow as tf\n",
        "from keras.preprocessing.text import text_to_word_sequence"
      ],
      "execution_count": 13,
      "outputs": [
        {
          "output_type": "stream",
          "text": [
            "Using TensorFlow backend.\n"
          ],
          "name": "stderr"
        }
      ]
    },
    {
      "cell_type": "code",
      "metadata": {
        "id": "U_OZ-kKjSPwf",
        "colab_type": "code",
        "colab": {}
      },
      "source": [
        "tokens = []\n",
        "[tokens.append(text_to_word_sequence(text)) for text in train_data['text']]\n",
        "train_data['tokens_text'] = tokens\n"
      ],
      "execution_count": 0,
      "outputs": []
    },
    {
      "cell_type": "code",
      "metadata": {
        "id": "Re8PW2SlSRF0",
        "colab_type": "code",
        "colab": {}
      },
      "source": [
        "tokens = []\n",
        "[tokens.append(text_to_word_sequence(text)) for text in train_data['title']]\n",
        "train_data['tokens_title'] = tokens\n"
      ],
      "execution_count": 0,
      "outputs": []
    },
    {
      "cell_type": "code",
      "metadata": {
        "id": "T-GgtLO7SS8r",
        "colab_type": "code",
        "outputId": "27495a60-df79-4f7e-991d-87e7ecbc6573",
        "colab": {
          "base_uri": "https://localhost:8080/",
          "height": 402
        }
      },
      "source": [
        "train_data[['tokens_title' , 'tokens_text']]"
      ],
      "execution_count": 16,
      "outputs": [
        {
          "output_type": "execute_result",
          "data": {
            "text/html": [
              "<div>\n",
              "<style scoped>\n",
              "    .dataframe tbody tr th:only-of-type {\n",
              "        vertical-align: middle;\n",
              "    }\n",
              "\n",
              "    .dataframe tbody tr th {\n",
              "        vertical-align: top;\n",
              "    }\n",
              "\n",
              "    .dataframe thead th {\n",
              "        text-align: right;\n",
              "    }\n",
              "</style>\n",
              "<table border=\"1\" class=\"dataframe\">\n",
              "  <thead>\n",
              "    <tr style=\"text-align: right;\">\n",
              "      <th></th>\n",
              "      <th>tokens_title</th>\n",
              "      <th>tokens_text</th>\n",
              "    </tr>\n",
              "  </thead>\n",
              "  <tbody>\n",
              "    <tr>\n",
              "      <th>0</th>\n",
              "      <td>[house, dem, aide, we, didnt, even, see, comey...</td>\n",
              "      <td>[house, dem, aide, we, didnt, even, see, comey...</td>\n",
              "    </tr>\n",
              "    <tr>\n",
              "      <th>1</th>\n",
              "      <td>[flynn, hillary, clinton, big, woman, on, camp...</td>\n",
              "      <td>[ever, get, the, feeling, your, life, circles,...</td>\n",
              "    </tr>\n",
              "    <tr>\n",
              "      <th>2</th>\n",
              "      <td>[why, the, truth, might, get, you, fired]</td>\n",
              "      <td>[why, the, truth, might, get, you, fired, octo...</td>\n",
              "    </tr>\n",
              "    <tr>\n",
              "      <th>3</th>\n",
              "      <td>[15, civilians, killed, in, single, us, airstr...</td>\n",
              "      <td>[videos, 15, civilians, killed, in, single, us...</td>\n",
              "    </tr>\n",
              "    <tr>\n",
              "      <th>4</th>\n",
              "      <td>[iranian, woman, jailed, for, fictional, unpub...</td>\n",
              "      <td>[print, an, iranian, woman, has, been, sentenc...</td>\n",
              "    </tr>\n",
              "    <tr>\n",
              "      <th>...</th>\n",
              "      <td>...</td>\n",
              "      <td>...</td>\n",
              "    </tr>\n",
              "    <tr>\n",
              "      <th>20795</th>\n",
              "      <td>[rapper, ti, trump, a, poster, child, for, whi...</td>\n",
              "      <td>[rapper, t, i, unloaded, on, black, celebritie...</td>\n",
              "    </tr>\n",
              "    <tr>\n",
              "      <th>20796</th>\n",
              "      <td>[nfl, playoffs, schedule, matchups, and, odds,...</td>\n",
              "      <td>[when, the, green, bay, packers, lost, to, the...</td>\n",
              "    </tr>\n",
              "    <tr>\n",
              "      <th>20797</th>\n",
              "      <td>[macys, is, said, to, receive, takeover, appro...</td>\n",
              "      <td>[the, macys, of, today, grew, from, the, union...</td>\n",
              "    </tr>\n",
              "    <tr>\n",
              "      <th>20798</th>\n",
              "      <td>[nato, russia, to, hold, parallel, exercises, ...</td>\n",
              "      <td>[nato, russia, to, hold, parallel, exercises, ...</td>\n",
              "    </tr>\n",
              "    <tr>\n",
              "      <th>20799</th>\n",
              "      <td>[what, keeps, the, f35, alive]</td>\n",
              "      <td>[david, swanson, is, an, author, activist, jou...</td>\n",
              "    </tr>\n",
              "  </tbody>\n",
              "</table>\n",
              "<p>20554 rows × 2 columns</p>\n",
              "</div>"
            ],
            "text/plain": [
              "                                            tokens_title                                        tokens_text\n",
              "0      [house, dem, aide, we, didnt, even, see, comey...  [house, dem, aide, we, didnt, even, see, comey...\n",
              "1      [flynn, hillary, clinton, big, woman, on, camp...  [ever, get, the, feeling, your, life, circles,...\n",
              "2              [why, the, truth, might, get, you, fired]  [why, the, truth, might, get, you, fired, octo...\n",
              "3      [15, civilians, killed, in, single, us, airstr...  [videos, 15, civilians, killed, in, single, us...\n",
              "4      [iranian, woman, jailed, for, fictional, unpub...  [print, an, iranian, woman, has, been, sentenc...\n",
              "...                                                  ...                                                ...\n",
              "20795  [rapper, ti, trump, a, poster, child, for, whi...  [rapper, t, i, unloaded, on, black, celebritie...\n",
              "20796  [nfl, playoffs, schedule, matchups, and, odds,...  [when, the, green, bay, packers, lost, to, the...\n",
              "20797  [macys, is, said, to, receive, takeover, appro...  [the, macys, of, today, grew, from, the, union...\n",
              "20798  [nato, russia, to, hold, parallel, exercises, ...  [nato, russia, to, hold, parallel, exercises, ...\n",
              "20799                     [what, keeps, the, f35, alive]  [david, swanson, is, an, author, activist, jou...\n",
              "\n",
              "[20554 rows x 2 columns]"
            ]
          },
          "metadata": {
            "tags": []
          },
          "execution_count": 16
        }
      ]
    },
    {
      "cell_type": "code",
      "metadata": {
        "id": "WEzDB5u1SUtJ",
        "colab_type": "code",
        "outputId": "e2951163-6cdc-492a-8da5-6416691390c2",
        "colab": {
          "base_uri": "https://localhost:8080/",
          "height": 50
        }
      },
      "source": [
        "import nltk\n",
        "nltk.download('stopwords')\n",
        "\n",
        "from nltk.corpus import stopwords\n",
        "stops = set(stopwords.words(\"english\"))\n",
        "\n",
        "def remove_stops(row):\n",
        "  my_list = row['tokens_title']\n",
        "  final_text = [w for w in my_list if not w in stops]\n",
        "  return(final_text)\n",
        "\n",
        "train_data['title'] = train_data.apply(remove_stops, axis = 1)"
      ],
      "execution_count": 17,
      "outputs": [
        {
          "output_type": "stream",
          "text": [
            "[nltk_data] Downloading package stopwords to /root/nltk_data...\n",
            "[nltk_data]   Unzipping corpora/stopwords.zip.\n"
          ],
          "name": "stdout"
        }
      ]
    },
    {
      "cell_type": "code",
      "metadata": {
        "id": "pqcPWJSZSXBc",
        "colab_type": "code",
        "colab": {}
      },
      "source": [
        "from nltk.corpus import stopwords\n",
        "stops = set(stopwords.words(\"english\"))\n",
        "\n",
        "def remove_stops(row):\n",
        "  my_list = row['tokens_text']\n",
        "  final_text = [w for w in my_list if not w in stops]\n",
        "  return(final_text)\n",
        "\n",
        "train_data['text'] = train_data.apply(remove_stops, axis = 1)"
      ],
      "execution_count": 0,
      "outputs": []
    },
    {
      "cell_type": "code",
      "metadata": {
        "id": "iz0EptvZSYU6",
        "colab_type": "code",
        "colab": {}
      },
      "source": [
        "def rejoin_words(row):\n",
        "  my_list = row['text']\n",
        "  joined_words = ( \" \".join(my_list))\n",
        "  return joined_words\n",
        "\n",
        "train_data['text'] = train_data.apply(rejoin_words, axis = 1)"
      ],
      "execution_count": 0,
      "outputs": []
    },
    {
      "cell_type": "code",
      "metadata": {
        "id": "vn3P35b0SZag",
        "colab_type": "code",
        "colab": {}
      },
      "source": [
        "def rejoin_words(row):\n",
        "  my_list = row['title']\n",
        "  joined_words = ( \" \".join(my_list))\n",
        "  return joined_words\n",
        "\n",
        "train_data['title'] = train_data.apply(rejoin_words, axis = 1)"
      ],
      "execution_count": 0,
      "outputs": []
    },
    {
      "cell_type": "code",
      "metadata": {
        "id": "9qVhFYlFSazw",
        "colab_type": "code",
        "outputId": "f14b34ba-4b0f-4395-f461-4eb0d178848f",
        "colab": {
          "base_uri": "https://localhost:8080/",
          "height": 402
        }
      },
      "source": [
        "train_data[['title' , 'text']]"
      ],
      "execution_count": 21,
      "outputs": [
        {
          "output_type": "execute_result",
          "data": {
            "text/html": [
              "<div>\n",
              "<style scoped>\n",
              "    .dataframe tbody tr th:only-of-type {\n",
              "        vertical-align: middle;\n",
              "    }\n",
              "\n",
              "    .dataframe tbody tr th {\n",
              "        vertical-align: top;\n",
              "    }\n",
              "\n",
              "    .dataframe thead th {\n",
              "        text-align: right;\n",
              "    }\n",
              "</style>\n",
              "<table border=\"1\" class=\"dataframe\">\n",
              "  <thead>\n",
              "    <tr style=\"text-align: right;\">\n",
              "      <th></th>\n",
              "      <th>title</th>\n",
              "      <th>text</th>\n",
              "    </tr>\n",
              "  </thead>\n",
              "  <tbody>\n",
              "    <tr>\n",
              "      <th>0</th>\n",
              "      <td>house dem aide didnt even see comeys letter ja...</td>\n",
              "      <td>house dem aide didnt even see comeys letter ja...</td>\n",
              "    </tr>\n",
              "    <tr>\n",
              "      <th>1</th>\n",
              "      <td>flynn hillary clinton big woman campus breitbart</td>\n",
              "      <td>ever get feeling life circles roundabout rathe...</td>\n",
              "    </tr>\n",
              "    <tr>\n",
              "      <th>2</th>\n",
              "      <td>truth might get fired</td>\n",
              "      <td>truth might get fired october 29 2016 tension ...</td>\n",
              "    </tr>\n",
              "    <tr>\n",
              "      <th>3</th>\n",
              "      <td>15 civilians killed single us airstrike identi...</td>\n",
              "      <td>videos 15 civilians killed single us airstrike...</td>\n",
              "    </tr>\n",
              "    <tr>\n",
              "      <th>4</th>\n",
              "      <td>iranian woman jailed fictional unpublished sto...</td>\n",
              "      <td>print iranian woman sentenced six years prison...</td>\n",
              "    </tr>\n",
              "    <tr>\n",
              "      <th>...</th>\n",
              "      <td>...</td>\n",
              "      <td>...</td>\n",
              "    </tr>\n",
              "    <tr>\n",
              "      <th>20795</th>\n",
              "      <td>rapper ti trump poster child white supremacy</td>\n",
              "      <td>rapper unloaded black celebrities met donald t...</td>\n",
              "    </tr>\n",
              "    <tr>\n",
              "      <th>20796</th>\n",
              "      <td>nfl playoffs schedule matchups odds new york t...</td>\n",
              "      <td>green bay packers lost washington redskins wee...</td>\n",
              "    </tr>\n",
              "    <tr>\n",
              "      <th>20797</th>\n",
              "      <td>macys said receive takeover approach hudsons b...</td>\n",
              "      <td>macys today grew union several great names ame...</td>\n",
              "    </tr>\n",
              "    <tr>\n",
              "      <th>20798</th>\n",
              "      <td>nato russia hold parallel exercises balkans</td>\n",
              "      <td>nato russia hold parallel exercises balkans 11...</td>\n",
              "    </tr>\n",
              "    <tr>\n",
              "      <th>20799</th>\n",
              "      <td>keeps f35 alive</td>\n",
              "      <td>david swanson author activist journalist radio...</td>\n",
              "    </tr>\n",
              "  </tbody>\n",
              "</table>\n",
              "<p>20554 rows × 2 columns</p>\n",
              "</div>"
            ],
            "text/plain": [
              "                                                   title                                               text\n",
              "0      house dem aide didnt even see comeys letter ja...  house dem aide didnt even see comeys letter ja...\n",
              "1       flynn hillary clinton big woman campus breitbart  ever get feeling life circles roundabout rathe...\n",
              "2                                  truth might get fired  truth might get fired october 29 2016 tension ...\n",
              "3      15 civilians killed single us airstrike identi...  videos 15 civilians killed single us airstrike...\n",
              "4      iranian woman jailed fictional unpublished sto...  print iranian woman sentenced six years prison...\n",
              "...                                                  ...                                                ...\n",
              "20795       rapper ti trump poster child white supremacy  rapper unloaded black celebrities met donald t...\n",
              "20796  nfl playoffs schedule matchups odds new york t...  green bay packers lost washington redskins wee...\n",
              "20797  macys said receive takeover approach hudsons b...  macys today grew union several great names ame...\n",
              "20798        nato russia hold parallel exercises balkans  nato russia hold parallel exercises balkans 11...\n",
              "20799                                    keeps f35 alive  david swanson author activist journalist radio...\n",
              "\n",
              "[20554 rows x 2 columns]"
            ]
          },
          "metadata": {
            "tags": []
          },
          "execution_count": 21
        }
      ]
    },
    {
      "cell_type": "code",
      "metadata": {
        "id": "WrzprxZbSc6z",
        "colab_type": "code",
        "colab": {}
      },
      "source": [
        "max_features = 4500"
      ],
      "execution_count": 0,
      "outputs": []
    },
    {
      "cell_type": "code",
      "metadata": {
        "id": "8g5iP99ySeAu",
        "colab_type": "code",
        "colab": {}
      },
      "source": [
        "from tensorflow.keras.preprocessing.text import Tokenizer\n",
        "from tensorflow.keras.preprocessing.sequence import pad_sequences\n",
        "\n",
        "\n",
        "tokenizer = Tokenizer(num_words = max_features, filters='!\"#$%&()*+,-./:;<=>?@[\\\\]^_`{|}~\\t\\n', lower = True, split = ' ')\n",
        "tokenizer.fit_on_texts(texts = train_data['text'])\n",
        "X = tokenizer.texts_to_sequences(texts = train_data['text'])"
      ],
      "execution_count": 0,
      "outputs": []
    },
    {
      "cell_type": "code",
      "metadata": {
        "id": "8biZkLsqSf8L",
        "colab_type": "code",
        "colab": {}
      },
      "source": [
        "word_index = tokenizer.word_index"
      ],
      "execution_count": 0,
      "outputs": []
    },
    {
      "cell_type": "code",
      "metadata": {
        "id": "CVOTdYXXSin_",
        "colab_type": "code",
        "colab": {}
      },
      "source": [
        "X = pad_sequences(sequences = X, maxlen = 1000, padding = 'pre')"
      ],
      "execution_count": 0,
      "outputs": []
    },
    {
      "cell_type": "code",
      "metadata": {
        "id": "gYTHh6B7SjyM",
        "colab_type": "code",
        "outputId": "1fb595fc-9f5c-4c1b-d8a0-fda17748f286",
        "colab": {
          "base_uri": "https://localhost:8080/",
          "height": 50
        }
      },
      "source": [
        "from keras.utils.np_utils import to_categorical\n",
        "import numpy as np\n",
        "\n",
        "print(X.shape)\n",
        "y = to_categorical(np.asarray(train_data['label'].values), num_classes = 2)\n",
        "print(y.shape)"
      ],
      "execution_count": 26,
      "outputs": [
        {
          "output_type": "stream",
          "text": [
            "(20554, 1000)\n",
            "(20554, 2)\n"
          ],
          "name": "stdout"
        }
      ]
    },
    {
      "cell_type": "code",
      "metadata": {
        "id": "L65dwi5ySlIJ",
        "colab_type": "code",
        "colab": {}
      },
      "source": [
        "from sklearn.model_selection import train_test_split\n",
        "\n",
        "X_train, X_test, y_train, y_test = train_test_split(X, y, test_size = 0.2, random_state = 42)\n",
        "x_test, x_val, y_test, y_val = train_test_split( X, y, test_size=0.50, random_state=42)"
      ],
      "execution_count": 0,
      "outputs": []
    },
    {
      "cell_type": "code",
      "metadata": {
        "id": "J2D78NoeW-Ac",
        "colab_type": "code",
        "outputId": "e5b56560-b73c-442d-d7f6-80fcfe871dcc",
        "colab": {
          "base_uri": "https://localhost:8080/",
          "height": 34
        }
      },
      "source": [
        "vocab_size = len(tokenizer.word_index) + 1\n",
        "print(vocab_size)"
      ],
      "execution_count": 28,
      "outputs": [
        {
          "output_type": "stream",
          "text": [
            "213562\n"
          ],
          "name": "stdout"
        }
      ]
    },
    {
      "cell_type": "code",
      "metadata": {
        "id": "263ZBSvQSm3G",
        "colab_type": "code",
        "outputId": "ee629ff3-1579-41a7-9a73-1f2f5f9cfef6",
        "colab": {
          "base_uri": "https://localhost:8080/",
          "height": 34
        }
      },
      "source": [
        "import os\n",
        "from keras.models import Sequential\n",
        "from keras.layers import Embedding, Flatten, Dense, LSTM\n",
        "\n",
        "MAX_SEQUENCE_LENGTH = 1000\n",
        "GLOVE_DIR = '/content/drive/My Drive/glove.6B.100d.txt' \n",
        "EMBEDDING_DIM = 100\n",
        "embeddings_index = {}\n",
        "f = open(os.path.join(GLOVE_DIR), encoding=\"utf8\")\n",
        "for line in f:\n",
        "    values = line.split()\n",
        "    #print(values[1:])\n",
        "    word = values[0]\n",
        "    coefs = np.asarray(values[1:], dtype='float32')\n",
        "    embeddings_index[word] = coefs\n",
        "f.close()\n",
        "\n",
        "print('Total %s word vectors in Glove.' % len(embeddings_index))\n",
        "\n",
        "embedding_matrix = np.random.random((len(word_index) + 1, EMBEDDING_DIM))\n",
        "for word, i in word_index.items():\n",
        "    embedding_vector = embeddings_index.get(word)\n",
        "    if embedding_vector is not None:\n",
        "        # words not found in embedding index will be all-zeros.\n",
        "        embedding_matrix[i] = embedding_vector\n",
        "        \n",
        "embedding_layer = Embedding(len(word_index) + 1,\n",
        "                            EMBEDDING_DIM,\n",
        "                            weights=[embedding_matrix],\n",
        "                            input_length=MAX_SEQUENCE_LENGTH)"
      ],
      "execution_count": 29,
      "outputs": [
        {
          "output_type": "stream",
          "text": [
            "Total 400000 word vectors in Glove.\n"
          ],
          "name": "stdout"
        }
      ]
    },
    {
      "cell_type": "markdown",
      "metadata": {
        "id": "0h67TKj_g9wb",
        "colab_type": "text"
      },
      "source": [
        "### **3 Channels, 16 filters**"
      ]
    },
    {
      "cell_type": "code",
      "metadata": {
        "id": "22-0YsXJSnt-",
        "colab_type": "code",
        "outputId": "0e56516b-0434-484c-c6a9-2c72e7e53079",
        "colab": {
          "base_uri": "https://localhost:8080/",
          "height": 1000
        }
      },
      "source": [
        "from numpy import array\n",
        "from keras.models import Model\n",
        "from keras.layers import Input\n",
        "from keras.layers import Dense\n",
        "from keras.layers import Flatten\n",
        "from keras.layers import Dropout\n",
        "from keras.layers import Embedding\n",
        "from keras.layers.convolutional import Conv1D\n",
        "from keras.layers.convolutional import MaxPooling1D\n",
        "from keras.layers.merge import concatenate\n",
        "\n",
        "#channel 1\n",
        "input1 = Input(shape=(MAX_SEQUENCE_LENGTH,), dtype='int32')\n",
        "embedding1 = Embedding(len(word_index)+1 , EMBEDDING_DIM , weights = [embedding_matrix], input_length = MAX_SEQUENCE_LENGTH, trainable = False)(input1)\n",
        "conv1 = Conv1D(filters=16, kernel_size=4, activation='relu')(embedding1)\n",
        "drop1 = Dropout(0.5)(conv1)\n",
        "pool1 = MaxPooling1D(pool_size=2)(drop1)\n",
        "flat1 = Flatten()(pool1)\n",
        "\n",
        "#channel 2\n",
        "input2 = Input(shape=(MAX_SEQUENCE_LENGTH,), dtype='int32')\n",
        "embedding2 = Embedding(len(word_index)+1 , EMBEDDING_DIM , weights = [embedding_matrix], input_length = MAX_SEQUENCE_LENGTH, trainable = False)(input2)\n",
        "conv2 = Conv1D(filters=16, kernel_size=6, activation='relu')(embedding2)\n",
        "drop2 = Dropout(0.5)(conv2)\n",
        "pool2 = MaxPooling1D(pool_size=2)(drop2)\n",
        "flat2 = Flatten()(pool2)\n",
        "\n",
        "#channel 3\n",
        "input3 = Input(shape=(MAX_SEQUENCE_LENGTH,), dtype='int32')\n",
        "embedding3 = Embedding(len(word_index)+1 , EMBEDDING_DIM , weights = [embedding_matrix], input_length = MAX_SEQUENCE_LENGTH, trainable = False)(input3)\n",
        "conv3 = Conv1D(filters=16, kernel_size=8, activation='relu')(embedding3)\n",
        "drop3 = Dropout(0.5)(conv3)\n",
        "pool3 = MaxPooling1D(pool_size=2)(drop3)\n",
        "flat3 = Flatten()(pool3)\n",
        "\n",
        "\n",
        "merged = concatenate([flat1, flat2, flat3])\n",
        "\n",
        "\n",
        "# dense1 = Dense(256, activation = 'relu')(merged)\n",
        "# dense2 = Dense(128, activation = 'relu')(dense1)\n",
        "# dense3 = Dense(64, activation = 'relu')(dense2)\n",
        "dense4 = Dense(32, activation = 'relu')(merged)\n",
        "outputs = Dense(2, activation = 'softmax')(dense4)\n",
        "\n",
        "model = Model(inputs=[input1, input2, input3], outputs=outputs)\n",
        "\n",
        "model.compile(loss='binary_crossentropy', optimizer='adam', metrics=['accuracy'])\n",
        "\n",
        "print(model.summary())\n",
        "multicnn = model.fit([X_train, X_train, X_train], array(y_train), validation_data = ([x_val, x_val, x_val], y_val),  epochs=10, batch_size=16)\n",
        "\n",
        "\n"
      ],
      "execution_count": 31,
      "outputs": [
        {
          "output_type": "stream",
          "text": [
            "Model: \"model_1\"\n",
            "__________________________________________________________________________________________________\n",
            "Layer (type)                    Output Shape         Param #     Connected to                     \n",
            "==================================================================================================\n",
            "input_4 (InputLayer)            (None, 1000)         0                                            \n",
            "__________________________________________________________________________________________________\n",
            "input_5 (InputLayer)            (None, 1000)         0                                            \n",
            "__________________________________________________________________________________________________\n",
            "input_6 (InputLayer)            (None, 1000)         0                                            \n",
            "__________________________________________________________________________________________________\n",
            "embedding_5 (Embedding)         (None, 1000, 100)    21356200    input_4[0][0]                    \n",
            "__________________________________________________________________________________________________\n",
            "embedding_6 (Embedding)         (None, 1000, 100)    21356200    input_5[0][0]                    \n",
            "__________________________________________________________________________________________________\n",
            "embedding_7 (Embedding)         (None, 1000, 100)    21356200    input_6[0][0]                    \n",
            "__________________________________________________________________________________________________\n",
            "conv1d_4 (Conv1D)               (None, 997, 16)      6416        embedding_5[0][0]                \n",
            "__________________________________________________________________________________________________\n",
            "conv1d_5 (Conv1D)               (None, 995, 16)      9616        embedding_6[0][0]                \n",
            "__________________________________________________________________________________________________\n",
            "conv1d_6 (Conv1D)               (None, 993, 16)      12816       embedding_7[0][0]                \n",
            "__________________________________________________________________________________________________\n",
            "dropout_4 (Dropout)             (None, 997, 16)      0           conv1d_4[0][0]                   \n",
            "__________________________________________________________________________________________________\n",
            "dropout_5 (Dropout)             (None, 995, 16)      0           conv1d_5[0][0]                   \n",
            "__________________________________________________________________________________________________\n",
            "dropout_6 (Dropout)             (None, 993, 16)      0           conv1d_6[0][0]                   \n",
            "__________________________________________________________________________________________________\n",
            "max_pooling1d_4 (MaxPooling1D)  (None, 498, 16)      0           dropout_4[0][0]                  \n",
            "__________________________________________________________________________________________________\n",
            "max_pooling1d_5 (MaxPooling1D)  (None, 497, 16)      0           dropout_5[0][0]                  \n",
            "__________________________________________________________________________________________________\n",
            "max_pooling1d_6 (MaxPooling1D)  (None, 496, 16)      0           dropout_6[0][0]                  \n",
            "__________________________________________________________________________________________________\n",
            "flatten_4 (Flatten)             (None, 7968)         0           max_pooling1d_4[0][0]            \n",
            "__________________________________________________________________________________________________\n",
            "flatten_5 (Flatten)             (None, 7952)         0           max_pooling1d_5[0][0]            \n",
            "__________________________________________________________________________________________________\n",
            "flatten_6 (Flatten)             (None, 7936)         0           max_pooling1d_6[0][0]            \n",
            "__________________________________________________________________________________________________\n",
            "concatenate_2 (Concatenate)     (None, 23856)        0           flatten_4[0][0]                  \n",
            "                                                                 flatten_5[0][0]                  \n",
            "                                                                 flatten_6[0][0]                  \n",
            "__________________________________________________________________________________________________\n",
            "dense_2 (Dense)                 (None, 32)           763424      concatenate_2[0][0]              \n",
            "__________________________________________________________________________________________________\n",
            "dense_3 (Dense)                 (None, 2)            66          dense_2[0][0]                    \n",
            "==================================================================================================\n",
            "Total params: 64,860,938\n",
            "Trainable params: 792,338\n",
            "Non-trainable params: 64,068,600\n",
            "__________________________________________________________________________________________________\n",
            "None\n",
            "Train on 16443 samples, validate on 10277 samples\n",
            "Epoch 1/10\n",
            "16443/16443 [==============================] - 186s 11ms/step - loss: 0.4037 - accuracy: 0.8156 - val_loss: 0.2593 - val_accuracy: 0.8904\n",
            "Epoch 2/10\n",
            "16443/16443 [==============================] - 190s 12ms/step - loss: 0.2347 - accuracy: 0.9079 - val_loss: 0.1701 - val_accuracy: 0.9417\n",
            "Epoch 3/10\n",
            "16443/16443 [==============================] - 185s 11ms/step - loss: 0.1543 - accuracy: 0.9368 - val_loss: 0.1224 - val_accuracy: 0.9586\n",
            "Epoch 4/10\n",
            "16443/16443 [==============================] - 186s 11ms/step - loss: 0.1207 - accuracy: 0.9541 - val_loss: 0.1304 - val_accuracy: 0.9549\n",
            "Epoch 5/10\n",
            "16443/16443 [==============================] - 188s 11ms/step - loss: 0.0924 - accuracy: 0.9640 - val_loss: 0.1531 - val_accuracy: 0.9428\n",
            "Epoch 6/10\n",
            "16443/16443 [==============================] - 184s 11ms/step - loss: 0.0790 - accuracy: 0.9704 - val_loss: 0.0981 - val_accuracy: 0.9709\n",
            "Epoch 7/10\n",
            "16443/16443 [==============================] - 184s 11ms/step - loss: 0.0772 - accuracy: 0.9722 - val_loss: 0.1014 - val_accuracy: 0.9690\n",
            "Epoch 8/10\n",
            "16443/16443 [==============================] - 187s 11ms/step - loss: 0.0630 - accuracy: 0.9783 - val_loss: 0.0879 - val_accuracy: 0.9732\n",
            "Epoch 9/10\n",
            "16443/16443 [==============================] - 185s 11ms/step - loss: 0.0547 - accuracy: 0.9796 - val_loss: 0.0893 - val_accuracy: 0.9765\n",
            "Epoch 10/10\n",
            "16443/16443 [==============================] - 185s 11ms/step - loss: 0.0505 - accuracy: 0.9826 - val_loss: 0.0929 - val_accuracy: 0.9727\n"
          ],
          "name": "stdout"
        }
      ]
    },
    {
      "cell_type": "code",
      "metadata": {
        "id": "bowMP0lTN9i-",
        "colab_type": "code",
        "colab": {
          "base_uri": "https://localhost:8080/",
          "height": 67
        },
        "outputId": "23d362fb-8985-4a30-d0cf-6ac0336c46ac"
      },
      "source": [
        "test_preds = model.predict([X_train, X_train, X_train])\n",
        "test_preds = np.round(test_preds)\n",
        "correct_predictions = float(sum(test_preds == y_train)[0])\n",
        "print(\"Correct predictions:\", correct_predictions)\n",
        "print(\"Total number of test examples:\", len(y_train))\n",
        "print(\"Accuracy of model1: \", correct_predictions/float(len(y_train)))"
      ],
      "execution_count": 34,
      "outputs": [
        {
          "output_type": "stream",
          "text": [
            "Correct predictions: 16404.0\n",
            "Total number of test examples: 16443\n",
            "Accuracy of model1:  0.9976281700419631\n"
          ],
          "name": "stdout"
        }
      ]
    },
    {
      "cell_type": "code",
      "metadata": {
        "id": "VcPk22ygOU9x",
        "colab_type": "code",
        "colab": {
          "base_uri": "https://localhost:8080/",
          "height": 67
        },
        "outputId": "1fa671dd-137e-49e0-c4b9-d733e5a9c61d"
      },
      "source": [
        "test_preds = model.predict([x_test, x_test, x_test])\n",
        "test_preds = np.round(test_preds)\n",
        "correct_predictions = float(sum(test_preds == y_test)[0])\n",
        "print(\"Correct predictions:\", correct_predictions)\n",
        "print(\"Total number of test examples:\", len(y_test))\n",
        "print(\"Accuracy of model1: \", correct_predictions/float(len(y_test)))"
      ],
      "execution_count": 36,
      "outputs": [
        {
          "output_type": "stream",
          "text": [
            "Correct predictions: 10250.0\n",
            "Total number of test examples: 10277\n",
            "Accuracy of model1:  0.9973727741558821\n"
          ],
          "name": "stdout"
        }
      ]
    },
    {
      "cell_type": "code",
      "metadata": {
        "id": "_VlHOQqdOj4t",
        "colab_type": "code",
        "colab": {
          "base_uri": "https://localhost:8080/",
          "height": 84
        },
        "outputId": "1b65c088-25b0-42b5-e879-526b0384e5ef"
      },
      "source": [
        "from sklearn.metrics import confusion_matrix\n",
        "import matplotlib.pyplot as plt\n",
        "import pandas as pd\n",
        "\n",
        "x_pred = model.predict([x_test, x_test, x_test])\n",
        "x_pred = np.round(x_pred)\n",
        "x_pred = x_pred.argmax(1)\n",
        "y_test_s = y_test.argmax(1)\n",
        "\n",
        "confusion_matrix = pd.crosstab(y_test_s, x_pred, rownames = ['Actual'], colnames = ['Predicted'])\n",
        "\n",
        "print (confusion_matrix)"
      ],
      "execution_count": 37,
      "outputs": [
        {
          "output_type": "stream",
          "text": [
            "Predicted     0     1\n",
            "Actual               \n",
            "0          5188    10\n",
            "1            17  5062\n"
          ],
          "name": "stdout"
        }
      ]
    },
    {
      "cell_type": "markdown",
      "metadata": {
        "id": "J70HHspnO4Jg",
        "colab_type": "text"
      },
      "source": [
        "Based on the confusion matrix, the calculations are-\n",
        "\n",
        "\n",
        "1.   Precision - 0.9981\n",
        "2.   Recall - 0.9967\n",
        "3.   Accuracy - 0.9974\n",
        "4.   F1 score - 0.9974\n",
        "\n"
      ]
    },
    {
      "cell_type": "markdown",
      "metadata": {
        "id": "SNBKxTYahB_c",
        "colab_type": "text"
      },
      "source": [
        "### **5 Channels, 16 filters**"
      ]
    },
    {
      "cell_type": "code",
      "metadata": {
        "id": "IagRJ2jHvJTN",
        "colab_type": "code",
        "outputId": "a1d73a26-8f7a-48b6-f0ad-c9ed5158709b",
        "colab": {
          "base_uri": "https://localhost:8080/",
          "height": 1000
        }
      },
      "source": [
        "from numpy import array\n",
        "from keras.models import Model\n",
        "from keras.layers import Input\n",
        "from keras.layers import Dense\n",
        "from keras.layers import Flatten\n",
        "from keras.layers import Dropout\n",
        "from keras.layers import Embedding\n",
        "from keras.layers.convolutional import Conv1D\n",
        "from keras.layers.convolutional import MaxPooling1D\n",
        "from keras.layers.merge import concatenate\n",
        "\n",
        "#channel 1\n",
        "input1 = Input(shape=(MAX_SEQUENCE_LENGTH,), dtype='int32')\n",
        "embedding1 = Embedding(len(word_index)+1 , EMBEDDING_DIM , weights = [embedding_matrix], input_length = MAX_SEQUENCE_LENGTH, trainable = False)(input1)\n",
        "conv1 = Conv1D(filters=16, kernel_size=4, activation='relu')(embedding1)\n",
        "drop1 = Dropout(0.5)(conv1)\n",
        "pool1 = MaxPooling1D(pool_size=2)(drop1)\n",
        "flat1 = Flatten()(pool1)\n",
        "\n",
        "#channel 2\n",
        "input2 = Input(shape=(MAX_SEQUENCE_LENGTH,), dtype='int32')\n",
        "embedding2 = Embedding(len(word_index)+1 , EMBEDDING_DIM , weights = [embedding_matrix], input_length = MAX_SEQUENCE_LENGTH, trainable = False)(input2)\n",
        "conv2 = Conv1D(filters=16, kernel_size=6, activation='relu')(embedding2)\n",
        "drop2 = Dropout(0.5)(conv2)\n",
        "pool2 = MaxPooling1D(pool_size=2)(drop2)\n",
        "flat2 = Flatten()(pool2)\n",
        "\n",
        "#channel 3\n",
        "input3 = Input(shape=(MAX_SEQUENCE_LENGTH,), dtype='int32')\n",
        "embedding3 = Embedding(len(word_index)+1 , EMBEDDING_DIM , weights = [embedding_matrix], input_length = MAX_SEQUENCE_LENGTH, trainable = False)(input3)\n",
        "conv3 = Conv1D(filters=16, kernel_size=8, activation='relu')(embedding3)\n",
        "drop3 = Dropout(0.5)(conv3)\n",
        "pool3 = MaxPooling1D(pool_size=2)(drop3)\n",
        "flat3 = Flatten()(pool3)\n",
        "\n",
        "#channel 4\n",
        "input4 = Input(shape=(MAX_SEQUENCE_LENGTH,), dtype='int32')\n",
        "embedding4 = Embedding(len(word_index)+1 , EMBEDDING_DIM , weights = [embedding_matrix], input_length = MAX_SEQUENCE_LENGTH, trainable = False)(input4)\n",
        "conv4 = Conv1D(filters=16, kernel_size=10, activation='relu')(embedding4)\n",
        "drop4 = Dropout(0.5)(conv4)\n",
        "pool4 = MaxPooling1D(pool_size=2)(drop4)\n",
        "flat4 = Flatten()(pool4)\n",
        "\n",
        "#channel 5\n",
        "input5 = Input(shape=(MAX_SEQUENCE_LENGTH,), dtype='int32')\n",
        "embedding5 = Embedding(len(word_index)+1 , EMBEDDING_DIM , weights = [embedding_matrix], input_length = MAX_SEQUENCE_LENGTH, trainable = False)(input5)\n",
        "conv5 = Conv1D(filters=16, kernel_size=12, activation='relu')(embedding5)\n",
        "drop5 = Dropout(0.5)(conv5)\n",
        "pool5 = MaxPooling1D(pool_size=2)(drop5)\n",
        "flat5 = Flatten()(pool5)\n",
        "\n",
        "merged = concatenate([flat1, flat2, flat3, flat4, flat5])\n",
        "\n",
        "\n",
        "# dense1 = Dense(256, activation = 'relu')(merged)\n",
        "# dense2 = Dense(128, activation = 'relu')(dense1)\n",
        "# dense3 = Dense(64, activation = 'relu')(dense2)\n",
        "dense4 = Dense(32, activation = 'relu')(merged)\n",
        "outputs = Dense(2, activation = 'softmax')(dense4)\n",
        "\n",
        "model = Model(inputs=[input1, input2, input3, input4, input5], outputs=outputs)\n",
        "\n",
        "model.compile(loss='binary_crossentropy', optimizer='adam', metrics=['accuracy'])\n",
        "\n",
        "print(model.summary())\n",
        "multicnn5 = model.fit([X_train, X_train, X_train, X_train, X_train], array(y_train), validation_data = ([x_val, x_val, x_val, x_val, x_val], y_val),  epochs=10, batch_size=16)\n",
        "\n",
        "\n"
      ],
      "execution_count": 39,
      "outputs": [
        {
          "output_type": "stream",
          "text": [
            "Model: \"model_3\"\n",
            "__________________________________________________________________________________________________\n",
            "Layer (type)                    Output Shape         Param #     Connected to                     \n",
            "==================================================================================================\n",
            "input_12 (InputLayer)           (None, 1000)         0                                            \n",
            "__________________________________________________________________________________________________\n",
            "input_13 (InputLayer)           (None, 1000)         0                                            \n",
            "__________________________________________________________________________________________________\n",
            "input_14 (InputLayer)           (None, 1000)         0                                            \n",
            "__________________________________________________________________________________________________\n",
            "input_15 (InputLayer)           (None, 1000)         0                                            \n",
            "__________________________________________________________________________________________________\n",
            "input_16 (InputLayer)           (None, 1000)         0                                            \n",
            "__________________________________________________________________________________________________\n",
            "embedding_13 (Embedding)        (None, 1000, 100)    21356200    input_12[0][0]                   \n",
            "__________________________________________________________________________________________________\n",
            "embedding_14 (Embedding)        (None, 1000, 100)    21356200    input_13[0][0]                   \n",
            "__________________________________________________________________________________________________\n",
            "embedding_15 (Embedding)        (None, 1000, 100)    21356200    input_14[0][0]                   \n",
            "__________________________________________________________________________________________________\n",
            "embedding_16 (Embedding)        (None, 1000, 100)    21356200    input_15[0][0]                   \n",
            "__________________________________________________________________________________________________\n",
            "embedding_17 (Embedding)        (None, 1000, 100)    21356200    input_16[0][0]                   \n",
            "__________________________________________________________________________________________________\n",
            "conv1d_12 (Conv1D)              (None, 997, 16)      6416        embedding_13[0][0]               \n",
            "__________________________________________________________________________________________________\n",
            "conv1d_13 (Conv1D)              (None, 995, 16)      9616        embedding_14[0][0]               \n",
            "__________________________________________________________________________________________________\n",
            "conv1d_14 (Conv1D)              (None, 993, 16)      12816       embedding_15[0][0]               \n",
            "__________________________________________________________________________________________________\n",
            "conv1d_15 (Conv1D)              (None, 991, 16)      16016       embedding_16[0][0]               \n",
            "__________________________________________________________________________________________________\n",
            "conv1d_16 (Conv1D)              (None, 989, 16)      19216       embedding_17[0][0]               \n",
            "__________________________________________________________________________________________________\n",
            "dropout_12 (Dropout)            (None, 997, 16)      0           conv1d_12[0][0]                  \n",
            "__________________________________________________________________________________________________\n",
            "dropout_13 (Dropout)            (None, 995, 16)      0           conv1d_13[0][0]                  \n",
            "__________________________________________________________________________________________________\n",
            "dropout_14 (Dropout)            (None, 993, 16)      0           conv1d_14[0][0]                  \n",
            "__________________________________________________________________________________________________\n",
            "dropout_15 (Dropout)            (None, 991, 16)      0           conv1d_15[0][0]                  \n",
            "__________________________________________________________________________________________________\n",
            "dropout_16 (Dropout)            (None, 989, 16)      0           conv1d_16[0][0]                  \n",
            "__________________________________________________________________________________________________\n",
            "max_pooling1d_12 (MaxPooling1D) (None, 498, 16)      0           dropout_12[0][0]                 \n",
            "__________________________________________________________________________________________________\n",
            "max_pooling1d_13 (MaxPooling1D) (None, 497, 16)      0           dropout_13[0][0]                 \n",
            "__________________________________________________________________________________________________\n",
            "max_pooling1d_14 (MaxPooling1D) (None, 496, 16)      0           dropout_14[0][0]                 \n",
            "__________________________________________________________________________________________________\n",
            "max_pooling1d_15 (MaxPooling1D) (None, 495, 16)      0           dropout_15[0][0]                 \n",
            "__________________________________________________________________________________________________\n",
            "max_pooling1d_16 (MaxPooling1D) (None, 494, 16)      0           dropout_16[0][0]                 \n",
            "__________________________________________________________________________________________________\n",
            "flatten_12 (Flatten)            (None, 7968)         0           max_pooling1d_12[0][0]           \n",
            "__________________________________________________________________________________________________\n",
            "flatten_13 (Flatten)            (None, 7952)         0           max_pooling1d_13[0][0]           \n",
            "__________________________________________________________________________________________________\n",
            "flatten_14 (Flatten)            (None, 7936)         0           max_pooling1d_14[0][0]           \n",
            "__________________________________________________________________________________________________\n",
            "flatten_15 (Flatten)            (None, 7920)         0           max_pooling1d_15[0][0]           \n",
            "__________________________________________________________________________________________________\n",
            "flatten_16 (Flatten)            (None, 7904)         0           max_pooling1d_16[0][0]           \n",
            "__________________________________________________________________________________________________\n",
            "concatenate_4 (Concatenate)     (None, 39680)        0           flatten_12[0][0]                 \n",
            "                                                                 flatten_13[0][0]                 \n",
            "                                                                 flatten_14[0][0]                 \n",
            "                                                                 flatten_15[0][0]                 \n",
            "                                                                 flatten_16[0][0]                 \n",
            "__________________________________________________________________________________________________\n",
            "dense_6 (Dense)                 (None, 32)           1269792     concatenate_4[0][0]              \n",
            "__________________________________________________________________________________________________\n",
            "dense_7 (Dense)                 (None, 2)            66          dense_6[0][0]                    \n",
            "==================================================================================================\n",
            "Total params: 108,114,938\n",
            "Trainable params: 1,333,938\n",
            "Non-trainable params: 106,781,000\n",
            "__________________________________________________________________________________________________\n",
            "None\n",
            "Train on 16443 samples, validate on 10277 samples\n",
            "Epoch 1/10\n",
            "16443/16443 [==============================] - 385s 23ms/step - loss: 0.4162 - accuracy: 0.8182 - val_loss: 0.2845 - val_accuracy: 0.8805\n",
            "Epoch 2/10\n",
            "16443/16443 [==============================] - 385s 23ms/step - loss: 0.2176 - accuracy: 0.9156 - val_loss: 0.1518 - val_accuracy: 0.9470\n",
            "Epoch 3/10\n",
            "16443/16443 [==============================] - 383s 23ms/step - loss: 0.1429 - accuracy: 0.9436 - val_loss: 0.2059 - val_accuracy: 0.9197\n",
            "Epoch 4/10\n",
            "16443/16443 [==============================] - 381s 23ms/step - loss: 0.1044 - accuracy: 0.9603 - val_loss: 0.0916 - val_accuracy: 0.9697\n",
            "Epoch 5/10\n",
            "16443/16443 [==============================] - 380s 23ms/step - loss: 0.0880 - accuracy: 0.9644 - val_loss: 0.1320 - val_accuracy: 0.9563\n",
            "Epoch 6/10\n",
            "16443/16443 [==============================] - 387s 24ms/step - loss: 0.0741 - accuracy: 0.9731 - val_loss: 0.0987 - val_accuracy: 0.9697\n",
            "Epoch 7/10\n",
            "16443/16443 [==============================] - 385s 23ms/step - loss: 0.0644 - accuracy: 0.9777 - val_loss: 0.1020 - val_accuracy: 0.9666\n",
            "Epoch 8/10\n",
            "16443/16443 [==============================] - 379s 23ms/step - loss: 0.0567 - accuracy: 0.9791 - val_loss: 0.1618 - val_accuracy: 0.9476\n",
            "Epoch 9/10\n",
            "16443/16443 [==============================] - 384s 23ms/step - loss: 0.0489 - accuracy: 0.9817 - val_loss: 0.0944 - val_accuracy: 0.9745\n",
            "Epoch 10/10\n",
            "16443/16443 [==============================] - 397s 24ms/step - loss: 0.0573 - accuracy: 0.9826 - val_loss: 0.0958 - val_accuracy: 0.9719\n"
          ],
          "name": "stdout"
        }
      ]
    },
    {
      "cell_type": "code",
      "metadata": {
        "id": "dWn9DxgieXZE",
        "colab_type": "code",
        "colab": {
          "base_uri": "https://localhost:8080/",
          "height": 67
        },
        "outputId": "52d860df-bf3d-4375-e9ae-175c2687707b"
      },
      "source": [
        "test_preds = model.predict([X_train, X_train, X_train, X_train, X_train])\n",
        "test_preds = np.round(test_preds)\n",
        "correct_predictions = float(sum(test_preds == y_train)[0])\n",
        "print(\"Correct predictions:\", correct_predictions)\n",
        "print(\"Total number of test examples:\", len(y_train))\n",
        "print(\"Accuracy of model1: \", correct_predictions/float(len(y_train)))"
      ],
      "execution_count": 41,
      "outputs": [
        {
          "output_type": "stream",
          "text": [
            "Correct predictions: 16392.0\n",
            "Total number of test examples: 16443\n",
            "Accuracy of model1:  0.996898376208721\n"
          ],
          "name": "stdout"
        }
      ]
    },
    {
      "cell_type": "code",
      "metadata": {
        "id": "bPyXacEee2ad",
        "colab_type": "code",
        "colab": {
          "base_uri": "https://localhost:8080/",
          "height": 67
        },
        "outputId": "a400ab38-de54-4957-b7d9-84192c5355fd"
      },
      "source": [
        "test_preds = model.predict([x_test, x_test, x_test, x_test, x_test])\n",
        "test_preds = np.round(test_preds)\n",
        "correct_predictions = float(sum(test_preds == y_test)[0])\n",
        "print(\"Correct predictions:\", correct_predictions)\n",
        "print(\"Total number of test examples:\", len(y_test))\n",
        "print(\"Accuracy of model1: \", correct_predictions/float(len(y_test)))"
      ],
      "execution_count": 42,
      "outputs": [
        {
          "output_type": "stream",
          "text": [
            "Correct predictions: 10245.0\n",
            "Total number of test examples: 10277\n",
            "Accuracy of model1:  0.9968862508514158\n"
          ],
          "name": "stdout"
        }
      ]
    },
    {
      "cell_type": "code",
      "metadata": {
        "id": "5W_XBndBfSqt",
        "colab_type": "code",
        "colab": {
          "base_uri": "https://localhost:8080/",
          "height": 84
        },
        "outputId": "c0641c15-fc1c-4468-b931-1fb90dd7a254"
      },
      "source": [
        "from sklearn.metrics import confusion_matrix\n",
        "import matplotlib.pyplot as plt\n",
        "import pandas as pd\n",
        "\n",
        "x_pred = model.predict([x_test, x_test, x_test, x_test, x_test])\n",
        "x_pred = np.round(x_pred)\n",
        "x_pred = x_pred.argmax(1)\n",
        "y_test_s = y_test.argmax(1)\n",
        "\n",
        "confusion_matrix = pd.crosstab(y_test_s, x_pred, rownames = ['Actual'], colnames = ['Predicted'])\n",
        "\n",
        "print (confusion_matrix)"
      ],
      "execution_count": 44,
      "outputs": [
        {
          "output_type": "stream",
          "text": [
            "Predicted     0     1\n",
            "Actual               \n",
            "0          5171    27\n",
            "1             5  5074\n"
          ],
          "name": "stdout"
        }
      ]
    },
    {
      "cell_type": "markdown",
      "metadata": {
        "id": "jaM3_66Jf2fw",
        "colab_type": "text"
      },
      "source": [
        "Based on the confusion matrix, the calculations are -\n",
        "\n",
        "\n",
        "1.   Precision - 0.9948\n",
        "2.   Recall - 0.9990\n",
        "3.   Accuracy - 0.9969\n",
        "4.   F1 score - 0.9969\n",
        "\n"
      ]
    },
    {
      "cell_type": "markdown",
      "metadata": {
        "id": "q8bq-0sDWuGb",
        "colab_type": "text"
      },
      "source": [
        "### **7 channels 8 filters**"
      ]
    },
    {
      "cell_type": "code",
      "metadata": {
        "id": "PoYNql0B4n8K",
        "colab_type": "code",
        "colab": {
          "base_uri": "https://localhost:8080/",
          "height": 1000
        },
        "outputId": "f5fc6415-de34-4d34-9cac-8fce1ab9f8d1"
      },
      "source": [
        "from numpy import array\n",
        "from keras.models import Model\n",
        "from keras.layers import Input\n",
        "from keras.layers import Dense\n",
        "from keras.layers import Flatten\n",
        "from keras.layers import Dropout\n",
        "from keras.layers import Embedding\n",
        "from keras.layers.convolutional import Conv1D\n",
        "from keras.layers.convolutional import MaxPooling1D\n",
        "from keras.layers.merge import concatenate\n",
        "\n",
        "#channel 1\n",
        "input1 = Input(shape=(MAX_SEQUENCE_LENGTH,), dtype='int32')\n",
        "embedding1 = Embedding(len(word_index)+1 , EMBEDDING_DIM , weights = [embedding_matrix], input_length = MAX_SEQUENCE_LENGTH, trainable = False)(input1)\n",
        "conv1 = Conv1D(filters=8, kernel_size=4, activation='relu')(embedding1)\n",
        "drop1 = Dropout(0.5)(conv1)\n",
        "pool1 = MaxPooling1D(pool_size=2)(drop1)\n",
        "flat1 = Flatten()(pool1)\n",
        "\n",
        "#channel 2\n",
        "input2 = Input(shape=(MAX_SEQUENCE_LENGTH,), dtype='int32')\n",
        "embedding2 = Embedding(len(word_index)+1 , EMBEDDING_DIM , weights = [embedding_matrix], input_length = MAX_SEQUENCE_LENGTH, trainable = False)(input2)\n",
        "conv2 = Conv1D(filters=8, kernel_size=6, activation='relu')(embedding2)\n",
        "drop2 = Dropout(0.5)(conv2)\n",
        "pool2 = MaxPooling1D(pool_size=2)(drop2)\n",
        "flat2 = Flatten()(pool2)\n",
        "\n",
        "#channel 3\n",
        "input3 = Input(shape=(MAX_SEQUENCE_LENGTH,), dtype='int32')\n",
        "embedding3 = Embedding(len(word_index)+1 , EMBEDDING_DIM , weights = [embedding_matrix], input_length = MAX_SEQUENCE_LENGTH, trainable = False)(input3)\n",
        "conv3 = Conv1D(filters=8, kernel_size=8, activation='relu')(embedding3)\n",
        "drop3 = Dropout(0.5)(conv3)\n",
        "pool3 = MaxPooling1D(pool_size=2)(drop3)\n",
        "flat3 = Flatten()(pool3)\n",
        "\n",
        "#channel 4\n",
        "input4 = Input(shape=(MAX_SEQUENCE_LENGTH,), dtype='int32')\n",
        "embedding4 = Embedding(len(word_index)+1 , EMBEDDING_DIM , weights = [embedding_matrix], input_length = MAX_SEQUENCE_LENGTH, trainable = False)(input4)\n",
        "conv4 = Conv1D(filters=8, kernel_size=10, activation='relu')(embedding4)\n",
        "drop4 = Dropout(0.5)(conv4)\n",
        "pool4 = MaxPooling1D(pool_size=2)(drop4)\n",
        "flat4 = Flatten()(pool4)\n",
        "\n",
        "#channel 5\n",
        "input5 = Input(shape=(MAX_SEQUENCE_LENGTH,), dtype='int32')\n",
        "embedding5 = Embedding(len(word_index)+1 , EMBEDDING_DIM , weights = [embedding_matrix], input_length = MAX_SEQUENCE_LENGTH, trainable = False)(input5)\n",
        "conv5 = Conv1D(filters=8, kernel_size=12, activation='relu')(embedding5)\n",
        "drop5 = Dropout(0.5)(conv5)\n",
        "pool5 = MaxPooling1D(pool_size=2)(drop5)\n",
        "flat5 = Flatten()(pool5)\n",
        "\n",
        "#channel 6\n",
        "input6 = Input(shape=(MAX_SEQUENCE_LENGTH,), dtype='int32')\n",
        "embedding6 = Embedding(len(word_index)+1 , EMBEDDING_DIM , weights = [embedding_matrix], input_length = MAX_SEQUENCE_LENGTH, trainable = False)(input6)\n",
        "conv6 = Conv1D(filters=8, kernel_size=14, activation='relu')(embedding6)\n",
        "drop6 = Dropout(0.5)(conv6)\n",
        "pool6 = MaxPooling1D(pool_size=2)(drop6)\n",
        "flat6 = Flatten()(pool6)\n",
        "\n",
        "#channel 7\n",
        "input7 = Input(shape=(MAX_SEQUENCE_LENGTH,), dtype='int32')\n",
        "embedding7 = Embedding(len(word_index)+1 , EMBEDDING_DIM , weights = [embedding_matrix], input_length = MAX_SEQUENCE_LENGTH, trainable = False)(input7)\n",
        "conv7 = Conv1D(filters=8, kernel_size=16, activation='relu')(embedding7)\n",
        "drop7 = Dropout(0.5)(conv7)\n",
        "pool7 = MaxPooling1D(pool_size=2)(drop7)\n",
        "flat7 = Flatten()(pool7)\n",
        "\n",
        "\n",
        "merged = concatenate([flat1, flat2, flat3, flat4, flat5, flat6, flat7])\n",
        "\n",
        "\n",
        "# dense1 = Dense(256, activation = 'relu')(merged)\n",
        "# dense2 = Dense(128, activation = 'relu')(dense1)\n",
        "# dense3 = Dense(64, activation = 'relu')(dense2)\n",
        "dense4 = Dense(32, activation = 'relu')(merged)\n",
        "outputs = Dense(2, activation = 'softmax')(dense4)\n",
        "\n",
        "model7 = Model(inputs=[input1, input2, input3, input4, input5, input6, input7], outputs=outputs)\n",
        "\n",
        "model7.compile(loss='binary_crossentropy', optimizer='adam', metrics=['accuracy'])\n",
        "\n",
        "print(model7.summary())\n",
        "multicnn7 = model7.fit([X_train, X_train, X_train, X_train, X_train, X_train, X_train], array(y_train), validation_data = ([x_val, x_val, x_val, x_val, x_val, x_val, x_val], y_val),  epochs=10, batch_size=16)\n",
        "\n",
        "\n"
      ],
      "execution_count": 69,
      "outputs": [
        {
          "output_type": "stream",
          "text": [
            "Model: \"model_11\"\n",
            "__________________________________________________________________________________________________\n",
            "Layer (type)                    Output Shape         Param #     Connected to                     \n",
            "==================================================================================================\n",
            "input_38 (InputLayer)           (None, 1000)         0                                            \n",
            "__________________________________________________________________________________________________\n",
            "input_39 (InputLayer)           (None, 1000)         0                                            \n",
            "__________________________________________________________________________________________________\n",
            "input_40 (InputLayer)           (None, 1000)         0                                            \n",
            "__________________________________________________________________________________________________\n",
            "input_41 (InputLayer)           (None, 1000)         0                                            \n",
            "__________________________________________________________________________________________________\n",
            "input_42 (InputLayer)           (None, 1000)         0                                            \n",
            "__________________________________________________________________________________________________\n",
            "input_43 (InputLayer)           (None, 1000)         0                                            \n",
            "__________________________________________________________________________________________________\n",
            "input_44 (InputLayer)           (None, 1000)         0                                            \n",
            "__________________________________________________________________________________________________\n",
            "embedding_39 (Embedding)        (None, 1000, 100)    21356200    input_38[0][0]                   \n",
            "__________________________________________________________________________________________________\n",
            "embedding_40 (Embedding)        (None, 1000, 100)    21356200    input_39[0][0]                   \n",
            "__________________________________________________________________________________________________\n",
            "embedding_41 (Embedding)        (None, 1000, 100)    21356200    input_40[0][0]                   \n",
            "__________________________________________________________________________________________________\n",
            "embedding_42 (Embedding)        (None, 1000, 100)    21356200    input_41[0][0]                   \n",
            "__________________________________________________________________________________________________\n",
            "embedding_43 (Embedding)        (None, 1000, 100)    21356200    input_42[0][0]                   \n",
            "__________________________________________________________________________________________________\n",
            "embedding_44 (Embedding)        (None, 1000, 100)    21356200    input_43[0][0]                   \n",
            "__________________________________________________________________________________________________\n",
            "embedding_45 (Embedding)        (None, 1000, 100)    21356200    input_44[0][0]                   \n",
            "__________________________________________________________________________________________________\n",
            "conv1d_38 (Conv1D)              (None, 997, 8)       3208        embedding_39[0][0]               \n",
            "__________________________________________________________________________________________________\n",
            "conv1d_39 (Conv1D)              (None, 995, 8)       4808        embedding_40[0][0]               \n",
            "__________________________________________________________________________________________________\n",
            "conv1d_40 (Conv1D)              (None, 993, 8)       6408        embedding_41[0][0]               \n",
            "__________________________________________________________________________________________________\n",
            "conv1d_41 (Conv1D)              (None, 991, 8)       8008        embedding_42[0][0]               \n",
            "__________________________________________________________________________________________________\n",
            "conv1d_42 (Conv1D)              (None, 989, 8)       9608        embedding_43[0][0]               \n",
            "__________________________________________________________________________________________________\n",
            "conv1d_43 (Conv1D)              (None, 987, 8)       11208       embedding_44[0][0]               \n",
            "__________________________________________________________________________________________________\n",
            "conv1d_44 (Conv1D)              (None, 985, 8)       12808       embedding_45[0][0]               \n",
            "__________________________________________________________________________________________________\n",
            "dropout_38 (Dropout)            (None, 997, 8)       0           conv1d_38[0][0]                  \n",
            "__________________________________________________________________________________________________\n",
            "dropout_39 (Dropout)            (None, 995, 8)       0           conv1d_39[0][0]                  \n",
            "__________________________________________________________________________________________________\n",
            "dropout_40 (Dropout)            (None, 993, 8)       0           conv1d_40[0][0]                  \n",
            "__________________________________________________________________________________________________\n",
            "dropout_41 (Dropout)            (None, 991, 8)       0           conv1d_41[0][0]                  \n",
            "__________________________________________________________________________________________________\n",
            "dropout_42 (Dropout)            (None, 989, 8)       0           conv1d_42[0][0]                  \n",
            "__________________________________________________________________________________________________\n",
            "dropout_43 (Dropout)            (None, 987, 8)       0           conv1d_43[0][0]                  \n",
            "__________________________________________________________________________________________________\n",
            "dropout_44 (Dropout)            (None, 985, 8)       0           conv1d_44[0][0]                  \n",
            "__________________________________________________________________________________________________\n",
            "max_pooling1d_38 (MaxPooling1D) (None, 498, 8)       0           dropout_38[0][0]                 \n",
            "__________________________________________________________________________________________________\n",
            "max_pooling1d_39 (MaxPooling1D) (None, 497, 8)       0           dropout_39[0][0]                 \n",
            "__________________________________________________________________________________________________\n",
            "max_pooling1d_40 (MaxPooling1D) (None, 496, 8)       0           dropout_40[0][0]                 \n",
            "__________________________________________________________________________________________________\n",
            "max_pooling1d_41 (MaxPooling1D) (None, 495, 8)       0           dropout_41[0][0]                 \n",
            "__________________________________________________________________________________________________\n",
            "max_pooling1d_42 (MaxPooling1D) (None, 494, 8)       0           dropout_42[0][0]                 \n",
            "__________________________________________________________________________________________________\n",
            "max_pooling1d_43 (MaxPooling1D) (None, 493, 8)       0           dropout_43[0][0]                 \n",
            "__________________________________________________________________________________________________\n",
            "max_pooling1d_44 (MaxPooling1D) (None, 492, 8)       0           dropout_44[0][0]                 \n",
            "__________________________________________________________________________________________________\n",
            "flatten_38 (Flatten)            (None, 3984)         0           max_pooling1d_38[0][0]           \n",
            "__________________________________________________________________________________________________\n",
            "flatten_39 (Flatten)            (None, 3976)         0           max_pooling1d_39[0][0]           \n",
            "__________________________________________________________________________________________________\n",
            "flatten_40 (Flatten)            (None, 3968)         0           max_pooling1d_40[0][0]           \n",
            "__________________________________________________________________________________________________\n",
            "flatten_41 (Flatten)            (None, 3960)         0           max_pooling1d_41[0][0]           \n",
            "__________________________________________________________________________________________________\n",
            "flatten_42 (Flatten)            (None, 3952)         0           max_pooling1d_42[0][0]           \n",
            "__________________________________________________________________________________________________\n",
            "flatten_43 (Flatten)            (None, 3944)         0           max_pooling1d_43[0][0]           \n",
            "__________________________________________________________________________________________________\n",
            "flatten_44 (Flatten)            (None, 3936)         0           max_pooling1d_44[0][0]           \n",
            "__________________________________________________________________________________________________\n",
            "concatenate_13 (Concatenate)    (None, 27720)        0           flatten_38[0][0]                 \n",
            "                                                                 flatten_39[0][0]                 \n",
            "                                                                 flatten_40[0][0]                 \n",
            "                                                                 flatten_41[0][0]                 \n",
            "                                                                 flatten_42[0][0]                 \n",
            "                                                                 flatten_43[0][0]                 \n",
            "                                                                 flatten_44[0][0]                 \n",
            "__________________________________________________________________________________________________\n",
            "dense_22 (Dense)                (None, 32)           887072      concatenate_13[0][0]             \n",
            "__________________________________________________________________________________________________\n",
            "dense_23 (Dense)                (None, 2)            66          dense_22[0][0]                   \n",
            "==================================================================================================\n",
            "Total params: 150,436,594\n",
            "Trainable params: 943,194\n",
            "Non-trainable params: 149,493,400\n",
            "__________________________________________________________________________________________________\n",
            "None\n",
            "Train on 16443 samples, validate on 10277 samples\n",
            "Epoch 1/10\n",
            "16443/16443 [==============================] - 596s 36ms/step - loss: 0.4654 - accuracy: 0.7801 - val_loss: 0.2834 - val_accuracy: 0.8825\n",
            "Epoch 2/10\n",
            "16443/16443 [==============================] - 606s 37ms/step - loss: 0.2797 - accuracy: 0.8887 - val_loss: 0.3786 - val_accuracy: 0.9069\n",
            "Epoch 3/10\n",
            "16443/16443 [==============================] - 594s 36ms/step - loss: 0.1847 - accuracy: 0.9267 - val_loss: 0.1536 - val_accuracy: 0.9493\n",
            "Epoch 4/10\n",
            "16443/16443 [==============================] - 584s 36ms/step - loss: 0.1489 - accuracy: 0.9451 - val_loss: 0.1182 - val_accuracy: 0.9585\n",
            "Epoch 5/10\n",
            "16443/16443 [==============================] - 569s 35ms/step - loss: 0.1118 - accuracy: 0.9570 - val_loss: 0.0992 - val_accuracy: 0.9664\n",
            "Epoch 6/10\n",
            "16443/16443 [==============================] - 579s 35ms/step - loss: 0.0893 - accuracy: 0.9653 - val_loss: 0.0915 - val_accuracy: 0.9698\n",
            "Epoch 7/10\n",
            "16443/16443 [==============================] - 582s 35ms/step - loss: 0.0768 - accuracy: 0.9719 - val_loss: 0.0944 - val_accuracy: 0.9697\n",
            "Epoch 8/10\n",
            "16443/16443 [==============================] - 582s 35ms/step - loss: 0.0644 - accuracy: 0.9760 - val_loss: 0.0890 - val_accuracy: 0.9731\n",
            "Epoch 9/10\n",
            "16443/16443 [==============================] - 576s 35ms/step - loss: 0.0567 - accuracy: 0.9801 - val_loss: 0.0840 - val_accuracy: 0.9732\n",
            "Epoch 10/10\n",
            "16443/16443 [==============================] - 577s 35ms/step - loss: 0.0605 - accuracy: 0.9780 - val_loss: 0.0899 - val_accuracy: 0.9729\n"
          ],
          "name": "stdout"
        }
      ]
    },
    {
      "cell_type": "code",
      "metadata": {
        "id": "Q7oG_4d6WpD2",
        "colab_type": "code",
        "colab": {
          "base_uri": "https://localhost:8080/",
          "height": 67
        },
        "outputId": "130a5646-9527-4b52-efcc-88b246462be1"
      },
      "source": [
        "test_preds = model7.predict([X_train, X_train,X_train, X_train,X_train, X_train,X_train])\n",
        "test_preds = np.round(test_preds)\n",
        "correct_predictions = float(sum(test_preds == y_train)[0])\n",
        "print(\"Correct predictions:\", correct_predictions)\n",
        "print(\"Total number of test examples:\", len(y_train))\n",
        "print(\"Accuracy of model1: \", correct_predictions/float(len(y_train)))"
      ],
      "execution_count": 71,
      "outputs": [
        {
          "output_type": "stream",
          "text": [
            "Correct predictions: 16390.0\n",
            "Total number of test examples: 16443\n",
            "Accuracy of model1:  0.9967767439031807\n"
          ],
          "name": "stdout"
        }
      ]
    },
    {
      "cell_type": "code",
      "metadata": {
        "id": "ftZftg4AW5CW",
        "colab_type": "code",
        "colab": {
          "base_uri": "https://localhost:8080/",
          "height": 67
        },
        "outputId": "53472b4f-31f4-4711-f832-b11bcc2b0fba"
      },
      "source": [
        "test_preds = model7.predict([x_test, x_test, x_test, x_test, x_test, x_test, x_test])\n",
        "test_preds = np.round(test_preds)\n",
        "correct_predictions = float(sum(test_preds == y_test)[0])\n",
        "print(\"Correct predictions:\", correct_predictions)\n",
        "print(\"Total number of test examples:\", len(y_test))\n",
        "print(\"Accuracy of model1: \", correct_predictions/float(len(y_test)))"
      ],
      "execution_count": 72,
      "outputs": [
        {
          "output_type": "stream",
          "text": [
            "Correct predictions: 10243.0\n",
            "Total number of test examples: 10277\n",
            "Accuracy of model1:  0.9966916415296293\n"
          ],
          "name": "stdout"
        }
      ]
    },
    {
      "cell_type": "code",
      "metadata": {
        "id": "0YBAE7dWW8Fs",
        "colab_type": "code",
        "colab": {
          "base_uri": "https://localhost:8080/",
          "height": 84
        },
        "outputId": "bb1747ff-2930-45d0-dd1b-b5cf69f3bdcd"
      },
      "source": [
        "from sklearn.metrics import confusion_matrix\n",
        "import matplotlib.pyplot as plt\n",
        "import pandas as pd\n",
        "\n",
        "x_pred = model7.predict([x_test, x_test, x_test, x_test, x_test, x_test, x_test])\n",
        "x_pred = np.round(x_pred)\n",
        "x_pred = x_pred.argmax(1)\n",
        "y_test_s = y_test.argmax(1)\n",
        "\n",
        "confusion_matrix = pd.crosstab(y_test_s, x_pred, rownames = ['Actual'], colnames = ['Predicted'])\n",
        "\n",
        "print (confusion_matrix)"
      ],
      "execution_count": 73,
      "outputs": [
        {
          "output_type": "stream",
          "text": [
            "Predicted     0     1\n",
            "Actual               \n",
            "0          5174    24\n",
            "1            10  5069\n"
          ],
          "name": "stdout"
        }
      ]
    },
    {
      "cell_type": "markdown",
      "metadata": {
        "id": "RllKEFu-XclB",
        "colab_type": "text"
      },
      "source": [
        "Based on the confusion matrix, the calculations are-\n",
        "\n",
        "\n",
        "1.   Precision - 0.9954\n",
        "2.   Recall - 0.9981\n",
        "3.   Accuracy - 0.9967\n",
        "4.   F1 score - 0.9967\n",
        "\n"
      ]
    },
    {
      "cell_type": "markdown",
      "metadata": {
        "id": "pzf8Lo_4hF5d",
        "colab_type": "text"
      },
      "source": [
        "### **2 Channels, 32 filters**"
      ]
    },
    {
      "cell_type": "code",
      "metadata": {
        "id": "XBJGx1MMgM9q",
        "colab_type": "code",
        "colab": {
          "base_uri": "https://localhost:8080/",
          "height": 1000
        },
        "outputId": "8f2d07c3-3adc-4392-cea9-dcb9fbd48f09"
      },
      "source": [
        "from numpy import array\n",
        "from keras.models import Model\n",
        "from keras.layers import Input\n",
        "from keras.layers import Dense\n",
        "from keras.layers import Flatten\n",
        "from keras.layers import Dropout\n",
        "from keras.layers import Embedding\n",
        "from keras.layers.convolutional import Conv1D\n",
        "from keras.layers.convolutional import MaxPooling1D\n",
        "from keras.layers.merge import concatenate\n",
        "\n",
        "#channel 1\n",
        "input1 = Input(shape=(MAX_SEQUENCE_LENGTH,), dtype='int32')\n",
        "embedding1 = Embedding(len(word_index)+1 , EMBEDDING_DIM , weights = [embedding_matrix], input_length = MAX_SEQUENCE_LENGTH, trainable = False)(input1)\n",
        "conv1 = Conv1D(filters=32, kernel_size=4, activation='relu')(embedding1)\n",
        "drop1 = Dropout(0.5)(conv1)\n",
        "pool1 = MaxPooling1D(pool_size=2)(drop1)\n",
        "flat1 = Flatten()(pool1)\n",
        "\n",
        "#channel 2\n",
        "input2 = Input(shape=(MAX_SEQUENCE_LENGTH,), dtype='int32')\n",
        "embedding2 = Embedding(len(word_index)+1 , EMBEDDING_DIM , weights = [embedding_matrix], input_length = MAX_SEQUENCE_LENGTH, trainable = False)(input2)\n",
        "conv2 = Conv1D(filters=32, kernel_size=6, activation='relu')(embedding2)\n",
        "drop2 = Dropout(0.5)(conv2)\n",
        "pool2 = MaxPooling1D(pool_size=2)(drop2)\n",
        "flat2 = Flatten()(pool2)\n",
        "\n",
        "# #channel 3\n",
        "# input3 = Input(shape=(MAX_SEQUENCE_LENGTH,), dtype='int32')\n",
        "# embedding3 = Embedding(len(word_index)+1 , EMBEDDING_DIM , weights = [embedding_matrix], input_length = MAX_SEQUENCE_LENGTH, trainable = False)(input3)\n",
        "# conv3 = Conv1D(filters=32, kernel_size=8, activation='relu')(embedding3)\n",
        "# drop3 = Dropout(0.5)(conv3)\n",
        "# pool3 = MaxPooling1D(pool_size=2)(drop3)\n",
        "# flat3 = Flatten()(pool3)\n",
        "\n",
        "\n",
        "merged = concatenate([flat1, flat2])\n",
        "\n",
        "\n",
        "# dense1 = Dense(256, activation = 'relu')(merged)\n",
        "# dense2 = Dense(128, activation = 'relu')(dense1)\n",
        "# dense3 = Dense(64, activation = 'relu')(dense2)\n",
        "dense4 = Dense(32, activation = 'relu')(merged)\n",
        "outputs = Dense(2, activation = 'softmax')(dense4)\n",
        "\n",
        "model3 = Model(inputs=[input1, input2], outputs=outputs)\n",
        "\n",
        "model3.compile(loss='binary_crossentropy', optimizer='adam', metrics=['accuracy'])\n",
        "\n",
        "print(model.summary())\n",
        "multicnn3 = model3.fit(([X_train, X_train]), array(y_train), validation_data = ([x_val, x_val], y_val),  epochs=10, batch_size=32)\n",
        "\n",
        "\n"
      ],
      "execution_count": 49,
      "outputs": [
        {
          "output_type": "stream",
          "text": [
            "Model: \"model_3\"\n",
            "__________________________________________________________________________________________________\n",
            "Layer (type)                    Output Shape         Param #     Connected to                     \n",
            "==================================================================================================\n",
            "input_12 (InputLayer)           (None, 1000)         0                                            \n",
            "__________________________________________________________________________________________________\n",
            "input_13 (InputLayer)           (None, 1000)         0                                            \n",
            "__________________________________________________________________________________________________\n",
            "input_14 (InputLayer)           (None, 1000)         0                                            \n",
            "__________________________________________________________________________________________________\n",
            "input_15 (InputLayer)           (None, 1000)         0                                            \n",
            "__________________________________________________________________________________________________\n",
            "input_16 (InputLayer)           (None, 1000)         0                                            \n",
            "__________________________________________________________________________________________________\n",
            "embedding_13 (Embedding)        (None, 1000, 100)    21356200    input_12[0][0]                   \n",
            "__________________________________________________________________________________________________\n",
            "embedding_14 (Embedding)        (None, 1000, 100)    21356200    input_13[0][0]                   \n",
            "__________________________________________________________________________________________________\n",
            "embedding_15 (Embedding)        (None, 1000, 100)    21356200    input_14[0][0]                   \n",
            "__________________________________________________________________________________________________\n",
            "embedding_16 (Embedding)        (None, 1000, 100)    21356200    input_15[0][0]                   \n",
            "__________________________________________________________________________________________________\n",
            "embedding_17 (Embedding)        (None, 1000, 100)    21356200    input_16[0][0]                   \n",
            "__________________________________________________________________________________________________\n",
            "conv1d_12 (Conv1D)              (None, 997, 16)      6416        embedding_13[0][0]               \n",
            "__________________________________________________________________________________________________\n",
            "conv1d_13 (Conv1D)              (None, 995, 16)      9616        embedding_14[0][0]               \n",
            "__________________________________________________________________________________________________\n",
            "conv1d_14 (Conv1D)              (None, 993, 16)      12816       embedding_15[0][0]               \n",
            "__________________________________________________________________________________________________\n",
            "conv1d_15 (Conv1D)              (None, 991, 16)      16016       embedding_16[0][0]               \n",
            "__________________________________________________________________________________________________\n",
            "conv1d_16 (Conv1D)              (None, 989, 16)      19216       embedding_17[0][0]               \n",
            "__________________________________________________________________________________________________\n",
            "dropout_12 (Dropout)            (None, 997, 16)      0           conv1d_12[0][0]                  \n",
            "__________________________________________________________________________________________________\n",
            "dropout_13 (Dropout)            (None, 995, 16)      0           conv1d_13[0][0]                  \n",
            "__________________________________________________________________________________________________\n",
            "dropout_14 (Dropout)            (None, 993, 16)      0           conv1d_14[0][0]                  \n",
            "__________________________________________________________________________________________________\n",
            "dropout_15 (Dropout)            (None, 991, 16)      0           conv1d_15[0][0]                  \n",
            "__________________________________________________________________________________________________\n",
            "dropout_16 (Dropout)            (None, 989, 16)      0           conv1d_16[0][0]                  \n",
            "__________________________________________________________________________________________________\n",
            "max_pooling1d_12 (MaxPooling1D) (None, 498, 16)      0           dropout_12[0][0]                 \n",
            "__________________________________________________________________________________________________\n",
            "max_pooling1d_13 (MaxPooling1D) (None, 497, 16)      0           dropout_13[0][0]                 \n",
            "__________________________________________________________________________________________________\n",
            "max_pooling1d_14 (MaxPooling1D) (None, 496, 16)      0           dropout_14[0][0]                 \n",
            "__________________________________________________________________________________________________\n",
            "max_pooling1d_15 (MaxPooling1D) (None, 495, 16)      0           dropout_15[0][0]                 \n",
            "__________________________________________________________________________________________________\n",
            "max_pooling1d_16 (MaxPooling1D) (None, 494, 16)      0           dropout_16[0][0]                 \n",
            "__________________________________________________________________________________________________\n",
            "flatten_12 (Flatten)            (None, 7968)         0           max_pooling1d_12[0][0]           \n",
            "__________________________________________________________________________________________________\n",
            "flatten_13 (Flatten)            (None, 7952)         0           max_pooling1d_13[0][0]           \n",
            "__________________________________________________________________________________________________\n",
            "flatten_14 (Flatten)            (None, 7936)         0           max_pooling1d_14[0][0]           \n",
            "__________________________________________________________________________________________________\n",
            "flatten_15 (Flatten)            (None, 7920)         0           max_pooling1d_15[0][0]           \n",
            "__________________________________________________________________________________________________\n",
            "flatten_16 (Flatten)            (None, 7904)         0           max_pooling1d_16[0][0]           \n",
            "__________________________________________________________________________________________________\n",
            "concatenate_4 (Concatenate)     (None, 39680)        0           flatten_12[0][0]                 \n",
            "                                                                 flatten_13[0][0]                 \n",
            "                                                                 flatten_14[0][0]                 \n",
            "                                                                 flatten_15[0][0]                 \n",
            "                                                                 flatten_16[0][0]                 \n",
            "__________________________________________________________________________________________________\n",
            "dense_6 (Dense)                 (None, 32)           1269792     concatenate_4[0][0]              \n",
            "__________________________________________________________________________________________________\n",
            "dense_7 (Dense)                 (None, 2)            66          dense_6[0][0]                    \n",
            "==================================================================================================\n",
            "Total params: 108,114,938\n",
            "Trainable params: 1,333,938\n",
            "Non-trainable params: 106,781,000\n",
            "__________________________________________________________________________________________________\n",
            "None\n",
            "Train on 16443 samples, validate on 10277 samples\n",
            "Epoch 1/10\n",
            "16443/16443 [==============================] - 140s 9ms/step - loss: 0.5086 - accuracy: 0.8025 - val_loss: 0.2427 - val_accuracy: 0.9096\n",
            "Epoch 2/10\n",
            "16443/16443 [==============================] - 140s 9ms/step - loss: 0.2344 - accuracy: 0.9066 - val_loss: 0.1861 - val_accuracy: 0.9272\n",
            "Epoch 3/10\n",
            "16443/16443 [==============================] - 139s 8ms/step - loss: 0.1596 - accuracy: 0.9414 - val_loss: 0.1258 - val_accuracy: 0.9588\n",
            "Epoch 4/10\n",
            "16443/16443 [==============================] - 145s 9ms/step - loss: 0.1115 - accuracy: 0.9568 - val_loss: 0.0987 - val_accuracy: 0.9667\n",
            "Epoch 5/10\n",
            "16443/16443 [==============================] - 148s 9ms/step - loss: 0.0789 - accuracy: 0.9695 - val_loss: 0.1003 - val_accuracy: 0.9664\n",
            "Epoch 6/10\n",
            "16443/16443 [==============================] - 146s 9ms/step - loss: 0.0702 - accuracy: 0.9734 - val_loss: 0.0898 - val_accuracy: 0.9720\n",
            "Epoch 7/10\n",
            "16443/16443 [==============================] - 144s 9ms/step - loss: 0.0556 - accuracy: 0.9796 - val_loss: 0.0861 - val_accuracy: 0.9718\n",
            "Epoch 8/10\n",
            "16443/16443 [==============================] - 146s 9ms/step - loss: 0.0584 - accuracy: 0.9783 - val_loss: 0.0844 - val_accuracy: 0.9742\n",
            "Epoch 9/10\n",
            "16443/16443 [==============================] - 148s 9ms/step - loss: 0.0488 - accuracy: 0.9813 - val_loss: 0.1188 - val_accuracy: 0.9656\n",
            "Epoch 10/10\n",
            "16443/16443 [==============================] - 143s 9ms/step - loss: 0.0460 - accuracy: 0.9830 - val_loss: 0.0903 - val_accuracy: 0.9720\n"
          ],
          "name": "stdout"
        }
      ]
    },
    {
      "cell_type": "code",
      "metadata": {
        "id": "qXh2ApeXosHk",
        "colab_type": "code",
        "colab": {
          "base_uri": "https://localhost:8080/",
          "height": 67
        },
        "outputId": "154eddec-99a1-4e93-940f-39a4df31373c"
      },
      "source": [
        "test_preds = model3.predict([X_train, X_train])\n",
        "test_preds = np.round(test_preds)\n",
        "correct_predictions = float(sum(test_preds == y_train)[0])\n",
        "print(\"Correct predictions:\", correct_predictions)\n",
        "print(\"Total number of test examples:\", len(y_train))\n",
        "print(\"Accuracy of model1: \", correct_predictions/float(len(y_train)))"
      ],
      "execution_count": 50,
      "outputs": [
        {
          "output_type": "stream",
          "text": [
            "Correct predictions: 16412.0\n",
            "Total number of test examples: 16443\n",
            "Accuracy of model1:  0.9981146992641245\n"
          ],
          "name": "stdout"
        }
      ]
    },
    {
      "cell_type": "code",
      "metadata": {
        "id": "TllgSVS1oxRF",
        "colab_type": "code",
        "colab": {
          "base_uri": "https://localhost:8080/",
          "height": 67
        },
        "outputId": "493c98ff-bf6a-4e8f-b375-8d4f3cda49e2"
      },
      "source": [
        "test_preds = model3.predict([x_test, x_test])\n",
        "test_preds = np.round(test_preds)\n",
        "correct_predictions = float(sum(test_preds == y_test)[0])\n",
        "print(\"Correct predictions:\", correct_predictions)\n",
        "print(\"Total number of test examples:\", len(y_test))\n",
        "print(\"Accuracy of model1: \", correct_predictions/float(len(y_test)))"
      ],
      "execution_count": 52,
      "outputs": [
        {
          "output_type": "stream",
          "text": [
            "Correct predictions: 10258.0\n",
            "Total number of test examples: 10277\n",
            "Accuracy of model1:  0.9981512114430281\n"
          ],
          "name": "stdout"
        }
      ]
    },
    {
      "cell_type": "code",
      "metadata": {
        "id": "r_UAEQ_7o1Pz",
        "colab_type": "code",
        "colab": {
          "base_uri": "https://localhost:8080/",
          "height": 84
        },
        "outputId": "7ff0a782-5aef-4817-be57-77b0b45a4e2d"
      },
      "source": [
        "from sklearn.metrics import confusion_matrix\n",
        "import matplotlib.pyplot as plt\n",
        "import pandas as pd\n",
        "\n",
        "x_pred = model3.predict([x_test, x_test])\n",
        "x_pred = np.round(x_pred)\n",
        "x_pred = x_pred.argmax(1)\n",
        "y_test_s = y_test.argmax(1)\n",
        "\n",
        "confusion_matrix = pd.crosstab(y_test_s, x_pred, rownames = ['Actual'], colnames = ['Predicted'])\n",
        "\n",
        "print (confusion_matrix)"
      ],
      "execution_count": 53,
      "outputs": [
        {
          "output_type": "stream",
          "text": [
            "Predicted     0     1\n",
            "Actual               \n",
            "0          5191     7\n",
            "1            12  5067\n"
          ],
          "name": "stdout"
        }
      ]
    },
    {
      "cell_type": "markdown",
      "metadata": {
        "id": "SLkZe42Y1s4j",
        "colab_type": "text"
      },
      "source": [
        "Based on the confusion matrix, the calculations are-\n",
        "\n",
        "\n",
        "\n",
        "1.   Precision - 0.9987\n",
        "2.   Recall - 0.9977\n",
        "3.   Accuracy - 0.9982\n",
        "4.   F1 score - 0.9982\n",
        "\n",
        "\n"
      ]
    },
    {
      "cell_type": "markdown",
      "metadata": {
        "id": "7VraDw093vhn",
        "colab_type": "text"
      },
      "source": [
        "### **2 channels 16 filter**"
      ]
    },
    {
      "cell_type": "code",
      "metadata": {
        "id": "mxlkNTYKo86-",
        "colab_type": "code",
        "colab": {
          "base_uri": "https://localhost:8080/",
          "height": 1000
        },
        "outputId": "997d6bff-ac44-425c-d10d-ba44f3922f01"
      },
      "source": [
        "from numpy import array\n",
        "from keras.models import Model\n",
        "from keras.layers import Input\n",
        "from keras.layers import Dense\n",
        "from keras.layers import Flatten\n",
        "from keras.layers import Dropout\n",
        "from keras.layers import Embedding\n",
        "from keras.layers.convolutional import Conv1D\n",
        "from keras.layers.convolutional import MaxPooling1D\n",
        "from keras.layers.merge import concatenate\n",
        "\n",
        "#channel 1\n",
        "input1 = Input(shape=(MAX_SEQUENCE_LENGTH,), dtype='int32')\n",
        "embedding1 = Embedding(len(word_index)+1 , EMBEDDING_DIM , weights = [embedding_matrix], input_length = MAX_SEQUENCE_LENGTH, trainable = False)(input1)\n",
        "conv1 = Conv1D(filters=16, kernel_size=4, activation='relu')(embedding1)\n",
        "drop1 = Dropout(0.5)(conv1)\n",
        "pool1 = MaxPooling1D(pool_size=2)(drop1)\n",
        "flat1 = Flatten()(pool1)\n",
        "\n",
        "#channel 2\n",
        "input2 = Input(shape=(MAX_SEQUENCE_LENGTH,), dtype='int32')\n",
        "embedding2 = Embedding(len(word_index)+1 , EMBEDDING_DIM , weights = [embedding_matrix], input_length = MAX_SEQUENCE_LENGTH, trainable = False)(input2)\n",
        "conv2 = Conv1D(filters=16, kernel_size=6, activation='relu')(embedding2)\n",
        "drop2 = Dropout(0.5)(conv2)\n",
        "pool2 = MaxPooling1D(pool_size=2)(drop2)\n",
        "flat2 = Flatten()(pool2)\n",
        "\n",
        "# #channel 3\n",
        "# input3 = Input(shape=(MAX_SEQUENCE_LENGTH,), dtype='int32')\n",
        "# embedding3 = Embedding(len(word_index)+1 , EMBEDDING_DIM , weights = [embedding_matrix], input_length = MAX_SEQUENCE_LENGTH, trainable = False)(input3)\n",
        "# conv3 = Conv1D(filters=32, kernel_size=8, activation='relu')(embedding3)\n",
        "# drop3 = Dropout(0.5)(conv3)\n",
        "# pool3 = MaxPooling1D(pool_size=2)(drop3)\n",
        "# flat3 = Flatten()(pool3)\n",
        "\n",
        "\n",
        "merged = concatenate([flat1, flat2])\n",
        "\n",
        "\n",
        "# dense1 = Dense(256, activation = 'relu')(merged)\n",
        "# dense2 = Dense(128, activation = 'relu')(dense1)\n",
        "# dense3 = Dense(64, activation = 'relu')(dense2)\n",
        "dense4 = Dense(32, activation = 'relu')(merged)\n",
        "outputs = Dense(2, activation = 'softmax')(dense4)\n",
        "\n",
        "model4 = Model(inputs=[input1, input2], outputs=outputs)\n",
        "\n",
        "model4.compile(loss='binary_crossentropy', optimizer='adam', metrics=['accuracy'])\n",
        "\n",
        "print(model.summary())\n",
        "multicnn4 = model4.fit(([X_train, X_train]), array(y_train), validation_data = ([x_val, x_val], y_val),  epochs=10, batch_size=16)\n",
        "\n",
        "\n"
      ],
      "execution_count": 58,
      "outputs": [
        {
          "output_type": "stream",
          "text": [
            "Model: \"model_3\"\n",
            "__________________________________________________________________________________________________\n",
            "Layer (type)                    Output Shape         Param #     Connected to                     \n",
            "==================================================================================================\n",
            "input_12 (InputLayer)           (None, 1000)         0                                            \n",
            "__________________________________________________________________________________________________\n",
            "input_13 (InputLayer)           (None, 1000)         0                                            \n",
            "__________________________________________________________________________________________________\n",
            "input_14 (InputLayer)           (None, 1000)         0                                            \n",
            "__________________________________________________________________________________________________\n",
            "input_15 (InputLayer)           (None, 1000)         0                                            \n",
            "__________________________________________________________________________________________________\n",
            "input_16 (InputLayer)           (None, 1000)         0                                            \n",
            "__________________________________________________________________________________________________\n",
            "embedding_13 (Embedding)        (None, 1000, 100)    21356200    input_12[0][0]                   \n",
            "__________________________________________________________________________________________________\n",
            "embedding_14 (Embedding)        (None, 1000, 100)    21356200    input_13[0][0]                   \n",
            "__________________________________________________________________________________________________\n",
            "embedding_15 (Embedding)        (None, 1000, 100)    21356200    input_14[0][0]                   \n",
            "__________________________________________________________________________________________________\n",
            "embedding_16 (Embedding)        (None, 1000, 100)    21356200    input_15[0][0]                   \n",
            "__________________________________________________________________________________________________\n",
            "embedding_17 (Embedding)        (None, 1000, 100)    21356200    input_16[0][0]                   \n",
            "__________________________________________________________________________________________________\n",
            "conv1d_12 (Conv1D)              (None, 997, 16)      6416        embedding_13[0][0]               \n",
            "__________________________________________________________________________________________________\n",
            "conv1d_13 (Conv1D)              (None, 995, 16)      9616        embedding_14[0][0]               \n",
            "__________________________________________________________________________________________________\n",
            "conv1d_14 (Conv1D)              (None, 993, 16)      12816       embedding_15[0][0]               \n",
            "__________________________________________________________________________________________________\n",
            "conv1d_15 (Conv1D)              (None, 991, 16)      16016       embedding_16[0][0]               \n",
            "__________________________________________________________________________________________________\n",
            "conv1d_16 (Conv1D)              (None, 989, 16)      19216       embedding_17[0][0]               \n",
            "__________________________________________________________________________________________________\n",
            "dropout_12 (Dropout)            (None, 997, 16)      0           conv1d_12[0][0]                  \n",
            "__________________________________________________________________________________________________\n",
            "dropout_13 (Dropout)            (None, 995, 16)      0           conv1d_13[0][0]                  \n",
            "__________________________________________________________________________________________________\n",
            "dropout_14 (Dropout)            (None, 993, 16)      0           conv1d_14[0][0]                  \n",
            "__________________________________________________________________________________________________\n",
            "dropout_15 (Dropout)            (None, 991, 16)      0           conv1d_15[0][0]                  \n",
            "__________________________________________________________________________________________________\n",
            "dropout_16 (Dropout)            (None, 989, 16)      0           conv1d_16[0][0]                  \n",
            "__________________________________________________________________________________________________\n",
            "max_pooling1d_12 (MaxPooling1D) (None, 498, 16)      0           dropout_12[0][0]                 \n",
            "__________________________________________________________________________________________________\n",
            "max_pooling1d_13 (MaxPooling1D) (None, 497, 16)      0           dropout_13[0][0]                 \n",
            "__________________________________________________________________________________________________\n",
            "max_pooling1d_14 (MaxPooling1D) (None, 496, 16)      0           dropout_14[0][0]                 \n",
            "__________________________________________________________________________________________________\n",
            "max_pooling1d_15 (MaxPooling1D) (None, 495, 16)      0           dropout_15[0][0]                 \n",
            "__________________________________________________________________________________________________\n",
            "max_pooling1d_16 (MaxPooling1D) (None, 494, 16)      0           dropout_16[0][0]                 \n",
            "__________________________________________________________________________________________________\n",
            "flatten_12 (Flatten)            (None, 7968)         0           max_pooling1d_12[0][0]           \n",
            "__________________________________________________________________________________________________\n",
            "flatten_13 (Flatten)            (None, 7952)         0           max_pooling1d_13[0][0]           \n",
            "__________________________________________________________________________________________________\n",
            "flatten_14 (Flatten)            (None, 7936)         0           max_pooling1d_14[0][0]           \n",
            "__________________________________________________________________________________________________\n",
            "flatten_15 (Flatten)            (None, 7920)         0           max_pooling1d_15[0][0]           \n",
            "__________________________________________________________________________________________________\n",
            "flatten_16 (Flatten)            (None, 7904)         0           max_pooling1d_16[0][0]           \n",
            "__________________________________________________________________________________________________\n",
            "concatenate_4 (Concatenate)     (None, 39680)        0           flatten_12[0][0]                 \n",
            "                                                                 flatten_13[0][0]                 \n",
            "                                                                 flatten_14[0][0]                 \n",
            "                                                                 flatten_15[0][0]                 \n",
            "                                                                 flatten_16[0][0]                 \n",
            "__________________________________________________________________________________________________\n",
            "dense_6 (Dense)                 (None, 32)           1269792     concatenate_4[0][0]              \n",
            "__________________________________________________________________________________________________\n",
            "dense_7 (Dense)                 (None, 2)            66          dense_6[0][0]                    \n",
            "==================================================================================================\n",
            "Total params: 108,114,938\n",
            "Trainable params: 1,333,938\n",
            "Non-trainable params: 106,781,000\n",
            "__________________________________________________________________________________________________\n",
            "None\n",
            "Train on 16443 samples, validate on 10277 samples\n",
            "Epoch 1/10\n",
            "16443/16443 [==============================] - 120s 7ms/step - loss: 0.4403 - accuracy: 0.8065 - val_loss: 0.2863 - val_accuracy: 0.8790\n",
            "Epoch 2/10\n",
            "16443/16443 [==============================] - 118s 7ms/step - loss: 0.2441 - accuracy: 0.9012 - val_loss: 0.1863 - val_accuracy: 0.9296\n",
            "Epoch 3/10\n",
            "16443/16443 [==============================] - 119s 7ms/step - loss: 0.1690 - accuracy: 0.9340 - val_loss: 0.1664 - val_accuracy: 0.9369\n",
            "Epoch 4/10\n",
            "16443/16443 [==============================] - 117s 7ms/step - loss: 0.1325 - accuracy: 0.9487 - val_loss: 0.1182 - val_accuracy: 0.9579\n",
            "Epoch 5/10\n",
            "16443/16443 [==============================] - 120s 7ms/step - loss: 0.1141 - accuracy: 0.9558 - val_loss: 0.0980 - val_accuracy: 0.9680\n",
            "Epoch 6/10\n",
            "16443/16443 [==============================] - 121s 7ms/step - loss: 0.0887 - accuracy: 0.9662 - val_loss: 0.0918 - val_accuracy: 0.9706\n",
            "Epoch 7/10\n",
            "16443/16443 [==============================] - 120s 7ms/step - loss: 0.0820 - accuracy: 0.9677 - val_loss: 0.0891 - val_accuracy: 0.9708\n",
            "Epoch 8/10\n",
            "16443/16443 [==============================] - 118s 7ms/step - loss: 0.0701 - accuracy: 0.9727 - val_loss: 0.1020 - val_accuracy: 0.9672\n",
            "Epoch 9/10\n",
            "16443/16443 [==============================] - 118s 7ms/step - loss: 0.0695 - accuracy: 0.9736 - val_loss: 0.0864 - val_accuracy: 0.9729\n",
            "Epoch 10/10\n",
            "16443/16443 [==============================] - 120s 7ms/step - loss: 0.0622 - accuracy: 0.9764 - val_loss: 0.0858 - val_accuracy: 0.9741\n"
          ],
          "name": "stdout"
        }
      ]
    },
    {
      "cell_type": "code",
      "metadata": {
        "id": "T-8kmecN1abW",
        "colab_type": "code",
        "colab": {
          "base_uri": "https://localhost:8080/",
          "height": 67
        },
        "outputId": "36f18d26-a88b-4918-8d38-2f05efa1432a"
      },
      "source": [
        "test_preds = model4.predict([X_train, X_train])\n",
        "test_preds = np.round(test_preds)\n",
        "correct_predictions = float(sum(test_preds == y_train)[0])\n",
        "print(\"Correct predictions:\", correct_predictions)\n",
        "print(\"Total number of test examples:\", len(y_train))\n",
        "print(\"Accuracy of model1: \", correct_predictions/float(len(y_train)))"
      ],
      "execution_count": 59,
      "outputs": [
        {
          "output_type": "stream",
          "text": [
            "Correct predictions: 16403.0\n",
            "Total number of test examples: 16443\n",
            "Accuracy of model1:  0.9975673538891929\n"
          ],
          "name": "stdout"
        }
      ]
    },
    {
      "cell_type": "code",
      "metadata": {
        "id": "dbNdGNrj1esA",
        "colab_type": "code",
        "colab": {
          "base_uri": "https://localhost:8080/",
          "height": 67
        },
        "outputId": "7c3d0576-18e5-485e-ab79-8d64b1b50755"
      },
      "source": [
        "test_preds = model4.predict([x_test, x_test])\n",
        "test_preds = np.round(test_preds)\n",
        "correct_predictions = float(sum(test_preds == y_test)[0])\n",
        "print(\"Correct predictions:\", correct_predictions)\n",
        "print(\"Total number of test examples:\", len(y_test))\n",
        "print(\"Accuracy of model1: \", correct_predictions/float(len(y_test)))"
      ],
      "execution_count": 61,
      "outputs": [
        {
          "output_type": "stream",
          "text": [
            "Correct predictions: 10253.0\n",
            "Total number of test examples: 10277\n",
            "Accuracy of model1:  0.9976646881385618\n"
          ],
          "name": "stdout"
        }
      ]
    },
    {
      "cell_type": "code",
      "metadata": {
        "id": "-KWN1gi41hiR",
        "colab_type": "code",
        "colab": {
          "base_uri": "https://localhost:8080/",
          "height": 84
        },
        "outputId": "3f1fe3c9-0b96-4bec-ac5a-6cbd5bcbfa58"
      },
      "source": [
        "from sklearn.metrics import confusion_matrix\n",
        "import matplotlib.pyplot as plt\n",
        "import pandas as pd\n",
        "\n",
        "x_pred = model4.predict([x_test, x_test])\n",
        "x_pred = np.round(x_pred)\n",
        "x_pred = x_pred.argmax(1)\n",
        "y_test_s = y_test.argmax(1)\n",
        "\n",
        "confusion_matrix = pd.crosstab(y_test_s, x_pred, rownames = ['Actual'], colnames = ['Predicted'])\n",
        "\n",
        "print (confusion_matrix)"
      ],
      "execution_count": 62,
      "outputs": [
        {
          "output_type": "stream",
          "text": [
            "Predicted     0     1\n",
            "Actual               \n",
            "0          5184    14\n",
            "1            10  5069\n"
          ],
          "name": "stdout"
        }
      ]
    },
    {
      "cell_type": "markdown",
      "metadata": {
        "id": "f2uWb7_G2iSB",
        "colab_type": "text"
      },
      "source": [
        "Based on the confusion matrix, the calculations are-\n",
        "\n",
        "\n",
        "1.   Precision - 0.9973\n",
        "2.   Recall - 0.9981\n",
        "3.   Accuracy - 0.9977\n",
        "4.   F1 score - 0.9977\n",
        "\n"
      ]
    },
    {
      "cell_type": "markdown",
      "metadata": {
        "id": "MtEpoB2cXMW1",
        "colab_type": "text"
      },
      "source": [
        "### **Graph**"
      ]
    },
    {
      "cell_type": "code",
      "metadata": {
        "id": "4yuG38hk2wjY",
        "colab_type": "code",
        "colab": {
          "base_uri": "https://localhost:8080/",
          "height": 348
        },
        "outputId": "08525dd2-8aea-401d-a6ef-75b08c5c5cdb"
      },
      "source": [
        "\n",
        "import matplotlib.pyplot as plt\n",
        "%matplotlib inline \n",
        "# list all data in history\n",
        "print(multicnn.history.keys())\n",
        "print(multicnn3.history.keys())\n",
        "print(multicnn4.history.keys())\n",
        "print(multicnn5.history.keys())\n",
        "\n",
        "\n",
        "\n",
        "\n",
        "plt.plot(multicnn.history['accuracy'])\n",
        "plt.plot(multicnn.history['val_accuracy'])\n",
        "\n",
        "\n",
        "plt.plot(multicnn3.history['accuracy'])\n",
        "plt.plot(multicnn3.history['val_accuracy'])\n",
        "\n",
        "\n",
        "plt.plot(multicnn4.history['accuracy'])\n",
        "plt.plot(multicnn4.history['val_accuracy'])\n",
        "\n",
        "plt.plot(multicnn5.history['accuracy'], color = 'black')\n",
        "plt.plot(multicnn5.history['val_accuracy'])\n",
        "\n",
        "plt.plot(multicnn7.history['accuracy'])\n",
        "plt.plot(multicnn7.history['val_accuracy'])\n",
        "\n",
        "\n",
        "\n",
        "\n",
        "\n",
        "plt.legend(['3ch_16filter_train'  , '3ch_16filter_test', '2ch_32filter_train', '2ch_32filter_test' , '2ch_16filter_train', '2ch_16filter_test', '5ch_16filter_train', '5ch_16filter_test', '7ch_8filter_train', '7ch_8filter_test'])\n",
        "\n",
        "\n",
        "plt.title('model accuracy')\n",
        "plt.ylabel('accuracy')\n",
        "\n",
        "\n",
        "plt.show()"
      ],
      "execution_count": 75,
      "outputs": [
        {
          "output_type": "stream",
          "text": [
            "dict_keys(['val_loss', 'val_accuracy', 'loss', 'accuracy'])\n",
            "dict_keys(['val_loss', 'val_accuracy', 'loss', 'accuracy'])\n",
            "dict_keys(['val_loss', 'val_accuracy', 'loss', 'accuracy'])\n",
            "dict_keys(['val_loss', 'val_accuracy', 'loss', 'accuracy'])\n"
          ],
          "name": "stdout"
        },
        {
          "output_type": "display_data",
          "data": {
            "image/png": "[encoded data removed]",
            "text/plain": [
              "<Figure size 432x288 with 1 Axes>"
            ]
          },
          "metadata": {
            "tags": [],
            "needs_background": "light"
          }
        }
      ]
    },
    {
      "cell_type": "markdown",
      "metadata": {
        "id": "VcgQa5CgYLjQ",
        "colab_type": "text"
      },
      "source": [
        "Acording to the graph, the best model is **5 channels with 16 filters**"
      ]
    }
  ]
}