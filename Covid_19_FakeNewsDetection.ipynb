{
  "nbformat": 4,
  "nbformat_minor": 0,
  "metadata": {
    "colab": {
      "name": "Covid-19_FakeNewsDetection.ipynb",
      "provenance": [],
      "collapsed_sections": []
    },
    "kernelspec": {
      "name": "python3",
      "display_name": "Python 3"
    }
  },
  "cells": [
    {
      "cell_type": "code",
      "metadata": {
        "id": "eoIZ6N0d3KWD",
        "colab": {
          "base_uri": "https://localhost:8080/",
          "height": 125
        },
        "outputId": "3be864f2-7e2d-4fb7-90bd-4e1ed280e6ca"
      },
      "source": [
        "from google.colab import drive\n",
        "drive.mount('/content/drive')"
      ],
      "execution_count": null,
      "outputs": [
        {
          "output_type": "stream",
          "text": [
            "Go to this URL in a browser: https://accounts.google.com/o/oauth2/auth?client_id=947318989803-6bn6qk8qdgf4n4g3pfee6491hc0brc4i.apps.googleusercontent.com&redirect_uri=urn%3aietf%3awg%3aoauth%3a2.0%3aoob&response_type=code&scope=email%20https%3a%2f%2fwww.googleapis.com%2fauth%2fdocs.test%20https%3a%2f%2fwww.googleapis.com%2fauth%2fdrive%20https%3a%2f%2fwww.googleapis.com%2fauth%2fdrive.photos.readonly%20https%3a%2f%2fwww.googleapis.com%2fauth%2fpeopleapi.readonly\n",
            "\n",
            "Enter your authorization code:\n",
            "··········\n",
            "Mounted at /content/drive\n"
          ],
          "name": "stdout"
        }
      ]
    },
    {
      "cell_type": "markdown",
      "metadata": {
        "id": "r49ZtylTqltv"
      },
      "source": [
        "### **Importing dataset**"
      ]
    },
    {
      "cell_type": "code",
      "metadata": {
        "id": "9B-YsLDZ3ag2"
      },
      "source": [
        "import pandas as pd\n",
        "train_data_true = pd.read_csv('/content/drive/My Drive/Team 2 BI/20191101-20200326-covid19.csv', names = ['Date', 'URL', 'Title', 'Body'])\n",
        "train_data_false = pd.read_csv('/content/drive/My Drive/Team 2 BI/20191101-20200326-falsehoods.csv', names = ['Date', 'URL', 'Title', 'Body'])"
      ],
      "execution_count": null,
      "outputs": []
    },
    {
      "cell_type": "code",
      "metadata": {
        "id": "rrFANIRk3ktf",
        "colab": {
          "base_uri": "https://localhost:8080/",
          "height": 402
        },
        "outputId": "b1a1ddcb-0171-4a84-fa2a-549a6b1ffbf2"
      },
      "source": [
        "train_data_true"
      ],
      "execution_count": null,
      "outputs": [
        {
          "output_type": "execute_result",
          "data": {
            "text/html": [
              "<div>\n",
              "<style scoped>\n",
              "    .dataframe tbody tr th:only-of-type {\n",
              "        vertical-align: middle;\n",
              "    }\n",
              "\n",
              "    .dataframe tbody tr th {\n",
              "        vertical-align: top;\n",
              "    }\n",
              "\n",
              "    .dataframe thead th {\n",
              "        text-align: right;\n",
              "    }\n",
              "</style>\n",
              "<table border=\"1\" class=\"dataframe\">\n",
              "  <thead>\n",
              "    <tr style=\"text-align: right;\">\n",
              "      <th></th>\n",
              "      <th>Date</th>\n",
              "      <th>URL</th>\n",
              "      <th>Title</th>\n",
              "      <th>Body</th>\n",
              "    </tr>\n",
              "  </thead>\n",
              "  <tbody>\n",
              "    <tr>\n",
              "      <th>0</th>\n",
              "      <td>2020-03-17 17:04:30 UTC</td>\n",
              "      <td>https://democratherald.com/news/national/the-l...</td>\n",
              "      <td>The Latest: Trump: US builders should hand ove...</td>\n",
              "      <td>With a population of 46 million, Spain became ...</td>\n",
              "    </tr>\n",
              "    <tr>\n",
              "      <th>1</th>\n",
              "      <td>2020-03-15 10:32:24 UTC</td>\n",
              "      <td>https://www.ballinaadvocate.com.au/news/mum-op...</td>\n",
              "      <td>Mum opts to keep kids home to stop spread of C...</td>\n",
              "      <td>The spokeswoman said until then, they were wor...</td>\n",
              "    </tr>\n",
              "    <tr>\n",
              "      <th>2</th>\n",
              "      <td>2020-03-25 05:16:51 UTC</td>\n",
              "      <td>https://www.9and10news.com/i/the-latest-south-...</td>\n",
              "      <td>The Latest: South Korea to quarantine some arr...</td>\n",
              "      <td>Wuhan will remain locked down until April 8, w...</td>\n",
              "    </tr>\n",
              "    <tr>\n",
              "      <th>3</th>\n",
              "      <td>2020-03-18 09:49:56 UTC</td>\n",
              "      <td>https://www.nytimes.com/2020/03/18/world/asia/...</td>\n",
              "      <td>China Defends Expulsion of American Journalist...</td>\n",
              "      <td>Under Mr. Xi, the news media has come under an...</td>\n",
              "    </tr>\n",
              "    <tr>\n",
              "      <th>4</th>\n",
              "      <td>2020-03-19 02:18:24 UTC</td>\n",
              "      <td>https://www.pakistantelegraph.com/news/2643497...</td>\n",
              "      <td>Why New Zealand needs to continue decisive act...</td>\n",
              "      <td>With some of the toughest border restrictions ...</td>\n",
              "    </tr>\n",
              "    <tr>\n",
              "      <th>...</th>\n",
              "      <td>...</td>\n",
              "      <td>...</td>\n",
              "      <td>...</td>\n",
              "      <td>...</td>\n",
              "    </tr>\n",
              "    <tr>\n",
              "      <th>2848378</th>\n",
              "      <td>2020-03-24 20:18:40 UTC</td>\n",
              "      <td>https://www.wjr.com/news/olive-garden-chilis-a...</td>\n",
              "      <td>Olive Garden, Chili's and other restaurant cha...</td>\n",
              "      <td>Restaurants are taking an astounding hit becau...</td>\n",
              "    </tr>\n",
              "    <tr>\n",
              "      <th>2848379</th>\n",
              "      <td>2020-03-24 22:32:22 UTC</td>\n",
              "      <td>https://www.wdel.com/news/carney-moves-delawar...</td>\n",
              "      <td>Carney moves Delaware's primary, bans foreclos...</td>\n",
              "      <td>On the day Delaware crossed 100 lab-confirmed ...</td>\n",
              "    </tr>\n",
              "    <tr>\n",
              "      <th>2848380</th>\n",
              "      <td>2020-03-15 19:02:26 UTC</td>\n",
              "      <td>https://www.thehindu.com/entertainment/movies/...</td>\n",
              "      <td>'Master' audio launch: Vijay says, \"Kill them ...</td>\n",
              "      <td>The actor instead focused on discussing the fi...</td>\n",
              "    </tr>\n",
              "    <tr>\n",
              "      <th>2848381</th>\n",
              "      <td>2020-03-18 23:02:22 UTC</td>\n",
              "      <td>https://www.dailymercury.com.au/news/could-gho...</td>\n",
              "      <td>Could ghost crowds cure footy's age-old yips?</td>\n",
              "      <td>You start forgetting your routine, it eats int...</td>\n",
              "    </tr>\n",
              "    <tr>\n",
              "      <th>2848382</th>\n",
              "      <td>2020-03-24 19:02:39 UTC</td>\n",
              "      <td>https://102ktra.iheart.com/featured/angie-ward...</td>\n",
              "      <td>Portable Sinks For Homeless To Wash Hands | 10...</td>\n",
              "      <td>That's great if you have a place to wash your ...</td>\n",
              "    </tr>\n",
              "  </tbody>\n",
              "</table>\n",
              "<p>2848383 rows × 4 columns</p>\n",
              "</div>"
            ],
            "text/plain": [
              "                            Date  ...                                               Body\n",
              "0        2020-03-17 17:04:30 UTC  ...  With a population of 46 million, Spain became ...\n",
              "1        2020-03-15 10:32:24 UTC  ...  The spokeswoman said until then, they were wor...\n",
              "2        2020-03-25 05:16:51 UTC  ...  Wuhan will remain locked down until April 8, w...\n",
              "3        2020-03-18 09:49:56 UTC  ...  Under Mr. Xi, the news media has come under an...\n",
              "4        2020-03-19 02:18:24 UTC  ...  With some of the toughest border restrictions ...\n",
              "...                          ...  ...                                                ...\n",
              "2848378  2020-03-24 20:18:40 UTC  ...  Restaurants are taking an astounding hit becau...\n",
              "2848379  2020-03-24 22:32:22 UTC  ...  On the day Delaware crossed 100 lab-confirmed ...\n",
              "2848380  2020-03-15 19:02:26 UTC  ...  The actor instead focused on discussing the fi...\n",
              "2848381  2020-03-18 23:02:22 UTC  ...  You start forgetting your routine, it eats int...\n",
              "2848382  2020-03-24 19:02:39 UTC  ...  That's great if you have a place to wash your ...\n",
              "\n",
              "[2848383 rows x 4 columns]"
            ]
          },
          "metadata": {
            "tags": []
          },
          "execution_count": 5
        }
      ]
    },
    {
      "cell_type": "code",
      "metadata": {
        "id": "XATDiz5-L5ta",
        "colab": {
          "base_uri": "https://localhost:8080/",
          "height": 402
        },
        "outputId": "ae69f960-076c-418d-b148-3a64166b09c0"
      },
      "source": [
        "train_data_false"
      ],
      "execution_count": null,
      "outputs": [
        {
          "output_type": "execute_result",
          "data": {
            "text/html": [
              "<div>\n",
              "<style scoped>\n",
              "    .dataframe tbody tr th:only-of-type {\n",
              "        vertical-align: middle;\n",
              "    }\n",
              "\n",
              "    .dataframe tbody tr th {\n",
              "        vertical-align: top;\n",
              "    }\n",
              "\n",
              "    .dataframe thead th {\n",
              "        text-align: right;\n",
              "    }\n",
              "</style>\n",
              "<table border=\"1\" class=\"dataframe\">\n",
              "  <thead>\n",
              "    <tr style=\"text-align: right;\">\n",
              "      <th></th>\n",
              "      <th>Date</th>\n",
              "      <th>URL</th>\n",
              "      <th>Title</th>\n",
              "      <th>Body</th>\n",
              "    </tr>\n",
              "  </thead>\n",
              "  <tbody>\n",
              "    <tr>\n",
              "      <th>0</th>\n",
              "      <td>2020-02-07 17:03:45 UTC</td>\n",
              "      <td>https://www.bbc.com/news/world-europe-51413870</td>\n",
              "      <td>Coronavirus: Russian media hint at US conspiracy</td>\n",
              "      <td>The report also rehashes old, false claims by ...</td>\n",
              "    </tr>\n",
              "    <tr>\n",
              "      <th>1</th>\n",
              "      <td>2020-03-05 10:48:15 UTC</td>\n",
              "      <td>https://www.middleeasteye.net/news/coronavirus...</td>\n",
              "      <td>Conspiracies, remedies, remixes: Five ways the...</td>\n",
              "      <td>She said the Gulf emirate spread coronavirus t...</td>\n",
              "    </tr>\n",
              "    <tr>\n",
              "      <th>2</th>\n",
              "      <td>2020-03-19 22:17:40 UTC</td>\n",
              "      <td>https://www.standardmedia.co.ke/article/200136...</td>\n",
              "      <td>Why naming COVID-19 patients will help State f...</td>\n",
              "      <td>Therefore, when one relates to the experiences...</td>\n",
              "    </tr>\n",
              "    <tr>\n",
              "      <th>3</th>\n",
              "      <td>2020-02-17 06:48:00 UTC</td>\n",
              "      <td>https://www.rediff.com/news/report/china-virus...</td>\n",
              "      <td>China virus toll rises to 1,770; cases up to 7...</td>\n",
              "      <td>Ghebreyesus also met Chinese Foreign Minister ...</td>\n",
              "    </tr>\n",
              "    <tr>\n",
              "      <th>4</th>\n",
              "      <td>2020-03-26 01:16:45 UTC</td>\n",
              "      <td>https://www.nbcnews.com/news/asian-america/hou...</td>\n",
              "      <td>House members introduce resolution to pin coro...</td>\n",
              "      <td>In California, an Asian teen was sent to the e...</td>\n",
              "    </tr>\n",
              "    <tr>\n",
              "      <th>...</th>\n",
              "      <td>...</td>\n",
              "      <td>...</td>\n",
              "      <td>...</td>\n",
              "      <td>...</td>\n",
              "    </tr>\n",
              "    <tr>\n",
              "      <th>60167</th>\n",
              "      <td>2020-03-21 19:48:12 UTC</td>\n",
              "      <td>https://wmeq.iheart.com/content/2020-03-21-75-...</td>\n",
              "      <td>75 Million Told to Stay Home As Coronavirus Ca...</td>\n",
              "      <td>Here is your daily coronavirus updates for Sat...</td>\n",
              "    </tr>\n",
              "    <tr>\n",
              "      <th>60168</th>\n",
              "      <td>2020-03-20 17:20:10 UTC</td>\n",
              "      <td>https://www.kearneyhub.com/news/trending/mike-...</td>\n",
              "      <td>Mike Bloomberg to give $18M to DNC; state part...</td>\n",
              "      <td>Since then he has given tens of millions of hi...</td>\n",
              "    </tr>\n",
              "    <tr>\n",
              "      <th>60169</th>\n",
              "      <td>2020-03-24 19:18:07 UTC</td>\n",
              "      <td>https://www.bignewsnetwork.com/news/264410490/...</td>\n",
              "      <td>Coronavirus and sex: Dos and don'ts during soc...</td>\n",
              "      <td>Lately, the one topic the entire world is con...</td>\n",
              "    </tr>\n",
              "    <tr>\n",
              "      <th>60170</th>\n",
              "      <td>2020-03-21 02:02:19 UTC</td>\n",
              "      <td>https://kdge.iheart.com/content/2020-03-20-bac...</td>\n",
              "      <td>'Bachelor' Star Colton Underwood Reveals He Te...</td>\n",
              "      <td>I'll keep you posted, Love y'all.\" In the vide...</td>\n",
              "    </tr>\n",
              "    <tr>\n",
              "      <th>60171</th>\n",
              "      <td>2020-03-15 01:17:28 UTC</td>\n",
              "      <td>https://news.yahoo.com/delta-american-other-ai...</td>\n",
              "      <td>Delta, American, and other airline workers say...</td>\n",
              "      <td>Cruz suggested that COVID-19 could be more ser...</td>\n",
              "    </tr>\n",
              "  </tbody>\n",
              "</table>\n",
              "<p>60172 rows × 4 columns</p>\n",
              "</div>"
            ],
            "text/plain": [
              "                          Date  ...                                               Body\n",
              "0      2020-02-07 17:03:45 UTC  ...  The report also rehashes old, false claims by ...\n",
              "1      2020-03-05 10:48:15 UTC  ...  She said the Gulf emirate spread coronavirus t...\n",
              "2      2020-03-19 22:17:40 UTC  ...  Therefore, when one relates to the experiences...\n",
              "3      2020-02-17 06:48:00 UTC  ...  Ghebreyesus also met Chinese Foreign Minister ...\n",
              "4      2020-03-26 01:16:45 UTC  ...  In California, an Asian teen was sent to the e...\n",
              "...                        ...  ...                                                ...\n",
              "60167  2020-03-21 19:48:12 UTC  ...  Here is your daily coronavirus updates for Sat...\n",
              "60168  2020-03-20 17:20:10 UTC  ...  Since then he has given tens of millions of hi...\n",
              "60169  2020-03-24 19:18:07 UTC  ...   Lately, the one topic the entire world is con...\n",
              "60170  2020-03-21 02:02:19 UTC  ...  I'll keep you posted, Love y'all.\" In the vide...\n",
              "60171  2020-03-15 01:17:28 UTC  ...  Cruz suggested that COVID-19 could be more ser...\n",
              "\n",
              "[60172 rows x 4 columns]"
            ]
          },
          "metadata": {
            "tags": []
          },
          "execution_count": 6
        }
      ]
    },
    {
      "cell_type": "code",
      "metadata": {
        "id": "Yorp6bXHL8E6",
        "colab": {
          "base_uri": "https://localhost:8080/",
          "height": 402
        },
        "outputId": "db1700fc-f870-46fd-a6f7-6663d40923f9"
      },
      "source": [
        "train_data_false['Label'] = 1\n",
        "train_data_false"
      ],
      "execution_count": null,
      "outputs": [
        {
          "output_type": "execute_result",
          "data": {
            "text/html": [
              "<div>\n",
              "<style scoped>\n",
              "    .dataframe tbody tr th:only-of-type {\n",
              "        vertical-align: middle;\n",
              "    }\n",
              "\n",
              "    .dataframe tbody tr th {\n",
              "        vertical-align: top;\n",
              "    }\n",
              "\n",
              "    .dataframe thead th {\n",
              "        text-align: right;\n",
              "    }\n",
              "</style>\n",
              "<table border=\"1\" class=\"dataframe\">\n",
              "  <thead>\n",
              "    <tr style=\"text-align: right;\">\n",
              "      <th></th>\n",
              "      <th>Date</th>\n",
              "      <th>URL</th>\n",
              "      <th>Title</th>\n",
              "      <th>Body</th>\n",
              "      <th>Label</th>\n",
              "    </tr>\n",
              "  </thead>\n",
              "  <tbody>\n",
              "    <tr>\n",
              "      <th>0</th>\n",
              "      <td>2020-02-07 17:03:45 UTC</td>\n",
              "      <td>https://www.bbc.com/news/world-europe-51413870</td>\n",
              "      <td>Coronavirus: Russian media hint at US conspiracy</td>\n",
              "      <td>The report also rehashes old, false claims by ...</td>\n",
              "      <td>1</td>\n",
              "    </tr>\n",
              "    <tr>\n",
              "      <th>1</th>\n",
              "      <td>2020-03-05 10:48:15 UTC</td>\n",
              "      <td>https://www.middleeasteye.net/news/coronavirus...</td>\n",
              "      <td>Conspiracies, remedies, remixes: Five ways the...</td>\n",
              "      <td>She said the Gulf emirate spread coronavirus t...</td>\n",
              "      <td>1</td>\n",
              "    </tr>\n",
              "    <tr>\n",
              "      <th>2</th>\n",
              "      <td>2020-03-19 22:17:40 UTC</td>\n",
              "      <td>https://www.standardmedia.co.ke/article/200136...</td>\n",
              "      <td>Why naming COVID-19 patients will help State f...</td>\n",
              "      <td>Therefore, when one relates to the experiences...</td>\n",
              "      <td>1</td>\n",
              "    </tr>\n",
              "    <tr>\n",
              "      <th>3</th>\n",
              "      <td>2020-02-17 06:48:00 UTC</td>\n",
              "      <td>https://www.rediff.com/news/report/china-virus...</td>\n",
              "      <td>China virus toll rises to 1,770; cases up to 7...</td>\n",
              "      <td>Ghebreyesus also met Chinese Foreign Minister ...</td>\n",
              "      <td>1</td>\n",
              "    </tr>\n",
              "    <tr>\n",
              "      <th>4</th>\n",
              "      <td>2020-03-26 01:16:45 UTC</td>\n",
              "      <td>https://www.nbcnews.com/news/asian-america/hou...</td>\n",
              "      <td>House members introduce resolution to pin coro...</td>\n",
              "      <td>In California, an Asian teen was sent to the e...</td>\n",
              "      <td>1</td>\n",
              "    </tr>\n",
              "    <tr>\n",
              "      <th>...</th>\n",
              "      <td>...</td>\n",
              "      <td>...</td>\n",
              "      <td>...</td>\n",
              "      <td>...</td>\n",
              "      <td>...</td>\n",
              "    </tr>\n",
              "    <tr>\n",
              "      <th>60167</th>\n",
              "      <td>2020-03-21 19:48:12 UTC</td>\n",
              "      <td>https://wmeq.iheart.com/content/2020-03-21-75-...</td>\n",
              "      <td>75 Million Told to Stay Home As Coronavirus Ca...</td>\n",
              "      <td>Here is your daily coronavirus updates for Sat...</td>\n",
              "      <td>1</td>\n",
              "    </tr>\n",
              "    <tr>\n",
              "      <th>60168</th>\n",
              "      <td>2020-03-20 17:20:10 UTC</td>\n",
              "      <td>https://www.kearneyhub.com/news/trending/mike-...</td>\n",
              "      <td>Mike Bloomberg to give $18M to DNC; state part...</td>\n",
              "      <td>Since then he has given tens of millions of hi...</td>\n",
              "      <td>1</td>\n",
              "    </tr>\n",
              "    <tr>\n",
              "      <th>60169</th>\n",
              "      <td>2020-03-24 19:18:07 UTC</td>\n",
              "      <td>https://www.bignewsnetwork.com/news/264410490/...</td>\n",
              "      <td>Coronavirus and sex: Dos and don'ts during soc...</td>\n",
              "      <td>Lately, the one topic the entire world is con...</td>\n",
              "      <td>1</td>\n",
              "    </tr>\n",
              "    <tr>\n",
              "      <th>60170</th>\n",
              "      <td>2020-03-21 02:02:19 UTC</td>\n",
              "      <td>https://kdge.iheart.com/content/2020-03-20-bac...</td>\n",
              "      <td>'Bachelor' Star Colton Underwood Reveals He Te...</td>\n",
              "      <td>I'll keep you posted, Love y'all.\" In the vide...</td>\n",
              "      <td>1</td>\n",
              "    </tr>\n",
              "    <tr>\n",
              "      <th>60171</th>\n",
              "      <td>2020-03-15 01:17:28 UTC</td>\n",
              "      <td>https://news.yahoo.com/delta-american-other-ai...</td>\n",
              "      <td>Delta, American, and other airline workers say...</td>\n",
              "      <td>Cruz suggested that COVID-19 could be more ser...</td>\n",
              "      <td>1</td>\n",
              "    </tr>\n",
              "  </tbody>\n",
              "</table>\n",
              "<p>60172 rows × 5 columns</p>\n",
              "</div>"
            ],
            "text/plain": [
              "                          Date  ... Label\n",
              "0      2020-02-07 17:03:45 UTC  ...     1\n",
              "1      2020-03-05 10:48:15 UTC  ...     1\n",
              "2      2020-03-19 22:17:40 UTC  ...     1\n",
              "3      2020-02-17 06:48:00 UTC  ...     1\n",
              "4      2020-03-26 01:16:45 UTC  ...     1\n",
              "...                        ...  ...   ...\n",
              "60167  2020-03-21 19:48:12 UTC  ...     1\n",
              "60168  2020-03-20 17:20:10 UTC  ...     1\n",
              "60169  2020-03-24 19:18:07 UTC  ...     1\n",
              "60170  2020-03-21 02:02:19 UTC  ...     1\n",
              "60171  2020-03-15 01:17:28 UTC  ...     1\n",
              "\n",
              "[60172 rows x 5 columns]"
            ]
          },
          "metadata": {
            "tags": []
          },
          "execution_count": 7
        }
      ]
    },
    {
      "cell_type": "code",
      "metadata": {
        "id": "uxY6nfE6MGjD",
        "colab": {
          "base_uri": "https://localhost:8080/",
          "height": 402
        },
        "outputId": "0c7c47e2-f003-483c-c9f8-779c00a8320a"
      },
      "source": [
        "train_data_true['Label'] = 0\n",
        "train_data_true"
      ],
      "execution_count": null,
      "outputs": [
        {
          "output_type": "execute_result",
          "data": {
            "text/html": [
              "<div>\n",
              "<style scoped>\n",
              "    .dataframe tbody tr th:only-of-type {\n",
              "        vertical-align: middle;\n",
              "    }\n",
              "\n",
              "    .dataframe tbody tr th {\n",
              "        vertical-align: top;\n",
              "    }\n",
              "\n",
              "    .dataframe thead th {\n",
              "        text-align: right;\n",
              "    }\n",
              "</style>\n",
              "<table border=\"1\" class=\"dataframe\">\n",
              "  <thead>\n",
              "    <tr style=\"text-align: right;\">\n",
              "      <th></th>\n",
              "      <th>Date</th>\n",
              "      <th>URL</th>\n",
              "      <th>Title</th>\n",
              "      <th>Body</th>\n",
              "      <th>Label</th>\n",
              "    </tr>\n",
              "  </thead>\n",
              "  <tbody>\n",
              "    <tr>\n",
              "      <th>0</th>\n",
              "      <td>2020-03-17 17:04:30 UTC</td>\n",
              "      <td>https://democratherald.com/news/national/the-l...</td>\n",
              "      <td>The Latest: Trump: US builders should hand ove...</td>\n",
              "      <td>With a population of 46 million, Spain became ...</td>\n",
              "      <td>0</td>\n",
              "    </tr>\n",
              "    <tr>\n",
              "      <th>1</th>\n",
              "      <td>2020-03-15 10:32:24 UTC</td>\n",
              "      <td>https://www.ballinaadvocate.com.au/news/mum-op...</td>\n",
              "      <td>Mum opts to keep kids home to stop spread of C...</td>\n",
              "      <td>The spokeswoman said until then, they were wor...</td>\n",
              "      <td>0</td>\n",
              "    </tr>\n",
              "    <tr>\n",
              "      <th>2</th>\n",
              "      <td>2020-03-25 05:16:51 UTC</td>\n",
              "      <td>https://www.9and10news.com/i/the-latest-south-...</td>\n",
              "      <td>The Latest: South Korea to quarantine some arr...</td>\n",
              "      <td>Wuhan will remain locked down until April 8, w...</td>\n",
              "      <td>0</td>\n",
              "    </tr>\n",
              "    <tr>\n",
              "      <th>3</th>\n",
              "      <td>2020-03-18 09:49:56 UTC</td>\n",
              "      <td>https://www.nytimes.com/2020/03/18/world/asia/...</td>\n",
              "      <td>China Defends Expulsion of American Journalist...</td>\n",
              "      <td>Under Mr. Xi, the news media has come under an...</td>\n",
              "      <td>0</td>\n",
              "    </tr>\n",
              "    <tr>\n",
              "      <th>4</th>\n",
              "      <td>2020-03-19 02:18:24 UTC</td>\n",
              "      <td>https://www.pakistantelegraph.com/news/2643497...</td>\n",
              "      <td>Why New Zealand needs to continue decisive act...</td>\n",
              "      <td>With some of the toughest border restrictions ...</td>\n",
              "      <td>0</td>\n",
              "    </tr>\n",
              "    <tr>\n",
              "      <th>...</th>\n",
              "      <td>...</td>\n",
              "      <td>...</td>\n",
              "      <td>...</td>\n",
              "      <td>...</td>\n",
              "      <td>...</td>\n",
              "    </tr>\n",
              "    <tr>\n",
              "      <th>2848378</th>\n",
              "      <td>2020-03-24 20:18:40 UTC</td>\n",
              "      <td>https://www.wjr.com/news/olive-garden-chilis-a...</td>\n",
              "      <td>Olive Garden, Chili's and other restaurant cha...</td>\n",
              "      <td>Restaurants are taking an astounding hit becau...</td>\n",
              "      <td>0</td>\n",
              "    </tr>\n",
              "    <tr>\n",
              "      <th>2848379</th>\n",
              "      <td>2020-03-24 22:32:22 UTC</td>\n",
              "      <td>https://www.wdel.com/news/carney-moves-delawar...</td>\n",
              "      <td>Carney moves Delaware's primary, bans foreclos...</td>\n",
              "      <td>On the day Delaware crossed 100 lab-confirmed ...</td>\n",
              "      <td>0</td>\n",
              "    </tr>\n",
              "    <tr>\n",
              "      <th>2848380</th>\n",
              "      <td>2020-03-15 19:02:26 UTC</td>\n",
              "      <td>https://www.thehindu.com/entertainment/movies/...</td>\n",
              "      <td>'Master' audio launch: Vijay says, \"Kill them ...</td>\n",
              "      <td>The actor instead focused on discussing the fi...</td>\n",
              "      <td>0</td>\n",
              "    </tr>\n",
              "    <tr>\n",
              "      <th>2848381</th>\n",
              "      <td>2020-03-18 23:02:22 UTC</td>\n",
              "      <td>https://www.dailymercury.com.au/news/could-gho...</td>\n",
              "      <td>Could ghost crowds cure footy's age-old yips?</td>\n",
              "      <td>You start forgetting your routine, it eats int...</td>\n",
              "      <td>0</td>\n",
              "    </tr>\n",
              "    <tr>\n",
              "      <th>2848382</th>\n",
              "      <td>2020-03-24 19:02:39 UTC</td>\n",
              "      <td>https://102ktra.iheart.com/featured/angie-ward...</td>\n",
              "      <td>Portable Sinks For Homeless To Wash Hands | 10...</td>\n",
              "      <td>That's great if you have a place to wash your ...</td>\n",
              "      <td>0</td>\n",
              "    </tr>\n",
              "  </tbody>\n",
              "</table>\n",
              "<p>2848383 rows × 5 columns</p>\n",
              "</div>"
            ],
            "text/plain": [
              "                            Date  ... Label\n",
              "0        2020-03-17 17:04:30 UTC  ...     0\n",
              "1        2020-03-15 10:32:24 UTC  ...     0\n",
              "2        2020-03-25 05:16:51 UTC  ...     0\n",
              "3        2020-03-18 09:49:56 UTC  ...     0\n",
              "4        2020-03-19 02:18:24 UTC  ...     0\n",
              "...                          ...  ...   ...\n",
              "2848378  2020-03-24 20:18:40 UTC  ...     0\n",
              "2848379  2020-03-24 22:32:22 UTC  ...     0\n",
              "2848380  2020-03-15 19:02:26 UTC  ...     0\n",
              "2848381  2020-03-18 23:02:22 UTC  ...     0\n",
              "2848382  2020-03-24 19:02:39 UTC  ...     0\n",
              "\n",
              "[2848383 rows x 5 columns]"
            ]
          },
          "metadata": {
            "tags": []
          },
          "execution_count": 8
        }
      ]
    },
    {
      "cell_type": "markdown",
      "metadata": {
        "id": "-udzSpG-qpLx"
      },
      "source": [
        "### **Merging and Shuffling**"
      ]
    },
    {
      "cell_type": "code",
      "metadata": {
        "id": "NgiTlNneMQVK",
        "colab": {
          "base_uri": "https://localhost:8080/",
          "height": 639
        },
        "outputId": "5666cbf7-ed21-401b-93a0-b3a4803d2b3c"
      },
      "source": [
        "from sklearn.utils import shuffle\n",
        "\n",
        "train_data_true = train_data_true.drop_duplicates(keep = False)\n",
        "train_data_false = train_data_false.drop_duplicates(keep = False)\n",
        "\n",
        "covid19_data = pd.concat([train_data_false.head(30000), train_data_true.head(20000)])\n",
        "\n",
        "covid19_data = covid19_data[['Date','URL', 'Title', 'Body', 'Label']]\n",
        "covid19_data.head(20)"
      ],
      "execution_count": null,
      "outputs": [
        {
          "output_type": "execute_result",
          "data": {
            "text/html": [
              "<div>\n",
              "<style scoped>\n",
              "    .dataframe tbody tr th:only-of-type {\n",
              "        vertical-align: middle;\n",
              "    }\n",
              "\n",
              "    .dataframe tbody tr th {\n",
              "        vertical-align: top;\n",
              "    }\n",
              "\n",
              "    .dataframe thead th {\n",
              "        text-align: right;\n",
              "    }\n",
              "</style>\n",
              "<table border=\"1\" class=\"dataframe\">\n",
              "  <thead>\n",
              "    <tr style=\"text-align: right;\">\n",
              "      <th></th>\n",
              "      <th>Date</th>\n",
              "      <th>URL</th>\n",
              "      <th>Title</th>\n",
              "      <th>Body</th>\n",
              "      <th>Label</th>\n",
              "    </tr>\n",
              "  </thead>\n",
              "  <tbody>\n",
              "    <tr>\n",
              "      <th>0</th>\n",
              "      <td>2020-02-07 17:03:45 UTC</td>\n",
              "      <td>https://www.bbc.com/news/world-europe-51413870</td>\n",
              "      <td>Coronavirus: Russian media hint at US conspiracy</td>\n",
              "      <td>The report also rehashes old, false claims by ...</td>\n",
              "      <td>1</td>\n",
              "    </tr>\n",
              "    <tr>\n",
              "      <th>1</th>\n",
              "      <td>2020-03-05 10:48:15 UTC</td>\n",
              "      <td>https://www.middleeasteye.net/news/coronavirus...</td>\n",
              "      <td>Conspiracies, remedies, remixes: Five ways the...</td>\n",
              "      <td>She said the Gulf emirate spread coronavirus t...</td>\n",
              "      <td>1</td>\n",
              "    </tr>\n",
              "    <tr>\n",
              "      <th>2</th>\n",
              "      <td>2020-03-19 22:17:40 UTC</td>\n",
              "      <td>https://www.standardmedia.co.ke/article/200136...</td>\n",
              "      <td>Why naming COVID-19 patients will help State f...</td>\n",
              "      <td>Therefore, when one relates to the experiences...</td>\n",
              "      <td>1</td>\n",
              "    </tr>\n",
              "    <tr>\n",
              "      <th>3</th>\n",
              "      <td>2020-02-17 06:48:00 UTC</td>\n",
              "      <td>https://www.rediff.com/news/report/china-virus...</td>\n",
              "      <td>China virus toll rises to 1,770; cases up to 7...</td>\n",
              "      <td>Ghebreyesus also met Chinese Foreign Minister ...</td>\n",
              "      <td>1</td>\n",
              "    </tr>\n",
              "    <tr>\n",
              "      <th>4</th>\n",
              "      <td>2020-03-26 01:16:45 UTC</td>\n",
              "      <td>https://www.nbcnews.com/news/asian-america/hou...</td>\n",
              "      <td>House members introduce resolution to pin coro...</td>\n",
              "      <td>In California, an Asian teen was sent to the e...</td>\n",
              "      <td>1</td>\n",
              "    </tr>\n",
              "    <tr>\n",
              "      <th>5</th>\n",
              "      <td>2020-01-24 23:33:34 UTC</td>\n",
              "      <td>https://www.reflector.com/news/national/not-re...</td>\n",
              "      <td>NOT REAL NEWS: A look at what didn't happen th...</td>\n",
              "      <td>The patent being shared online covers the deve...</td>\n",
              "      <td>1</td>\n",
              "    </tr>\n",
              "    <tr>\n",
              "      <th>6</th>\n",
              "      <td>2020-02-27 00:01:32 UTC</td>\n",
              "      <td>https://www.msn.com/en-in/news/world/italy-ear...</td>\n",
              "      <td>Italy earmarks 650 million euros to help coron...</td>\n",
              "      <td>Di Maio wrote on Facebook. A further 350 milli...</td>\n",
              "      <td>1</td>\n",
              "    </tr>\n",
              "    <tr>\n",
              "      <th>7</th>\n",
              "      <td>2020-02-03 10:17:32 UTC</td>\n",
              "      <td>https://www.thejakartapost.com/news/2020/02/03...</td>\n",
              "      <td>Indonesia wages war against coronavirus misinf...</td>\n",
              "      <td>The ministry had taken steps to fight against ...</td>\n",
              "      <td>1</td>\n",
              "    </tr>\n",
              "    <tr>\n",
              "      <th>8</th>\n",
              "      <td>2020-02-22 01:32:17 UTC</td>\n",
              "      <td>https://www.news-daily.com/news/world_nation/a...</td>\n",
              "      <td>A group of college students may face disciplin...</td>\n",
              "      <td>But the death toll is not the only tragic cons...</td>\n",
              "      <td>1</td>\n",
              "    </tr>\n",
              "    <tr>\n",
              "      <th>9</th>\n",
              "      <td>2020-02-06 18:03:30 UTC</td>\n",
              "      <td>https://fox61.com/2020/02/06/chinese-doctor-wh...</td>\n",
              "      <td>Chinese doctor who sounded the alarm on corona...</td>\n",
              "      <td>Li Wenliang, a 34-year-old doctor working in W...</td>\n",
              "      <td>1</td>\n",
              "    </tr>\n",
              "    <tr>\n",
              "      <th>10</th>\n",
              "      <td>2020-03-14 11:17:39 UTC</td>\n",
              "      <td>https://www.politico.com/news/2020/03/14/biden...</td>\n",
              "      <td>Biden readies plan to finish off Bernie</td>\n",
              "      <td>The dispute with the Sanders campaign over the...</td>\n",
              "      <td>1</td>\n",
              "    </tr>\n",
              "    <tr>\n",
              "      <th>11</th>\n",
              "      <td>2020-03-19 22:32:39 UTC</td>\n",
              "      <td>https://ktvz.com/lifestyle/technology/2020/03/...</td>\n",
              "      <td>Facebook has a coronavirus problem. It's Whats...</td>\n",
              "      <td>Woog said these measures have decreased forwar...</td>\n",
              "      <td>1</td>\n",
              "    </tr>\n",
              "    <tr>\n",
              "      <th>12</th>\n",
              "      <td>2020-02-19 20:32:55 UTC</td>\n",
              "      <td>https://www.floridarealtors.org/news-media/new...</td>\n",
              "      <td>The Flu is a Bigger Fla. Worry Than the Corona...</td>\n",
              "      <td>We don't want to get distracted with (the coro...</td>\n",
              "      <td>1</td>\n",
              "    </tr>\n",
              "    <tr>\n",
              "      <th>13</th>\n",
              "      <td>2020-02-05 18:33:36 UTC</td>\n",
              "      <td>https://www.geelongadvertiser.com.au/news/map-...</td>\n",
              "      <td>Coronavirus map: How misinformation about viru...</td>\n",
              "      <td>Twitter announced it would \"adjust search prom...</td>\n",
              "      <td>1</td>\n",
              "    </tr>\n",
              "    <tr>\n",
              "      <th>14</th>\n",
              "      <td>2020-03-13 14:47:43 UTC</td>\n",
              "      <td>https://www.infowars.com/leftists-ecstatic-tha...</td>\n",
              "      <td>Leftists Ecstatic That Trump Could Have Corona...</td>\n",
              "      <td>The amount of people that giddy to see the pre...</td>\n",
              "      <td>1</td>\n",
              "    </tr>\n",
              "    <tr>\n",
              "      <th>15</th>\n",
              "      <td>2020-02-03 16:49:03 UTC</td>\n",
              "      <td>https://www.theeagle.com/news/national/fear-of...</td>\n",
              "      <td>Fear of coronavirus fuels racist sentiment tar...</td>\n",
              "      <td>When she tweeted about the incident, writing, ...</td>\n",
              "      <td>1</td>\n",
              "    </tr>\n",
              "    <tr>\n",
              "      <th>16</th>\n",
              "      <td>2020-02-25 04:46:45 UTC</td>\n",
              "      <td>https://www.chesterstandard.co.uk/news/nationa...</td>\n",
              "      <td>China, South Korea report more coronavirus cas...</td>\n",
              "      <td>Schools were closed, theatre performances canc...</td>\n",
              "      <td>1</td>\n",
              "    </tr>\n",
              "    <tr>\n",
              "      <th>17</th>\n",
              "      <td>2020-03-06 21:02:21 UTC</td>\n",
              "      <td>https://www.middletownpress.com/news/article/M...</td>\n",
              "      <td>Middlesex Chamber hosting coronavirus forum at...</td>\n",
              "      <td>With coronavirus on everyone's mind, hand sani...</td>\n",
              "      <td>1</td>\n",
              "    </tr>\n",
              "    <tr>\n",
              "      <th>18</th>\n",
              "      <td>2020-02-24 07:18:01 UTC</td>\n",
              "      <td>https://www.gizmochina.com/2020/02/24/redmi-k2...</td>\n",
              "      <td>Redmi K20 Pro officially delisted; Redmi K30 P...</td>\n",
              "      <td>Based on the past reports, it can be said that...</td>\n",
              "      <td>1</td>\n",
              "    </tr>\n",
              "    <tr>\n",
              "      <th>19</th>\n",
              "      <td>2020-03-26 19:18:45 UTC</td>\n",
              "      <td>https://manchester.wickedlocal.com/opinion/202...</td>\n",
              "      <td>#ConfabNE: Has the government redeemed itself ...</td>\n",
              "      <td>He took immediate action to close the borders ...</td>\n",
              "      <td>1</td>\n",
              "    </tr>\n",
              "  </tbody>\n",
              "</table>\n",
              "</div>"
            ],
            "text/plain": [
              "                       Date  ... Label\n",
              "0   2020-02-07 17:03:45 UTC  ...     1\n",
              "1   2020-03-05 10:48:15 UTC  ...     1\n",
              "2   2020-03-19 22:17:40 UTC  ...     1\n",
              "3   2020-02-17 06:48:00 UTC  ...     1\n",
              "4   2020-03-26 01:16:45 UTC  ...     1\n",
              "5   2020-01-24 23:33:34 UTC  ...     1\n",
              "6   2020-02-27 00:01:32 UTC  ...     1\n",
              "7   2020-02-03 10:17:32 UTC  ...     1\n",
              "8   2020-02-22 01:32:17 UTC  ...     1\n",
              "9   2020-02-06 18:03:30 UTC  ...     1\n",
              "10  2020-03-14 11:17:39 UTC  ...     1\n",
              "11  2020-03-19 22:32:39 UTC  ...     1\n",
              "12  2020-02-19 20:32:55 UTC  ...     1\n",
              "13  2020-02-05 18:33:36 UTC  ...     1\n",
              "14  2020-03-13 14:47:43 UTC  ...     1\n",
              "15  2020-02-03 16:49:03 UTC  ...     1\n",
              "16  2020-02-25 04:46:45 UTC  ...     1\n",
              "17  2020-03-06 21:02:21 UTC  ...     1\n",
              "18  2020-02-24 07:18:01 UTC  ...     1\n",
              "19  2020-03-26 19:18:45 UTC  ...     1\n",
              "\n",
              "[20 rows x 5 columns]"
            ]
          },
          "metadata": {
            "tags": []
          },
          "execution_count": 23
        }
      ]
    },
    {
      "cell_type": "code",
      "metadata": {
        "id": "_maEmWPR3mdZ",
        "colab": {
          "base_uri": "https://localhost:8080/",
          "height": 122
        },
        "outputId": "9a68ce63-8504-42eb-87a9-d33840564ccc"
      },
      "source": [
        "covid19_data.isnull().sum()"
      ],
      "execution_count": null,
      "outputs": [
        {
          "output_type": "execute_result",
          "data": {
            "text/plain": [
              "Date      0\n",
              "URL       0\n",
              "Title    32\n",
              "Body      0\n",
              "Label     0\n",
              "dtype: int64"
            ]
          },
          "metadata": {
            "tags": []
          },
          "execution_count": 24
        }
      ]
    },
    {
      "cell_type": "code",
      "metadata": {
        "id": "ES-wp4Zt3qYH",
        "colab": {
          "base_uri": "https://localhost:8080/",
          "height": 122
        },
        "outputId": "ae827dc5-d61d-4571-e54d-37a04904b3b8"
      },
      "source": [
        "covid19_data['Title'] = covid19_data['Title'].fillna(value = 'Missing')\n",
        "covid19_data = covid19_data.dropna()\n",
        "covid19_data.isnull().sum()"
      ],
      "execution_count": null,
      "outputs": [
        {
          "output_type": "execute_result",
          "data": {
            "text/plain": [
              "Date     0\n",
              "URL      0\n",
              "Title    0\n",
              "Body     0\n",
              "Label    0\n",
              "dtype: int64"
            ]
          },
          "metadata": {
            "tags": []
          },
          "execution_count": 25
        }
      ]
    },
    {
      "cell_type": "code",
      "metadata": {
        "id": "e5BqrLAmNqo7",
        "colab": {
          "base_uri": "https://localhost:8080/",
          "height": 195
        },
        "outputId": "34c86b0c-a9f1-4737-d898-e6ba488a60ff"
      },
      "source": [
        "length = []\n",
        "[length.append(len(str(text))) for text in covid19_data['Body']]\n",
        "covid19_data['length'] = length\n",
        "covid19_data.head()"
      ],
      "execution_count": null,
      "outputs": [
        {
          "output_type": "execute_result",
          "data": {
            "text/html": [
              "<div>\n",
              "<style scoped>\n",
              "    .dataframe tbody tr th:only-of-type {\n",
              "        vertical-align: middle;\n",
              "    }\n",
              "\n",
              "    .dataframe tbody tr th {\n",
              "        vertical-align: top;\n",
              "    }\n",
              "\n",
              "    .dataframe thead th {\n",
              "        text-align: right;\n",
              "    }\n",
              "</style>\n",
              "<table border=\"1\" class=\"dataframe\">\n",
              "  <thead>\n",
              "    <tr style=\"text-align: right;\">\n",
              "      <th></th>\n",
              "      <th>Date</th>\n",
              "      <th>URL</th>\n",
              "      <th>Title</th>\n",
              "      <th>Body</th>\n",
              "      <th>Label</th>\n",
              "      <th>length</th>\n",
              "    </tr>\n",
              "  </thead>\n",
              "  <tbody>\n",
              "    <tr>\n",
              "      <th>0</th>\n",
              "      <td>2020-02-07 17:03:45 UTC</td>\n",
              "      <td>https://www.bbc.com/news/world-europe-51413870</td>\n",
              "      <td>Coronavirus: Russian media hint at US conspiracy</td>\n",
              "      <td>The report also rehashes old, false claims by ...</td>\n",
              "      <td>1</td>\n",
              "      <td>508</td>\n",
              "    </tr>\n",
              "    <tr>\n",
              "      <th>1</th>\n",
              "      <td>2020-03-05 10:48:15 UTC</td>\n",
              "      <td>https://www.middleeasteye.net/news/coronavirus...</td>\n",
              "      <td>Conspiracies, remedies, remixes: Five ways the...</td>\n",
              "      <td>She said the Gulf emirate spread coronavirus t...</td>\n",
              "      <td>1</td>\n",
              "      <td>800</td>\n",
              "    </tr>\n",
              "    <tr>\n",
              "      <th>2</th>\n",
              "      <td>2020-03-19 22:17:40 UTC</td>\n",
              "      <td>https://www.standardmedia.co.ke/article/200136...</td>\n",
              "      <td>Why naming COVID-19 patients will help State f...</td>\n",
              "      <td>Therefore, when one relates to the experiences...</td>\n",
              "      <td>1</td>\n",
              "      <td>606</td>\n",
              "    </tr>\n",
              "    <tr>\n",
              "      <th>3</th>\n",
              "      <td>2020-02-17 06:48:00 UTC</td>\n",
              "      <td>https://www.rediff.com/news/report/china-virus...</td>\n",
              "      <td>China virus toll rises to 1,770; cases up to 7...</td>\n",
              "      <td>Ghebreyesus also met Chinese Foreign Minister ...</td>\n",
              "      <td>1</td>\n",
              "      <td>598</td>\n",
              "    </tr>\n",
              "    <tr>\n",
              "      <th>4</th>\n",
              "      <td>2020-03-26 01:16:45 UTC</td>\n",
              "      <td>https://www.nbcnews.com/news/asian-america/hou...</td>\n",
              "      <td>House members introduce resolution to pin coro...</td>\n",
              "      <td>In California, an Asian teen was sent to the e...</td>\n",
              "      <td>1</td>\n",
              "      <td>638</td>\n",
              "    </tr>\n",
              "  </tbody>\n",
              "</table>\n",
              "</div>"
            ],
            "text/plain": [
              "                      Date  ... length\n",
              "0  2020-02-07 17:03:45 UTC  ...    508\n",
              "1  2020-03-05 10:48:15 UTC  ...    800\n",
              "2  2020-03-19 22:17:40 UTC  ...    606\n",
              "3  2020-02-17 06:48:00 UTC  ...    598\n",
              "4  2020-03-26 01:16:45 UTC  ...    638\n",
              "\n",
              "[5 rows x 6 columns]"
            ]
          },
          "metadata": {
            "tags": []
          },
          "execution_count": 28
        }
      ]
    },
    {
      "cell_type": "markdown",
      "metadata": {
        "id": "JAPtEpljqvHm"
      },
      "source": [
        "### **Removing Outliers**"
      ]
    },
    {
      "cell_type": "code",
      "metadata": {
        "id": "G_gXtpEBNxW5",
        "colab": {
          "base_uri": "https://localhost:8080/",
          "height": 34
        },
        "outputId": "ae3b34b0-6cf3-4cab-d0cb-9a8cb7c2acdd"
      },
      "source": [
        "len(covid19_data[covid19_data['length'] < 50])"
      ],
      "execution_count": null,
      "outputs": [
        {
          "output_type": "execute_result",
          "data": {
            "text/plain": [
              "3"
            ]
          },
          "metadata": {
            "tags": []
          },
          "execution_count": 29
        }
      ]
    },
    {
      "cell_type": "code",
      "metadata": {
        "id": "bOaggJFwN3pH"
      },
      "source": [
        "covid19_data = covid19_data.drop(covid19_data['Body'][covid19_data['length'] < 50].index, axis = 0)"
      ],
      "execution_count": null,
      "outputs": []
    },
    {
      "cell_type": "code",
      "metadata": {
        "id": "6AexyFUKN8RO"
      },
      "source": [
        "covid19_data = covid19_data.apply(lambda x: x.astype(str).str.lower())"
      ],
      "execution_count": null,
      "outputs": []
    },
    {
      "cell_type": "code",
      "metadata": {
        "id": "3dhQuvHYOBvn"
      },
      "source": [
        "covid19_data['Title'] = covid19_data['Title'].str.replace('[^\\w\\s]','')\n",
        "covid19_data['Title'] = covid19_data['Title'].str.replace('<.*?>','')\n",
        "covid19_data['Body'] = covid19_data['Body'].str.replace('[^\\w\\s]','')\n",
        "covid19_data['Body'] = covid19_data['Body'].str.replace('<.*?>','')"
      ],
      "execution_count": null,
      "outputs": []
    },
    {
      "cell_type": "markdown",
      "metadata": {
        "id": "EAj2CwcXqzCN"
      },
      "source": [
        "### **Tokenization**"
      ]
    },
    {
      "cell_type": "code",
      "metadata": {
        "id": "xyuhnt24PLzR",
        "colab": {
          "base_uri": "https://localhost:8080/",
          "height": 34
        },
        "outputId": "6ab4504b-f666-45a9-f78d-d6649abc6d20"
      },
      "source": [
        "import tensorflow as tf\n",
        "from keras.preprocessing.text import text_to_word_sequence"
      ],
      "execution_count": null,
      "outputs": [
        {
          "output_type": "stream",
          "text": [
            "Using TensorFlow backend.\n"
          ],
          "name": "stderr"
        }
      ]
    },
    {
      "cell_type": "code",
      "metadata": {
        "id": "dgjTRLPNPNxI"
      },
      "source": [
        "tokens = []\n",
        "[tokens.append(text_to_word_sequence(text)) for text in covid19_data['Body']]\n",
        "covid19_data['tokens_text'] = tokens\n"
      ],
      "execution_count": null,
      "outputs": []
    },
    {
      "cell_type": "code",
      "metadata": {
        "id": "NB9oBm2IPVSz"
      },
      "source": [
        "tokens = []\n",
        "[tokens.append(text_to_word_sequence(text)) for text in covid19_data['Title']]\n",
        "covid19_data['tokens_title'] = tokens"
      ],
      "execution_count": null,
      "outputs": []
    },
    {
      "cell_type": "code",
      "metadata": {
        "id": "V-cTzF1tPZB9",
        "colab": {
          "base_uri": "https://localhost:8080/",
          "height": 402
        },
        "outputId": "0b83cd82-156e-4279-f1a1-ff8a696f6509"
      },
      "source": [
        "covid19_data[['tokens_title' , 'tokens_text']]"
      ],
      "execution_count": null,
      "outputs": [
        {
          "output_type": "execute_result",
          "data": {
            "text/html": [
              "<div>\n",
              "<style scoped>\n",
              "    .dataframe tbody tr th:only-of-type {\n",
              "        vertical-align: middle;\n",
              "    }\n",
              "\n",
              "    .dataframe tbody tr th {\n",
              "        vertical-align: top;\n",
              "    }\n",
              "\n",
              "    .dataframe thead th {\n",
              "        text-align: right;\n",
              "    }\n",
              "</style>\n",
              "<table border=\"1\" class=\"dataframe\">\n",
              "  <thead>\n",
              "    <tr style=\"text-align: right;\">\n",
              "      <th></th>\n",
              "      <th>tokens_title</th>\n",
              "      <th>tokens_text</th>\n",
              "    </tr>\n",
              "  </thead>\n",
              "  <tbody>\n",
              "    <tr>\n",
              "      <th>0</th>\n",
              "      <td>[coronavirus, russian, media, hint, at, us, co...</td>\n",
              "      <td>[the, report, also, rehashes, old, false, clai...</td>\n",
              "    </tr>\n",
              "    <tr>\n",
              "      <th>1</th>\n",
              "      <td>[conspiracies, remedies, remixes, five, ways, ...</td>\n",
              "      <td>[she, said, the, gulf, emirate, spread, corona...</td>\n",
              "    </tr>\n",
              "    <tr>\n",
              "      <th>2</th>\n",
              "      <td>[why, naming, covid19, patients, will, help, s...</td>\n",
              "      <td>[therefore, when, one, relates, to, the, exper...</td>\n",
              "    </tr>\n",
              "    <tr>\n",
              "      <th>3</th>\n",
              "      <td>[china, virus, toll, rises, to, 1770, cases, u...</td>\n",
              "      <td>[ghebreyesus, also, met, chinese, foreign, min...</td>\n",
              "    </tr>\n",
              "    <tr>\n",
              "      <th>4</th>\n",
              "      <td>[house, members, introduce, resolution, to, pi...</td>\n",
              "      <td>[in, california, an, asian, teen, was, sent, t...</td>\n",
              "    </tr>\n",
              "    <tr>\n",
              "      <th>...</th>\n",
              "      <td>...</td>\n",
              "      <td>...</td>\n",
              "    </tr>\n",
              "    <tr>\n",
              "      <th>19995</th>\n",
              "      <td>[fda, warns, of, fraudulent, coronavirus, diag...</td>\n",
              "      <td>[washington, dc, fda, the, us, food, and, drug...</td>\n",
              "    </tr>\n",
              "    <tr>\n",
              "      <th>19996</th>\n",
              "      <td>[5, things, to, know, for, february, 17, coron...</td>\n",
              "      <td>[sign, up, here, 1, coronavirus, as, the, coro...</td>\n",
              "    </tr>\n",
              "    <tr>\n",
              "      <th>19997</th>\n",
              "      <td>[us, defense, chief, slams, china, as, rising,...</td>\n",
              "      <td>[munich, germany, ap, us, defense, secretary, ...</td>\n",
              "    </tr>\n",
              "    <tr>\n",
              "      <th>19998</th>\n",
              "      <td>[public, health, agency, weighs, stronger, cov...</td>\n",
              "      <td>[the, nurses, unions, warned, the, national, g...</td>\n",
              "    </tr>\n",
              "    <tr>\n",
              "      <th>19999</th>\n",
              "      <td>[corona, beer, survives, scare, world]</td>\n",
              "      <td>[new, york, afp, confusion, between, coronavir...</td>\n",
              "    </tr>\n",
              "  </tbody>\n",
              "</table>\n",
              "<p>49994 rows × 2 columns</p>\n",
              "</div>"
            ],
            "text/plain": [
              "                                            tokens_title                                        tokens_text\n",
              "0      [coronavirus, russian, media, hint, at, us, co...  [the, report, also, rehashes, old, false, clai...\n",
              "1      [conspiracies, remedies, remixes, five, ways, ...  [she, said, the, gulf, emirate, spread, corona...\n",
              "2      [why, naming, covid19, patients, will, help, s...  [therefore, when, one, relates, to, the, exper...\n",
              "3      [china, virus, toll, rises, to, 1770, cases, u...  [ghebreyesus, also, met, chinese, foreign, min...\n",
              "4      [house, members, introduce, resolution, to, pi...  [in, california, an, asian, teen, was, sent, t...\n",
              "...                                                  ...                                                ...\n",
              "19995  [fda, warns, of, fraudulent, coronavirus, diag...  [washington, dc, fda, the, us, food, and, drug...\n",
              "19996  [5, things, to, know, for, february, 17, coron...  [sign, up, here, 1, coronavirus, as, the, coro...\n",
              "19997  [us, defense, chief, slams, china, as, rising,...  [munich, germany, ap, us, defense, secretary, ...\n",
              "19998  [public, health, agency, weighs, stronger, cov...  [the, nurses, unions, warned, the, national, g...\n",
              "19999             [corona, beer, survives, scare, world]  [new, york, afp, confusion, between, coronavir...\n",
              "\n",
              "[49994 rows x 2 columns]"
            ]
          },
          "metadata": {
            "tags": []
          },
          "execution_count": 37
        }
      ]
    },
    {
      "cell_type": "markdown",
      "metadata": {
        "id": "gU0vzYJ8q3zf"
      },
      "source": [
        "### **Stemming**"
      ]
    },
    {
      "cell_type": "code",
      "metadata": {
        "id": "LX2Q5MLxPb_d"
      },
      "source": [
        "from nltk.stem import PorterStemmer\n",
        "stemming = PorterStemmer()\n",
        "\n",
        "def stem_list(row):\n",
        "  my_list = row['tokens_text']\n",
        "  stemmed_list = [stemming.stem(word) for word in my_list]\n",
        "  return stemmed_list\n",
        "\n",
        "covid19_data['stemmed_words_text'] = covid19_data.apply(stem_list, axis = 1)"
      ],
      "execution_count": null,
      "outputs": []
    },
    {
      "cell_type": "code",
      "metadata": {
        "id": "dBILYLzMPlkx"
      },
      "source": [
        "def stem_list(row):\n",
        "  my_list = row['tokens_title']\n",
        "  stemmed_list = [stemming.stem(word) for word in my_list]\n",
        "  return stemmed_list\n",
        "\n",
        "\n",
        "covid19_data['stemmed_words_title'] = covid19_data.apply(stem_list, axis = 1)"
      ],
      "execution_count": null,
      "outputs": []
    },
    {
      "cell_type": "markdown",
      "metadata": {
        "id": "VMGGVmVOq6eq"
      },
      "source": [
        "### **Removing Stopwords**"
      ]
    },
    {
      "cell_type": "code",
      "metadata": {
        "id": "Njoxrf9pPf5T",
        "colab": {
          "base_uri": "https://localhost:8080/",
          "height": 52
        },
        "outputId": "07d0a800-0e33-4f9f-f67b-862bd229c624"
      },
      "source": [
        "import nltk\n",
        "nltk.download('stopwords')\n",
        "\n",
        "from nltk.corpus import stopwords\n",
        "stops = set(stopwords.words(\"english\"))\n",
        "\n",
        "def remove_stops(row):\n",
        "  my_list = row['stemmed_words_text']\n",
        "  final_text = [w for w in my_list if not w in stops]\n",
        "  return(final_text)\n",
        "\n",
        "covid19_data['Body'] = covid19_data.apply(remove_stops, axis = 1)"
      ],
      "execution_count": null,
      "outputs": [
        {
          "output_type": "stream",
          "text": [
            "[nltk_data] Downloading package stopwords to /root/nltk_data...\n",
            "[nltk_data]   Unzipping corpora/stopwords.zip.\n"
          ],
          "name": "stdout"
        }
      ]
    },
    {
      "cell_type": "code",
      "metadata": {
        "id": "6pDWQo7jPv4e",
        "colab": {
          "base_uri": "https://localhost:8080/",
          "height": 52
        },
        "outputId": "96cef25c-319d-4f3a-ce14-7abef17aa8d9"
      },
      "source": [
        "import nltk\n",
        "nltk.download('stopwords')\n",
        "\n",
        "from nltk.corpus import stopwords\n",
        "stops = set(stopwords.words(\"english\"))\n",
        "\n",
        "def remove_stops(row):\n",
        "  my_list = row['stemmed_words_title']\n",
        "  final_text = [w for w in my_list if not w in stops]\n",
        "  return(final_text)\n",
        "\n",
        "covid19_data['Title'] = covid19_data.apply(remove_stops, axis = 1)"
      ],
      "execution_count": null,
      "outputs": [
        {
          "output_type": "stream",
          "text": [
            "[nltk_data] Downloading package stopwords to /root/nltk_data...\n",
            "[nltk_data]   Package stopwords is already up-to-date!\n"
          ],
          "name": "stdout"
        }
      ]
    },
    {
      "cell_type": "code",
      "metadata": {
        "id": "IIaz6nOHPqwn"
      },
      "source": [
        "def rejoin_words(row):\n",
        "  my_list = row['Body']\n",
        "  joined_words = ( \" \".join(my_list))\n",
        "  return joined_words\n",
        "\n",
        "covid19_data['Body'] = covid19_data.apply(rejoin_words, axis = 1)\n"
      ],
      "execution_count": null,
      "outputs": []
    },
    {
      "cell_type": "code",
      "metadata": {
        "id": "1N6LDkRJP5J3"
      },
      "source": [
        "def rejoin_words(row):\n",
        "  my_list = row['Title']\n",
        "  joined_words = ( \" \".join(my_list))\n",
        "  return joined_words\n",
        "\n",
        "covid19_data['Title'] = covid19_data.apply(rejoin_words, axis = 1)"
      ],
      "execution_count": null,
      "outputs": []
    },
    {
      "cell_type": "code",
      "metadata": {
        "id": "DYEe8EP5P8Hi",
        "colab": {
          "base_uri": "https://localhost:8080/",
          "height": 397
        },
        "outputId": "b7b3d649-4a7f-48af-8d38-9c29957153da"
      },
      "source": [
        "covid19_data.head()"
      ],
      "execution_count": null,
      "outputs": [
        {
          "output_type": "execute_result",
          "data": {
            "text/html": [
              "<div>\n",
              "<style scoped>\n",
              "    .dataframe tbody tr th:only-of-type {\n",
              "        vertical-align: middle;\n",
              "    }\n",
              "\n",
              "    .dataframe tbody tr th {\n",
              "        vertical-align: top;\n",
              "    }\n",
              "\n",
              "    .dataframe thead th {\n",
              "        text-align: right;\n",
              "    }\n",
              "</style>\n",
              "<table border=\"1\" class=\"dataframe\">\n",
              "  <thead>\n",
              "    <tr style=\"text-align: right;\">\n",
              "      <th></th>\n",
              "      <th>Date</th>\n",
              "      <th>URL</th>\n",
              "      <th>Title</th>\n",
              "      <th>Body</th>\n",
              "      <th>Label</th>\n",
              "      <th>length</th>\n",
              "      <th>tokens_text</th>\n",
              "      <th>tokens_title</th>\n",
              "      <th>stemmed_words_text</th>\n",
              "      <th>stemmed_words_title</th>\n",
              "    </tr>\n",
              "  </thead>\n",
              "  <tbody>\n",
              "    <tr>\n",
              "      <th>0</th>\n",
              "      <td>2020-02-07 17:03:45 utc</td>\n",
              "      <td>https://www.bbc.com/news/world-europe-51413870</td>\n",
              "      <td>coronaviru russian media hint us conspiraci</td>\n",
              "      <td>report also rehash old fals claim kremlin medi...</td>\n",
              "      <td>1</td>\n",
              "      <td>508</td>\n",
              "      <td>[the, report, also, rehashes, old, false, clai...</td>\n",
              "      <td>[coronavirus, russian, media, hint, at, us, co...</td>\n",
              "      <td>[the, report, also, rehash, old, fals, claim, ...</td>\n",
              "      <td>[coronaviru, russian, media, hint, at, us, con...</td>\n",
              "    </tr>\n",
              "    <tr>\n",
              "      <th>1</th>\n",
              "      <td>2020-03-05 10:48:15 utc</td>\n",
              "      <td>https://www.middleeasteye.net/news/coronavirus...</td>\n",
              "      <td>conspiraci remedi remix five way middl east re...</td>\n",
              "      <td>said gulf emir spread coronaviru harm uae upco...</td>\n",
              "      <td>1</td>\n",
              "      <td>800</td>\n",
              "      <td>[she, said, the, gulf, emirate, spread, corona...</td>\n",
              "      <td>[conspiracies, remedies, remixes, five, ways, ...</td>\n",
              "      <td>[she, said, the, gulf, emir, spread, coronavir...</td>\n",
              "      <td>[conspiraci, remedi, remix, five, way, the, mi...</td>\n",
              "    </tr>\n",
              "    <tr>\n",
              "      <th>2</th>\n",
              "      <td>2020-03-19 22:17:40 utc</td>\n",
              "      <td>https://www.standardmedia.co.ke/article/200136...</td>\n",
              "      <td>whi name covid19 patient help state fight bug ...</td>\n",
              "      <td>therefor one relat experi victim get sens conf...</td>\n",
              "      <td>1</td>\n",
              "      <td>606</td>\n",
              "      <td>[therefore, when, one, relates, to, the, exper...</td>\n",
              "      <td>[why, naming, covid19, patients, will, help, s...</td>\n",
              "      <td>[therefor, when, one, relat, to, the, experi, ...</td>\n",
              "      <td>[whi, name, covid19, patient, will, help, stat...</td>\n",
              "    </tr>\n",
              "    <tr>\n",
              "      <th>3</th>\n",
              "      <td>2020-02-17 06:48:00 utc</td>\n",
              "      <td>https://www.rediff.com/news/report/china-virus...</td>\n",
              "      <td>china viru toll rise 1770 case 70500</td>\n",
              "      <td>ghebreyesu also met chines foreign minist wang...</td>\n",
              "      <td>1</td>\n",
              "      <td>598</td>\n",
              "      <td>[ghebreyesus, also, met, chinese, foreign, min...</td>\n",
              "      <td>[china, virus, toll, rises, to, 1770, cases, u...</td>\n",
              "      <td>[ghebreyesu, also, met, chines, foreign, minis...</td>\n",
              "      <td>[china, viru, toll, rise, to, 1770, case, up, ...</td>\n",
              "    </tr>\n",
              "    <tr>\n",
              "      <th>4</th>\n",
              "      <td>2020-03-26 01:16:45 utc</td>\n",
              "      <td>https://www.nbcnews.com/news/asian-america/hou...</td>\n",
              "      <td>hous member introduc resolut pin coronaviru bl...</td>\n",
              "      <td>california asian teen wa sent emerg room wa bu...</td>\n",
              "      <td>1</td>\n",
              "      <td>638</td>\n",
              "      <td>[in, california, an, asian, teen, was, sent, t...</td>\n",
              "      <td>[house, members, introduce, resolution, to, pi...</td>\n",
              "      <td>[in, california, an, asian, teen, wa, sent, to...</td>\n",
              "      <td>[hous, member, introduc, resolut, to, pin, cor...</td>\n",
              "    </tr>\n",
              "  </tbody>\n",
              "</table>\n",
              "</div>"
            ],
            "text/plain": [
              "                      Date  ...                                stemmed_words_title\n",
              "0  2020-02-07 17:03:45 utc  ...  [coronaviru, russian, media, hint, at, us, con...\n",
              "1  2020-03-05 10:48:15 utc  ...  [conspiraci, remedi, remix, five, way, the, mi...\n",
              "2  2020-03-19 22:17:40 utc  ...  [whi, name, covid19, patient, will, help, stat...\n",
              "3  2020-02-17 06:48:00 utc  ...  [china, viru, toll, rise, to, 1770, case, up, ...\n",
              "4  2020-03-26 01:16:45 utc  ...  [hous, member, introduc, resolut, to, pin, cor...\n",
              "\n",
              "[5 rows x 10 columns]"
            ]
          },
          "metadata": {
            "tags": []
          },
          "execution_count": 45
        }
      ]
    },
    {
      "cell_type": "markdown",
      "metadata": {
        "id": "GtnL2lMmq98x"
      },
      "source": [
        "### **Padding**"
      ]
    },
    {
      "cell_type": "code",
      "metadata": {
        "id": "HvqeLrSxP_cq"
      },
      "source": [
        "from tensorflow.keras.preprocessing.text import Tokenizer\n",
        "from tensorflow.keras.preprocessing.sequence import pad_sequences\n",
        "\n",
        "\n",
        "tokenizer = Tokenizer(filters='!\"#$%&()*+,-./:;<=>?@[\\\\]^_`{|}~\\t\\n', lower = True, split = ' ')\n",
        "tokenizer.fit_on_texts(texts = covid19_data['Body'])\n",
        "X = tokenizer.texts_to_sequences(texts = covid19_data['Body'])"
      ],
      "execution_count": null,
      "outputs": []
    },
    {
      "cell_type": "code",
      "metadata": {
        "id": "j7Rb1-lJQG-m"
      },
      "source": [
        "word_index = tokenizer.word_index"
      ],
      "execution_count": null,
      "outputs": []
    },
    {
      "cell_type": "code",
      "metadata": {
        "id": "2EuuhEOfQIzL"
      },
      "source": [
        "X = pad_sequences(sequences = X, maxlen = 1000, padding = 'pre')"
      ],
      "execution_count": null,
      "outputs": []
    },
    {
      "cell_type": "code",
      "metadata": {
        "id": "-ACM-GmzQLwC",
        "colab": {
          "base_uri": "https://localhost:8080/",
          "height": 52
        },
        "outputId": "845c8747-b670-4228-f07a-dbe0ed36bed7"
      },
      "source": [
        "from keras.utils.np_utils import to_categorical\n",
        "import numpy as np\n",
        "\n",
        "print(X.shape)\n",
        "y = to_categorical(np.asarray(covid19_data['Label'].values), num_classes = 2)\n",
        "print(y.shape)"
      ],
      "execution_count": null,
      "outputs": [
        {
          "output_type": "stream",
          "text": [
            "(49994, 1000)\n",
            "(49994, 2)\n"
          ],
          "name": "stdout"
        }
      ]
    },
    {
      "cell_type": "markdown",
      "metadata": {
        "id": "thG7SxClrADe"
      },
      "source": [
        "### **Splitting the data**"
      ]
    },
    {
      "cell_type": "code",
      "metadata": {
        "id": "tNcs_cJsQQuq"
      },
      "source": [
        "from sklearn.model_selection import train_test_split\n",
        "\n",
        "X_train, X_test, y_train, y_test = train_test_split(X, y, test_size = 0.2, random_state = 42)\n",
        "x_test, x_val, y_test, y_val = train_test_split( X, y, test_size=0.50, random_state=42)"
      ],
      "execution_count": null,
      "outputs": []
    },
    {
      "cell_type": "markdown",
      "metadata": {
        "id": "4bZJpKDhrC3X"
      },
      "source": [
        "### **Glove model**"
      ]
    },
    {
      "cell_type": "code",
      "metadata": {
        "id": "JVZ0mDRWQT6C",
        "colab": {
          "base_uri": "https://localhost:8080/",
          "height": 34
        },
        "outputId": "0ed1212f-0cbb-4dc4-c735-18a7ea01d8e4"
      },
      "source": [
        "import os\n",
        "from keras.models import Sequential\n",
        "from keras.layers import Embedding, Flatten, Dense, LSTM\n",
        "\n",
        "MAX_SEQUENCE_LENGTH = 1000\n",
        "GLOVE_DIR = '/content/drive/My Drive/glove.6B.100d.txt' \n",
        "EMBEDDING_DIM = 100\n",
        "embeddings_index = {}\n",
        "f = open(os.path.join(GLOVE_DIR), encoding=\"utf8\")\n",
        "for line in f:\n",
        "    values = line.split()\n",
        "    #print(values[1:])\n",
        "    word = values[0]\n",
        "    coefs = np.asarray(values[1:], dtype='float32')\n",
        "    embeddings_index[word] = coefs\n",
        "f.close()\n",
        "\n",
        "print('Total %s word vectors in Glove.' % len(embeddings_index))\n",
        "\n",
        "embedding_matrix = np.random.random((len(word_index) + 1, EMBEDDING_DIM))\n",
        "for word, i in word_index.items():\n",
        "    embedding_vector = embeddings_index.get(word)\n",
        "    if embedding_vector is not None:\n",
        "        # words not found in embedding index will be all-zeros.\n",
        "        embedding_matrix[i] = embedding_vector\n",
        "        \n",
        "embedding_layer = Embedding(len(word_index) + 1,\n",
        "                            EMBEDDING_DIM,\n",
        "                            weights=[embedding_matrix],\n",
        "                            input_length=MAX_SEQUENCE_LENGTH)"
      ],
      "execution_count": null,
      "outputs": [
        {
          "output_type": "stream",
          "text": [
            "Total 400000 word vectors in Glove.\n"
          ],
          "name": "stdout"
        }
      ]
    },
    {
      "cell_type": "markdown",
      "metadata": {
        "id": "8k7QfyNhY7ul"
      },
      "source": [
        "### **DeepCNN**"
      ]
    },
    {
      "cell_type": "code",
      "metadata": {
        "id": "YCL7VzQkQVpG",
        "colab": {
          "base_uri": "https://localhost:8080/",
          "height": 1000
        },
        "outputId": "96e04afd-e3d3-4b22-b071-29426917177c"
      },
      "source": [
        "from keras.layers import Dense, Input, Flatten\n",
        "from keras.layers import Conv1D, MaxPooling1D, GlobalMaxPooling1D, Embedding, Dropout\n",
        "from keras.models import Model\n",
        "\n",
        "convs = []\n",
        "filter_sizes = [3,4,5]\n",
        "\n",
        "sequence_input = Input(shape=(MAX_SEQUENCE_LENGTH,), dtype='int32')\n",
        "embedded_sequences = embedding_layer(sequence_input)\n",
        "\n",
        "for fsz in filter_sizes:\n",
        "    l_conv = Conv1D(nb_filter=64,filter_length=fsz,activation='relu')(embedded_sequences)\n",
        "    l_pool = MaxPooling1D(pool_size = 2)(l_conv)\n",
        "    convs.append(l_pool)\n",
        "  \n",
        "\n",
        "l_conv1 = Conv1D(filters=64, kernel_size=5, activation='relu')(l_pool)\n",
        "l_pool1 = MaxPooling1D(pool_size = 2)(l_conv1)\n",
        "\n",
        "l_conv2 = Conv1D(filters=64, kernel_size=5, activation='relu')(l_pool1)\n",
        "\n",
        "l_drop1 = Dropout(0.2)(l_conv2) \n",
        "\n",
        "l_pool2 = MaxPooling1D(pool_size = 2)(l_conv2)\n",
        "\n",
        "\n",
        "l_flat = Flatten()(l_pool2)\n",
        "l_dense1 = Dense(1024, activation='relu')(l_flat)\n",
        "l_dense2 = Dense(512, activation ='relu')(l_dense1)\n",
        "l_dense3 = Dense(256, activation ='relu')(l_dense2)\n",
        "l_dense4 = Dense(128, activation = 'relu')(l_dense3)\n",
        "l_dense5 = Dense(62, activation = 'relu')(l_dense4)\n",
        "l_dense6 = Dense(32, activation = 'relu')(l_dense5)\n",
        "preds = Dense(2, activation='softmax')(l_dense6)\n",
        "\n",
        "model_deepcnn = Model(sequence_input, preds)\n",
        "model_deepcnn.compile(loss='categorical_crossentropy',\n",
        "              optimizer= 'adam',\n",
        "              metrics=['accuracy'])\n",
        "\n",
        "model_deepcnn.summary()\n",
        "history_deepcnn = model_deepcnn.fit(X_train, y_train, validation_data=(x_val, y_val),\n",
        "          epochs=10, batch_size=256)\n"
      ],
      "execution_count": null,
      "outputs": [
        {
          "output_type": "stream",
          "text": [
            "/usr/local/lib/python3.6/dist-packages/ipykernel_launcher.py:12: UserWarning: Update your `Conv1D` call to the Keras 2 API: `Conv1D(activation=\"relu\", filters=64, kernel_size=3)`\n",
            "  if sys.path[0] == '':\n",
            "/usr/local/lib/python3.6/dist-packages/ipykernel_launcher.py:12: UserWarning: Update your `Conv1D` call to the Keras 2 API: `Conv1D(activation=\"relu\", filters=64, kernel_size=4)`\n",
            "  if sys.path[0] == '':\n",
            "/usr/local/lib/python3.6/dist-packages/ipykernel_launcher.py:12: UserWarning: Update your `Conv1D` call to the Keras 2 API: `Conv1D(activation=\"relu\", filters=64, kernel_size=5)`\n",
            "  if sys.path[0] == '':\n"
          ],
          "name": "stderr"
        },
        {
          "output_type": "stream",
          "text": [
            "Model: \"model_7\"\n",
            "_________________________________________________________________\n",
            "Layer (type)                 Output Shape              Param #   \n",
            "=================================================================\n",
            "input_11 (InputLayer)        (None, 1000)              0         \n",
            "_________________________________________________________________\n",
            "embedding_1 (Embedding)      (None, 1000, 100)         6049300   \n",
            "_________________________________________________________________\n",
            "conv1d_33 (Conv1D)           (None, 996, 64)           32064     \n",
            "_________________________________________________________________\n",
            "max_pooling1d_33 (MaxPooling (None, 498, 64)           0         \n",
            "_________________________________________________________________\n",
            "conv1d_34 (Conv1D)           (None, 494, 64)           20544     \n",
            "_________________________________________________________________\n",
            "max_pooling1d_34 (MaxPooling (None, 247, 64)           0         \n",
            "_________________________________________________________________\n",
            "conv1d_35 (Conv1D)           (None, 243, 64)           20544     \n",
            "_________________________________________________________________\n",
            "max_pooling1d_35 (MaxPooling (None, 121, 64)           0         \n",
            "_________________________________________________________________\n",
            "flatten_11 (Flatten)         (None, 7744)              0         \n",
            "_________________________________________________________________\n",
            "dense_32 (Dense)             (None, 1024)              7930880   \n",
            "_________________________________________________________________\n",
            "dense_33 (Dense)             (None, 512)               524800    \n",
            "_________________________________________________________________\n",
            "dense_34 (Dense)             (None, 256)               131328    \n",
            "_________________________________________________________________\n",
            "dense_35 (Dense)             (None, 128)               32896     \n",
            "_________________________________________________________________\n",
            "dense_36 (Dense)             (None, 62)                7998      \n",
            "_________________________________________________________________\n",
            "dense_37 (Dense)             (None, 32)                2016      \n",
            "_________________________________________________________________\n",
            "dense_38 (Dense)             (None, 2)                 66        \n",
            "=================================================================\n",
            "Total params: 14,752,436\n",
            "Trainable params: 14,752,436\n",
            "Non-trainable params: 0\n",
            "_________________________________________________________________\n"
          ],
          "name": "stdout"
        },
        {
          "output_type": "stream",
          "text": [
            "/usr/local/lib/python3.6/dist-packages/tensorflow/python/framework/indexed_slices.py:434: UserWarning: Converting sparse IndexedSlices to a dense Tensor of unknown shape. This may consume a large amount of memory.\n",
            "  \"Converting sparse IndexedSlices to a dense Tensor of unknown shape. \"\n"
          ],
          "name": "stderr"
        },
        {
          "output_type": "stream",
          "text": [
            "Train on 39995 samples, validate on 24997 samples\n",
            "Epoch 1/10\n",
            "39995/39995 [==============================] - 429s 11ms/step - loss: 0.2013 - accuracy: 0.9015 - val_loss: 0.0570 - val_accuracy: 0.9851\n",
            "Epoch 2/10\n",
            "39995/39995 [==============================] - 428s 11ms/step - loss: 0.0438 - accuracy: 0.9894 - val_loss: 0.0550 - val_accuracy: 0.9851\n",
            "Epoch 3/10\n",
            "39995/39995 [==============================] - 428s 11ms/step - loss: 0.0289 - accuracy: 0.9937 - val_loss: 0.0564 - val_accuracy: 0.9878\n",
            "Epoch 4/10\n",
            "39995/39995 [==============================] - 428s 11ms/step - loss: 0.0232 - accuracy: 0.9952 - val_loss: 0.0596 - val_accuracy: 0.9862\n",
            "Epoch 5/10\n",
            "39995/39995 [==============================] - 430s 11ms/step - loss: 0.0201 - accuracy: 0.9961 - val_loss: 0.0597 - val_accuracy: 0.9884\n",
            "Epoch 6/10\n",
            "39995/39995 [==============================] - 429s 11ms/step - loss: 0.0157 - accuracy: 0.9970 - val_loss: 0.0537 - val_accuracy: 0.9886\n",
            "Epoch 7/10\n",
            "39995/39995 [==============================] - 428s 11ms/step - loss: 0.0152 - accuracy: 0.9966 - val_loss: 0.0885 - val_accuracy: 0.9888\n",
            "Epoch 8/10\n",
            "39995/39995 [==============================] - 428s 11ms/step - loss: 0.0147 - accuracy: 0.9968 - val_loss: 0.0577 - val_accuracy: 0.9892\n",
            "Epoch 9/10\n",
            "39995/39995 [==============================] - 429s 11ms/step - loss: 0.0119 - accuracy: 0.9974 - val_loss: 0.0918 - val_accuracy: 0.9880\n",
            "Epoch 10/10\n",
            "39995/39995 [==============================] - 428s 11ms/step - loss: 0.0108 - accuracy: 0.9974 - val_loss: 0.0899 - val_accuracy: 0.9804\n"
          ],
          "name": "stdout"
        }
      ]
    },
    {
      "cell_type": "code",
      "metadata": {
        "id": "N3qDxT3aWX4w",
        "colab": {
          "base_uri": "https://localhost:8080/",
          "height": 70
        },
        "outputId": "7c74f318-bf64-4062-dfab-9aca8adc8a47"
      },
      "source": [
        "test_preds = model_deepcnn.predict(X_train)\n",
        "test_preds = np.round(test_preds)\n",
        "correct_predictions = float(sum(test_preds == y_train)[0])\n",
        "print(\"Correct predictions:\", correct_predictions)\n",
        "print(\"Total number of test examples:\", len(y_train))\n",
        "print(\"Accuracy of model: \", correct_predictions/float(len(y_train)))"
      ],
      "execution_count": null,
      "outputs": [
        {
          "output_type": "stream",
          "text": [
            "Correct predictions: 39796.0\n",
            "Total number of test examples: 39995\n",
            "Accuracy of model:  0.9950243780472559\n"
          ],
          "name": "stdout"
        }
      ]
    },
    {
      "cell_type": "code",
      "metadata": {
        "id": "RnZYd1mFWsSU",
        "colab": {
          "base_uri": "https://localhost:8080/",
          "height": 70
        },
        "outputId": "61bf4ab3-0768-47a1-d3b4-40220c9890a8"
      },
      "source": [
        "test_preds = model_deepcnn.predict(x_test)\n",
        "test_preds = np.round(test_preds)\n",
        "correct_predictions = float(sum(test_preds == y_test)[0])\n",
        "print(\"Correct predictions:\", correct_predictions)\n",
        "print(\"Total number of test examples:\", len(y_test))\n",
        "print(\"Accuracy of model: \", correct_predictions/float(len(y_test)))"
      ],
      "execution_count": null,
      "outputs": [
        {
          "output_type": "stream",
          "text": [
            "Correct predictions: 24868.0\n",
            "Total number of test examples: 24997\n",
            "Accuracy of model:  0.9948393807256871\n"
          ],
          "name": "stdout"
        }
      ]
    },
    {
      "cell_type": "code",
      "metadata": {
        "id": "KLB92TPjX2gJ",
        "colab": {
          "base_uri": "https://localhost:8080/",
          "height": 87
        },
        "outputId": "1c6f352d-d7b6-4a54-e313-3e8bb84567ff"
      },
      "source": [
        "from sklearn.metrics import confusion_matrix\n",
        "import matplotlib.pyplot as plt\n",
        "import pandas as pd\n",
        "\n",
        "x_pred = model_deepcnn.predict(x_test)\n",
        "x_pred = np.round(x_pred)\n",
        "x_pred = x_pred.argmax(1)\n",
        "y_test_s = y_test.argmax(1)\n",
        "\n",
        "confusion_matrix = pd.crosstab(y_test_s, x_pred, rownames = ['Actual'], colnames = ['Predicted'])\n",
        "\n",
        "print (confusion_matrix)"
      ],
      "execution_count": null,
      "outputs": [
        {
          "output_type": "stream",
          "text": [
            "Predicted     0      1\n",
            "Actual                \n",
            "0          9801    126\n",
            "1             3  15067\n"
          ],
          "name": "stdout"
        }
      ]
    },
    {
      "cell_type": "markdown",
      "metadata": {
        "id": "dNJL522b8fse"
      },
      "source": [
        "Based on the confusion matrix, the calculations are-\n",
        "\n",
        "\n",
        "1.   Precision - 0.9873\n",
        "2.   Recall - 0.9997\n",
        "3.   Accuracy - 0.9949\n",
        "4.   F1 score - 0.9935\n"
      ]
    },
    {
      "cell_type": "markdown",
      "metadata": {
        "id": "f1zjyYopY5BH"
      },
      "source": [
        "### **LSTM**"
      ]
    },
    {
      "cell_type": "code",
      "metadata": {
        "id": "c-CjIynGWKe_",
        "colab": {
          "base_uri": "https://localhost:8080/",
          "height": 738
        },
        "outputId": "a0d0d9f3-8d0d-40bf-827a-e1ff0155a694"
      },
      "source": [
        "from keras.models import Sequential\n",
        "from keras.layers import Embedding, Flatten, Dense, LSTM\n",
        "\n",
        "model_lstm = Sequential()\n",
        "model_lstm.add(Embedding(len(word_index)+1 , EMBEDDING_DIM , weights = [embedding_matrix], input_length = MAX_SEQUENCE_LENGTH, trainable = False))\n",
        "model_lstm.add(LSTM(64))\n",
        "\n",
        "\n",
        "model_lstm.add(Dense(128, activation = 'relu'))\n",
        "model_lstm.add(Dense(64, activation = 'relu'))\n",
        "model_lstm.add(Dense(32, activation = 'relu'))\n",
        "model_lstm.add(Dense(2, activation = 'softmax'))\n",
        "model_lstm.compile(optimizer = 'adam', loss = 'binary_crossentropy', metrics = ['accuracy'])\n",
        "\n",
        "model_lstm.summary()\n",
        "history_lstm = model_lstm.fit(X_train, y_train, validation_data = (x_val, y_val), epochs = 10, batch_size = 128)\n",
        "\n"
      ],
      "execution_count": null,
      "outputs": [
        {
          "output_type": "stream",
          "text": [
            "Model: \"sequential_3\"\n",
            "_________________________________________________________________\n",
            "Layer (type)                 Output Shape              Param #   \n",
            "=================================================================\n",
            "embedding_9 (Embedding)      (None, 1000, 100)         6049300   \n",
            "_________________________________________________________________\n",
            "lstm_3 (LSTM)                (None, 64)                42240     \n",
            "_________________________________________________________________\n",
            "dense_44 (Dense)             (None, 128)               8320      \n",
            "_________________________________________________________________\n",
            "dense_45 (Dense)             (None, 64)                8256      \n",
            "_________________________________________________________________\n",
            "dense_46 (Dense)             (None, 32)                2080      \n",
            "_________________________________________________________________\n",
            "dense_47 (Dense)             (None, 2)                 66        \n",
            "=================================================================\n",
            "Total params: 6,110,262\n",
            "Trainable params: 60,962\n",
            "Non-trainable params: 6,049,300\n",
            "_________________________________________________________________\n",
            "Train on 39995 samples, validate on 24997 samples\n",
            "Epoch 1/10\n",
            "39995/39995 [==============================] - 605s 15ms/step - loss: 0.3650 - accuracy: 0.8413 - val_loss: 0.2383 - val_accuracy: 0.9105\n",
            "Epoch 2/10\n",
            "39995/39995 [==============================] - 625s 16ms/step - loss: 0.1874 - accuracy: 0.9330 - val_loss: 0.1385 - val_accuracy: 0.9548\n",
            "Epoch 3/10\n",
            "39995/39995 [==============================] - 625s 16ms/step - loss: 0.1322 - accuracy: 0.9559 - val_loss: 0.1096 - val_accuracy: 0.9669\n",
            "Epoch 4/10\n",
            "39995/39995 [==============================] - 620s 16ms/step - loss: 0.1004 - accuracy: 0.9694 - val_loss: 0.0851 - val_accuracy: 0.9752\n",
            "Epoch 5/10\n",
            "39995/39995 [==============================] - 618s 15ms/step - loss: 0.0798 - accuracy: 0.9767 - val_loss: 0.0794 - val_accuracy: 0.9770\n",
            "Epoch 6/10\n",
            "39995/39995 [==============================] - 617s 15ms/step - loss: 0.0702 - accuracy: 0.9793 - val_loss: 0.0655 - val_accuracy: 0.9826\n",
            "Epoch 7/10\n",
            "39995/39995 [==============================] - 617s 15ms/step - loss: 0.0592 - accuracy: 0.9830 - val_loss: 0.0605 - val_accuracy: 0.9827\n",
            "Epoch 8/10\n",
            "39995/39995 [==============================] - 617s 15ms/step - loss: 0.0540 - accuracy: 0.9839 - val_loss: 0.0624 - val_accuracy: 0.9826\n",
            "Epoch 9/10\n",
            "39995/39995 [==============================] - 618s 15ms/step - loss: 0.0473 - accuracy: 0.9873 - val_loss: 0.0505 - val_accuracy: 0.9874\n",
            "Epoch 10/10\n",
            "39995/39995 [==============================] - 616s 15ms/step - loss: 0.0415 - accuracy: 0.9887 - val_loss: 0.0509 - val_accuracy: 0.9871\n"
          ],
          "name": "stdout"
        }
      ]
    },
    {
      "cell_type": "code",
      "metadata": {
        "id": "Dq1o75xbWO7_",
        "colab": {
          "base_uri": "https://localhost:8080/",
          "height": 70
        },
        "outputId": "15063931-1fd3-4254-b3a9-33530c5df7e2"
      },
      "source": [
        "test_preds = model_lstm.predict(X_train)\n",
        "test_preds = np.round(test_preds)\n",
        "correct_predictions = float(sum(test_preds == y_train)[0])\n",
        "print(\"Correct predictions:\", correct_predictions)\n",
        "print(\"Total number of test examples:\", len(y_train))\n",
        "print(\"Accuracy of model: \", correct_predictions/float(len(y_train)))"
      ],
      "execution_count": null,
      "outputs": [
        {
          "output_type": "stream",
          "text": [
            "Correct predictions: 39698.0\n",
            "Total number of test examples: 39995\n",
            "Accuracy of model:  0.9925740717589698\n"
          ],
          "name": "stdout"
        }
      ]
    },
    {
      "cell_type": "code",
      "metadata": {
        "id": "TVTWsHAsWWQs",
        "colab": {
          "base_uri": "https://localhost:8080/",
          "height": 70
        },
        "outputId": "7b9b30a6-07a6-4168-9599-6df43868832e"
      },
      "source": [
        "test_preds = model_lstm.predict(x_test)\n",
        "test_preds = np.round(test_preds)\n",
        "correct_predictions = float(sum(test_preds == y_test)[0])\n",
        "print(\"Correct predictions:\", correct_predictions)\n",
        "print(\"Total number of test examples:\", len(y_test))\n",
        "print(\"Accuracy of model: \", correct_predictions/float(len(y_test)))"
      ],
      "execution_count": null,
      "outputs": [
        {
          "output_type": "stream",
          "text": [
            "Correct predictions: 24812.0\n",
            "Total number of test examples: 24997\n",
            "Accuracy of model:  0.9925991118934272\n"
          ],
          "name": "stdout"
        }
      ]
    },
    {
      "cell_type": "code",
      "metadata": {
        "id": "D2U7Mm_hX5p0",
        "colab": {
          "base_uri": "https://localhost:8080/",
          "height": 87
        },
        "outputId": "90f267a5-aa14-4f6e-dad2-6feb9aae9734"
      },
      "source": [
        "from sklearn.metrics import confusion_matrix\n",
        "import matplotlib.pyplot as plt\n",
        "import pandas as pd\n",
        "\n",
        "x_pred = model_lstm.predict(x_test)\n",
        "x_pred = np.round(x_pred)\n",
        "x_pred = x_pred.argmax(1)\n",
        "y_test_s = y_test.argmax(1)\n",
        "\n",
        "confusion_matrix = pd.crosstab(y_test_s, x_pred, rownames = ['Actual'], colnames = ['Predicted'])\n",
        "\n",
        "print (confusion_matrix)"
      ],
      "execution_count": null,
      "outputs": [
        {
          "output_type": "stream",
          "text": [
            "Predicted     0      1\n",
            "Actual                \n",
            "0          9810    117\n",
            "1            68  15002\n"
          ],
          "name": "stdout"
        }
      ]
    },
    {
      "cell_type": "markdown",
      "metadata": {
        "id": "das0w4oC8Qpt"
      },
      "source": [
        "Based on the confusion matrix, the calculations are-\n",
        "\n",
        "\n",
        "1.   Precision - 0.9882\n",
        "2.   Recall - 0.9931\n",
        "3.   Accuracy - 0.9926\n",
        "4.   F1 score - 0.9907\n"
      ]
    },
    {
      "cell_type": "markdown",
      "metadata": {
        "id": "qbXXgazgY1FE"
      },
      "source": [
        "### **MultiChannel CNN**\n",
        "\n"
      ]
    },
    {
      "cell_type": "code",
      "metadata": {
        "id": "c5IIlWDQXfFg",
        "colab": {
          "base_uri": "https://localhost:8080/",
          "height": 1000
        },
        "outputId": "014548f4-8799-42e1-9dde-9dc397ac830f"
      },
      "source": [
        "from numpy import array\n",
        "from keras.models import Model\n",
        "from keras.layers import Input\n",
        "from keras.layers import Dense\n",
        "from keras.layers import Flatten\n",
        "from keras.layers import Dropout\n",
        "from keras.layers import Embedding\n",
        "from keras.layers.convolutional import Conv1D\n",
        "from keras.layers.convolutional import MaxPooling1D\n",
        "from keras.layers.merge import concatenate\n",
        "\n",
        "#channel 1\n",
        "input1 = Input(shape=(MAX_SEQUENCE_LENGTH,), dtype='int32')\n",
        "embedding1 = Embedding(len(word_index)+1 , EMBEDDING_DIM , weights = [embedding_matrix], input_length = MAX_SEQUENCE_LENGTH, trainable = False)(input1)\n",
        "conv1 = Conv1D(filters=16, kernel_size=4, activation='relu')(embedding1)\n",
        "drop1 = Dropout(0.5)(conv1)\n",
        "pool1 = MaxPooling1D(pool_size=2)(drop1)\n",
        "flat1 = Flatten()(pool1)\n",
        "\n",
        "#channel 2\n",
        "input2 = Input(shape=(MAX_SEQUENCE_LENGTH,), dtype='int32')\n",
        "embedding2 = Embedding(len(word_index)+1 , EMBEDDING_DIM , weights = [embedding_matrix], input_length = MAX_SEQUENCE_LENGTH, trainable = False)(input2)\n",
        "conv2 = Conv1D(filters=16, kernel_size=6, activation='relu')(embedding2)\n",
        "drop2 = Dropout(0.5)(conv2)\n",
        "pool2 = MaxPooling1D(pool_size=2)(drop2)\n",
        "flat2 = Flatten()(pool2)\n",
        "\n",
        "#channel 3\n",
        "input3 = Input(shape=(MAX_SEQUENCE_LENGTH,), dtype='int32')\n",
        "embedding3 = Embedding(len(word_index)+1 , EMBEDDING_DIM , weights = [embedding_matrix], input_length = MAX_SEQUENCE_LENGTH, trainable = False)(input3)\n",
        "conv3 = Conv1D(filters=16, kernel_size=8, activation='relu')(embedding3)\n",
        "drop3 = Dropout(0.5)(conv3)\n",
        "pool3 = MaxPooling1D(pool_size=2)(drop3)\n",
        "flat3 = Flatten()(pool3)\n",
        "\n",
        "#channel 4\n",
        "input4 = Input(shape=(MAX_SEQUENCE_LENGTH,), dtype='int32')\n",
        "embedding4 = Embedding(len(word_index)+1 , EMBEDDING_DIM , weights = [embedding_matrix], input_length = MAX_SEQUENCE_LENGTH, trainable = False)(input4)\n",
        "conv4 = Conv1D(filters=16, kernel_size=10, activation='relu')(embedding4)\n",
        "drop4 = Dropout(0.5)(conv4)\n",
        "pool4 = MaxPooling1D(pool_size=2)(drop4)\n",
        "flat4 = Flatten()(pool4)\n",
        "\n",
        "#channel 5\n",
        "input5 = Input(shape=(MAX_SEQUENCE_LENGTH,), dtype='int32')\n",
        "embedding5 = Embedding(len(word_index)+1 , EMBEDDING_DIM , weights = [embedding_matrix], input_length = MAX_SEQUENCE_LENGTH, trainable = False)(input5)\n",
        "conv5 = Conv1D(filters=16, kernel_size=12, activation='relu')(embedding5)\n",
        "drop5 = Dropout(0.5)(conv5)\n",
        "pool5 = MaxPooling1D(pool_size=2)(drop5)\n",
        "flat5 = Flatten()(pool5)\n",
        "\n",
        "merged = concatenate([flat1, flat2, flat3, flat4, flat5])\n",
        "\n",
        "dense4 = Dense(32, activation = 'relu')(merged)\n",
        "outputs = Dense(2, activation = 'softmax')(dense4)\n",
        "\n",
        "model_multicnn = Model(inputs=[input1, input2, input3, input4, input5], outputs=outputs)\n",
        "\n",
        "model_multicnn.compile(loss='binary_crossentropy', optimizer='adam', metrics=['accuracy'])\n",
        "\n",
        "print(model_multicnn.summary())\n",
        "history_multicnn = model_multicnn.fit([X_train, X_train, X_train, X_train, X_train], array(y_train), validation_data = ([x_val, x_val, x_val, x_val, x_val], y_val),  epochs=10, batch_size=16)\n",
        "\n",
        "\n"
      ],
      "execution_count": null,
      "outputs": [
        {
          "output_type": "stream",
          "text": [
            "Model: \"model_8\"\n",
            "__________________________________________________________________________________________________\n",
            "Layer (type)                    Output Shape         Param #     Connected to                     \n",
            "==================================================================================================\n",
            "input_12 (InputLayer)           (None, 1000)         0                                            \n",
            "__________________________________________________________________________________________________\n",
            "input_13 (InputLayer)           (None, 1000)         0                                            \n",
            "__________________________________________________________________________________________________\n",
            "input_14 (InputLayer)           (None, 1000)         0                                            \n",
            "__________________________________________________________________________________________________\n",
            "input_15 (InputLayer)           (None, 1000)         0                                            \n",
            "__________________________________________________________________________________________________\n",
            "input_16 (InputLayer)           (None, 1000)         0                                            \n",
            "__________________________________________________________________________________________________\n",
            "embedding_10 (Embedding)        (None, 1000, 100)    6049300     input_12[0][0]                   \n",
            "__________________________________________________________________________________________________\n",
            "embedding_11 (Embedding)        (None, 1000, 100)    6049300     input_13[0][0]                   \n",
            "__________________________________________________________________________________________________\n",
            "embedding_12 (Embedding)        (None, 1000, 100)    6049300     input_14[0][0]                   \n",
            "__________________________________________________________________________________________________\n",
            "embedding_13 (Embedding)        (None, 1000, 100)    6049300     input_15[0][0]                   \n",
            "__________________________________________________________________________________________________\n",
            "embedding_14 (Embedding)        (None, 1000, 100)    6049300     input_16[0][0]                   \n",
            "__________________________________________________________________________________________________\n",
            "conv1d_36 (Conv1D)              (None, 997, 16)      6416        embedding_10[0][0]               \n",
            "__________________________________________________________________________________________________\n",
            "conv1d_37 (Conv1D)              (None, 995, 16)      9616        embedding_11[0][0]               \n",
            "__________________________________________________________________________________________________\n",
            "conv1d_38 (Conv1D)              (None, 993, 16)      12816       embedding_12[0][0]               \n",
            "__________________________________________________________________________________________________\n",
            "conv1d_39 (Conv1D)              (None, 991, 16)      16016       embedding_13[0][0]               \n",
            "__________________________________________________________________________________________________\n",
            "conv1d_40 (Conv1D)              (None, 989, 16)      19216       embedding_14[0][0]               \n",
            "__________________________________________________________________________________________________\n",
            "dropout_11 (Dropout)            (None, 997, 16)      0           conv1d_36[0][0]                  \n",
            "__________________________________________________________________________________________________\n",
            "dropout_12 (Dropout)            (None, 995, 16)      0           conv1d_37[0][0]                  \n",
            "__________________________________________________________________________________________________\n",
            "dropout_13 (Dropout)            (None, 993, 16)      0           conv1d_38[0][0]                  \n",
            "__________________________________________________________________________________________________\n",
            "dropout_14 (Dropout)            (None, 991, 16)      0           conv1d_39[0][0]                  \n",
            "__________________________________________________________________________________________________\n",
            "dropout_15 (Dropout)            (None, 989, 16)      0           conv1d_40[0][0]                  \n",
            "__________________________________________________________________________________________________\n",
            "max_pooling1d_36 (MaxPooling1D) (None, 498, 16)      0           dropout_11[0][0]                 \n",
            "__________________________________________________________________________________________________\n",
            "max_pooling1d_37 (MaxPooling1D) (None, 497, 16)      0           dropout_12[0][0]                 \n",
            "__________________________________________________________________________________________________\n",
            "max_pooling1d_38 (MaxPooling1D) (None, 496, 16)      0           dropout_13[0][0]                 \n",
            "__________________________________________________________________________________________________\n",
            "max_pooling1d_39 (MaxPooling1D) (None, 495, 16)      0           dropout_14[0][0]                 \n",
            "__________________________________________________________________________________________________\n",
            "max_pooling1d_40 (MaxPooling1D) (None, 494, 16)      0           dropout_15[0][0]                 \n",
            "__________________________________________________________________________________________________\n",
            "flatten_12 (Flatten)            (None, 7968)         0           max_pooling1d_36[0][0]           \n",
            "__________________________________________________________________________________________________\n",
            "flatten_13 (Flatten)            (None, 7952)         0           max_pooling1d_37[0][0]           \n",
            "__________________________________________________________________________________________________\n",
            "flatten_14 (Flatten)            (None, 7936)         0           max_pooling1d_38[0][0]           \n",
            "__________________________________________________________________________________________________\n",
            "flatten_15 (Flatten)            (None, 7920)         0           max_pooling1d_39[0][0]           \n",
            "__________________________________________________________________________________________________\n",
            "flatten_16 (Flatten)            (None, 7904)         0           max_pooling1d_40[0][0]           \n",
            "__________________________________________________________________________________________________\n",
            "concatenate_2 (Concatenate)     (None, 39680)        0           flatten_12[0][0]                 \n",
            "                                                                 flatten_13[0][0]                 \n",
            "                                                                 flatten_14[0][0]                 \n",
            "                                                                 flatten_15[0][0]                 \n",
            "                                                                 flatten_16[0][0]                 \n",
            "__________________________________________________________________________________________________\n",
            "dense_48 (Dense)                (None, 32)           1269792     concatenate_2[0][0]              \n",
            "__________________________________________________________________________________________________\n",
            "dense_49 (Dense)                (None, 2)            66          dense_48[0][0]                   \n",
            "==================================================================================================\n",
            "Total params: 31,580,438\n",
            "Trainable params: 1,333,938\n",
            "Non-trainable params: 30,246,500\n",
            "__________________________________________________________________________________________________\n",
            "None\n",
            "Train on 39995 samples, validate on 24997 samples\n",
            "Epoch 1/10\n",
            "39995/39995 [==============================] - 777s 19ms/step - loss: 0.3290 - accuracy: 0.8706 - val_loss: 0.1795 - val_accuracy: 0.9408\n",
            "Epoch 2/10\n",
            "39995/39995 [==============================] - 774s 19ms/step - loss: 0.1787 - accuracy: 0.9363 - val_loss: 0.1260 - val_accuracy: 0.9592\n",
            "Epoch 3/10\n",
            "39995/39995 [==============================] - 767s 19ms/step - loss: 0.1399 - accuracy: 0.9517 - val_loss: 0.1012 - val_accuracy: 0.9683\n",
            "Epoch 4/10\n",
            "39984/39995 [============================>.] - ETA: 0s - loss: 0.1147 - accuracy: 0.9597Epoch 5/10\n",
            "39995/39995 [==============================] - 768s 19ms/step - loss: 0.1033 - accuracy: 0.9637 - val_loss: 0.0797 - val_accuracy: 0.9768\n",
            "Epoch 6/10\n",
            "39995/39995 [==============================] - 763s 19ms/step - loss: 0.0901 - accuracy: 0.9683 - val_loss: 0.0801 - val_accuracy: 0.9773\n",
            "Epoch 7/10\n",
            "39995/39995 [==============================] - 762s 19ms/step - loss: 0.0824 - accuracy: 0.9718 - val_loss: 0.0675 - val_accuracy: 0.9809\n",
            "Epoch 8/10\n",
            "39995/39995 [==============================] - 760s 19ms/step - loss: 0.0752 - accuracy: 0.9736 - val_loss: 0.0702 - val_accuracy: 0.9814\n",
            "Epoch 9/10\n",
            "39995/39995 [==============================] - 756s 19ms/step - loss: 0.0699 - accuracy: 0.9766 - val_loss: 0.0651 - val_accuracy: 0.9829\n",
            "Epoch 10/10\n",
            "39995/39995 [==============================] - 764s 19ms/step - loss: 0.0653 - accuracy: 0.9785 - val_loss: 0.0624 - val_accuracy: 0.9844\n"
          ],
          "name": "stdout"
        }
      ]
    },
    {
      "cell_type": "code",
      "metadata": {
        "id": "KJDOi-fiXwlp",
        "colab": {
          "base_uri": "https://localhost:8080/",
          "height": 70
        },
        "outputId": "a90d3732-6f9a-4ab5-e34b-48b5bd07ef00"
      },
      "source": [
        "test_preds = model_multicnn.predict([X_train, X_train, X_train, X_train, X_train])\n",
        "test_preds = np.round(test_preds)\n",
        "correct_predictions = float(sum(test_preds == y_train)[0])\n",
        "print(\"Correct predictions:\", correct_predictions)\n",
        "print(\"Total number of test examples:\", len(y_train))\n",
        "print(\"Accuracy of model1: \", correct_predictions/float(len(y_train)))"
      ],
      "execution_count": null,
      "outputs": [
        {
          "output_type": "stream",
          "text": [
            "Correct predictions: 39772.0\n",
            "Total number of test examples: 39995\n",
            "Accuracy of model1:  0.9944243030378798\n"
          ],
          "name": "stdout"
        }
      ]
    },
    {
      "cell_type": "code",
      "metadata": {
        "id": "Tkto5TBmXxBl",
        "colab": {
          "base_uri": "https://localhost:8080/",
          "height": 70
        },
        "outputId": "d59160f1-b27e-43a0-f317-a38fb52663c5"
      },
      "source": [
        "test_preds = model_multicnn.predict([x_test, x_test, x_test, x_test, x_test])\n",
        "test_preds = np.round(test_preds)\n",
        "correct_predictions = float(sum(test_preds == y_test)[0])\n",
        "print(\"Correct predictions:\", correct_predictions)\n",
        "print(\"Total number of test examples:\", len(y_test))\n",
        "print(\"Accuracy of model1: \", correct_predictions/float(len(y_test)))"
      ],
      "execution_count": null,
      "outputs": [
        {
          "output_type": "stream",
          "text": [
            "Correct predictions: 24845.0\n",
            "Total number of test examples: 24997\n",
            "Accuracy of model1:  0.9939192703124375\n"
          ],
          "name": "stdout"
        }
      ]
    },
    {
      "cell_type": "code",
      "metadata": {
        "id": "ncpPfIXzXyXz",
        "colab": {
          "base_uri": "https://localhost:8080/",
          "height": 87
        },
        "outputId": "16ba9293-cdcd-4057-bb19-77cf898c7640"
      },
      "source": [
        "from sklearn.metrics import confusion_matrix\n",
        "import matplotlib.pyplot as plt\n",
        "import pandas as pd\n",
        "\n",
        "x_pred = model_multicnn.predict([x_test, x_test, x_test, x_test, x_test])\n",
        "x_pred = np.round(x_pred)\n",
        "x_pred = x_pred.argmax(1)\n",
        "y_test_s = y_test.argmax(1)\n",
        "\n",
        "confusion_matrix = pd.crosstab(y_test_s, x_pred, rownames = ['Actual'], colnames = ['Predicted'])\n",
        "\n",
        "print (confusion_matrix)"
      ],
      "execution_count": null,
      "outputs": [
        {
          "output_type": "stream",
          "text": [
            "Predicted     0      1\n",
            "Actual                \n",
            "0          9871     56\n",
            "1            96  14974\n"
          ],
          "name": "stdout"
        }
      ]
    },
    {
      "cell_type": "markdown",
      "metadata": {
        "id": "ov0WFExA70d2"
      },
      "source": [
        "Based on the confusion matrix, the calculations are-\n",
        "\n",
        "\n",
        "1.   Precision - 0.9944\n",
        "2.   Recall - 0.9904\n",
        "3.   Accuracy - 0.9939\n",
        "4.   F1 score - 0.9924\n",
        "\n"
      ]
    },
    {
      "cell_type": "markdown",
      "metadata": {
        "id": "PbHGtfkmYykD"
      },
      "source": [
        "### **CNN**"
      ]
    },
    {
      "cell_type": "code",
      "metadata": {
        "id": "1dc44OElX8Ev",
        "colab": {
          "base_uri": "https://localhost:8080/",
          "height": 1000
        },
        "outputId": "d334477f-09e5-4631-f9b4-0d2c8e9b613b"
      },
      "source": [
        "convs = []\n",
        "filter_sizes = [3,4,5]\n",
        "\n",
        "sequence_input = Input(shape=(MAX_SEQUENCE_LENGTH,), dtype='int32')\n",
        "embedded_sequences = embedding_layer(sequence_input)\n",
        "\n",
        "for fsz in filter_sizes:\n",
        "    l_conv = Conv1D(nb_filter=128,filter_length=fsz,activation='relu')(embedded_sequences)\n",
        "    l_pool = MaxPooling1D(5)(l_conv)\n",
        "    convs.append(l_pool)\n",
        "    \n",
        "# l_merge = Merge(mode='concat', concat_axis=1)(convs)\n",
        "l_cov1= Conv1D(filters=128, kernel_size=5, activation='relu')(l_pool)\n",
        "l_pool1 = MaxPooling1D(5)(l_cov1)\n",
        "l_cov2 = Conv1D(filters=128, kernel_size=5, activation='relu')(l_pool1)\n",
        "l_pool2 = MaxPooling1D(30)(l_cov2)\n",
        "l_flat = Flatten()(l_pool2)\n",
        "l_dense1 = Dense(128, activation='relu')(l_flat)\n",
        "l_dense2 = Dense(64, activation='relu')(l_dense1)\n",
        "l_dense3 = Dense(32, activation='relu')(l_dense2)\n",
        "preds = Dense(2, activation='softmax')(l_dense3)\n",
        "\n",
        "model_cnn = Model(sequence_input, preds)\n",
        "model_cnn.compile(loss='categorical_crossentropy',\n",
        "              optimizer='adadelta',\n",
        "              metrics=['accuracy'])\n",
        "\n",
        "print(\"Fitting a more complex convolutional neural network model\")\n",
        "model_cnn.summary()\n",
        "history_cnn = model_cnn.fit(X_train, y_train, validation_data=(x_val, y_val),\n",
        "          epochs=10, batch_size=128)\n"
      ],
      "execution_count": null,
      "outputs": [
        {
          "output_type": "stream",
          "text": [
            "Fitting a more complex convolutional neural network model\n",
            "Model: \"model_9\"\n",
            "_________________________________________________________________\n",
            "Layer (type)                 Output Shape              Param #   \n",
            "=================================================================\n",
            "input_17 (InputLayer)        (None, 1000)              0         \n",
            "_________________________________________________________________\n",
            "embedding_1 (Embedding)      (None, 1000, 100)         6049300   \n",
            "_________________________________________________________________\n",
            "conv1d_43 (Conv1D)           (None, 996, 128)          64128     \n",
            "_________________________________________________________________\n",
            "max_pooling1d_43 (MaxPooling (None, 199, 128)          0         \n",
            "_________________________________________________________________\n",
            "conv1d_44 (Conv1D)           (None, 195, 128)          82048     \n",
            "_________________________________________________________________\n",
            "max_pooling1d_44 (MaxPooling (None, 39, 128)           0         \n",
            "_________________________________________________________________\n",
            "conv1d_45 (Conv1D)           (None, 35, 128)           82048     \n",
            "_________________________________________________________________\n",
            "max_pooling1d_45 (MaxPooling (None, 1, 128)            0         \n",
            "_________________________________________________________________\n",
            "flatten_17 (Flatten)         (None, 128)               0         \n",
            "_________________________________________________________________\n",
            "dense_50 (Dense)             (None, 128)               16512     \n",
            "_________________________________________________________________\n",
            "dense_51 (Dense)             (None, 64)                8256      \n",
            "_________________________________________________________________\n",
            "dense_52 (Dense)             (None, 32)                2080      \n",
            "_________________________________________________________________\n",
            "dense_53 (Dense)             (None, 2)                 66        \n",
            "=================================================================\n",
            "Total params: 6,304,438\n",
            "Trainable params: 6,304,438\n",
            "Non-trainable params: 0\n",
            "_________________________________________________________________\n"
          ],
          "name": "stdout"
        },
        {
          "output_type": "stream",
          "text": [
            "/usr/local/lib/python3.6/dist-packages/ipykernel_launcher.py:8: UserWarning: Update your `Conv1D` call to the Keras 2 API: `Conv1D(activation=\"relu\", filters=128, kernel_size=3)`\n",
            "  \n",
            "/usr/local/lib/python3.6/dist-packages/ipykernel_launcher.py:8: UserWarning: Update your `Conv1D` call to the Keras 2 API: `Conv1D(activation=\"relu\", filters=128, kernel_size=4)`\n",
            "  \n",
            "/usr/local/lib/python3.6/dist-packages/ipykernel_launcher.py:8: UserWarning: Update your `Conv1D` call to the Keras 2 API: `Conv1D(activation=\"relu\", filters=128, kernel_size=5)`\n",
            "  \n",
            "/usr/local/lib/python3.6/dist-packages/tensorflow/python/framework/indexed_slices.py:434: UserWarning: Converting sparse IndexedSlices to a dense Tensor of unknown shape. This may consume a large amount of memory.\n",
            "  \"Converting sparse IndexedSlices to a dense Tensor of unknown shape. \"\n"
          ],
          "name": "stderr"
        },
        {
          "output_type": "stream",
          "text": [
            "Train on 39995 samples, validate on 24997 samples\n",
            "Epoch 1/10\n",
            "39995/39995 [==============================] - 530s 13ms/step - loss: 0.6750 - accuracy: 0.5981 - val_loss: 0.6755 - val_accuracy: 0.5972\n",
            "Epoch 2/10\n",
            "39995/39995 [==============================] - 533s 13ms/step - loss: 0.6737 - accuracy: 0.5992 - val_loss: 0.6744 - val_accuracy: 0.5972\n",
            "Epoch 3/10\n",
            "39995/39995 [==============================] - 533s 13ms/step - loss: 0.6736 - accuracy: 0.5993 - val_loss: 0.6742 - val_accuracy: 0.5972\n",
            "Epoch 4/10\n",
            "39995/39995 [==============================] - 532s 13ms/step - loss: 0.6735 - accuracy: 0.5993 - val_loss: 0.6741 - val_accuracy: 0.5972\n",
            "Epoch 5/10\n",
            "39995/39995 [==============================] - 533s 13ms/step - loss: 0.6735 - accuracy: 0.5993 - val_loss: 0.6745 - val_accuracy: 0.5972\n",
            "Epoch 6/10\n",
            "39995/39995 [==============================] - 534s 13ms/step - loss: 0.6734 - accuracy: 0.5993 - val_loss: 0.6744 - val_accuracy: 0.5972\n",
            "Epoch 7/10\n",
            "39995/39995 [==============================] - 531s 13ms/step - loss: 0.6735 - accuracy: 0.5993 - val_loss: 0.6742 - val_accuracy: 0.5972\n",
            "Epoch 8/10\n",
            "39995/39995 [==============================] - 532s 13ms/step - loss: 0.6735 - accuracy: 0.5993 - val_loss: 0.6744 - val_accuracy: 0.5972\n",
            "Epoch 9/10\n",
            "39995/39995 [==============================] - 530s 13ms/step - loss: 0.6735 - accuracy: 0.5993 - val_loss: 0.6745 - val_accuracy: 0.5972\n",
            "Epoch 10/10\n",
            "39995/39995 [==============================] - 532s 13ms/step - loss: 0.6735 - accuracy: 0.5993 - val_loss: 0.6743 - val_accuracy: 0.5972\n"
          ],
          "name": "stdout"
        }
      ]
    },
    {
      "cell_type": "code",
      "metadata": {
        "id": "rUG-xViYYLLw",
        "colab": {
          "base_uri": "https://localhost:8080/",
          "height": 70
        },
        "outputId": "16d987fb-60e2-49cb-d450-dac98f1adb35"
      },
      "source": [
        "test_preds = model_cnn.predict(X_train)\n",
        "test_preds = np.round(test_preds)\n",
        "correct_predictions = float(sum(test_preds == y_train)[0])\n",
        "print(\"Correct predictions:\", correct_predictions)\n",
        "print(\"Total number of test examples:\", len(y_train))\n",
        "print(\"Accuracy of model: \", correct_predictions/float(len(y_train)))"
      ],
      "execution_count": null,
      "outputs": [
        {
          "output_type": "stream",
          "text": [
            "Correct predictions: 23968.0\n",
            "Total number of test examples: 39995\n",
            "Accuracy of model:  0.5992749093636704\n"
          ],
          "name": "stdout"
        }
      ]
    },
    {
      "cell_type": "code",
      "metadata": {
        "id": "4lFlQ-mEYMc5",
        "colab": {
          "base_uri": "https://localhost:8080/",
          "height": 70
        },
        "outputId": "121b4255-a7c8-450e-fcb1-821a68e88ad3"
      },
      "source": [
        "test_preds = model_cnn.predict(x_test)\n",
        "test_preds = np.round(test_preds)\n",
        "correct_predictions = float(sum(test_preds == y_test)[0])\n",
        "print(\"Correct predictions:\", correct_predictions)\n",
        "print(\"Total number of test examples:\", len(y_test))\n",
        "print(\"Accuracy of model: \", correct_predictions/float(len(y_test)))"
      ],
      "execution_count": null,
      "outputs": [
        {
          "output_type": "stream",
          "text": [
            "Correct predictions: 15070.0\n",
            "Total number of test examples: 24997\n",
            "Accuracy of model:  0.6028723446813617\n"
          ],
          "name": "stdout"
        }
      ]
    },
    {
      "cell_type": "code",
      "metadata": {
        "id": "7zkMFTnXYOV-",
        "colab": {
          "base_uri": "https://localhost:8080/",
          "height": 87
        },
        "outputId": "1e430340-8b37-4568-eeca-ddf7ee8b6b13"
      },
      "source": [
        "from sklearn.metrics import confusion_matrix\n",
        "import matplotlib.pyplot as plt\n",
        "import pandas as pd\n",
        "\n",
        "x_pred = model_cnn.predict(x_test)\n",
        "x_pred = np.round(x_pred)\n",
        "x_pred = x_pred.argmax(1)\n",
        "y_test_s = y_test.argmax(1)\n",
        "\n",
        "confusion_matrix = pd.crosstab(y_test_s, x_pred, rownames = ['Actual'], colnames = ['Predicted'])\n",
        "\n",
        "print (confusion_matrix)"
      ],
      "execution_count": null,
      "outputs": [
        {
          "output_type": "stream",
          "text": [
            "Predicted      1\n",
            "Actual          \n",
            "0           9927\n",
            "1          15070\n"
          ],
          "name": "stdout"
        }
      ]
    },
    {
      "cell_type": "code",
      "metadata": {
        "id": "Y4SbXgVJYPAR",
        "colab": {
          "base_uri": "https://localhost:8080/",
          "height": 366
        },
        "outputId": "e08ac8ac-4361-402e-c45a-01f367010efe"
      },
      "source": [
        "\n",
        "import matplotlib.pyplot as plt\n",
        "%matplotlib inline \n",
        "# list all data in history\n",
        "print(history_deepcnn.history.keys())\n",
        "print(history_multicnn.history.keys())\n",
        "print(history_lstm.history.keys())\n",
        "print(history_cnn.history.keys())\n",
        "\n",
        "\n",
        "\n",
        "\n",
        "plt.plot(history_deepcnn.history['accuracy'])\n",
        "plt.plot(history_deepcnn.history['val_accuracy'])\n",
        "\n",
        "\n",
        "plt.plot(history_multicnn.history['accuracy'])\n",
        "plt.plot(history_multicnn.history['val_accuracy'])\n",
        "\n",
        "\n",
        "plt.plot(history_lstm.history['accuracy'])\n",
        "plt.plot(history_lstm.history['val_accuracy'])\n",
        "\n",
        "plt.plot(history_cnn.history['accuracy'])\n",
        "plt.plot(history_cnn.history['val_accuracy'])\n",
        "\n",
        "\n",
        "\n",
        "plt.legend(['deepcnn_train'  , 'deepcnn_test', 'multicnn_train', 'mutlicnn_test' , 'lstm_train', 'lstm_test', 'cnn_train', 'cnn_test'])\n",
        "\n",
        "\n",
        "plt.title('model accuracy')\n",
        "plt.ylabel('accuracy')\n",
        "plt.xlabel('epoch')\n",
        "\n",
        "plt.show()"
      ],
      "execution_count": null,
      "outputs": [
        {
          "output_type": "stream",
          "text": [
            "dict_keys(['val_loss', 'val_accuracy', 'loss', 'accuracy'])\n",
            "dict_keys(['val_loss', 'val_accuracy', 'loss', 'accuracy'])\n",
            "dict_keys(['val_loss', 'val_accuracy', 'loss', 'accuracy'])\n",
            "dict_keys(['val_loss', 'val_accuracy', 'loss', 'accuracy'])\n"
          ],
          "name": "stdout"
        },
        {
          "output_type": "display_data",
          "data": {
            "image/png": "[encoded data removed]",
            "text/plain": [
              "<Figure size 432x288 with 1 Axes>"
            ]
          },
          "metadata": {
            "tags": [],
            "needs_background": "light"
          }
        }
      ]
    }
  ]
}