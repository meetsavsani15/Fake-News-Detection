{
  "nbformat": 4,
  "nbformat_minor": 0,
  "metadata": {
    "colab": {
      "name": "LSTM_DeepCNN.ipynb",
      "provenance": [],
      "collapsed_sections": []
    },
    "kernelspec": {
      "name": "python3",
      "display_name": "Python 3"
    }
  },
  "cells": [
    {
      "cell_type": "code",
      "metadata": {
        "id": "4AhErF7iuHoJ",
        "colab_type": "code",
        "outputId": "79490eff-02fe-4ed2-fbb2-77f0115df332",
        "colab": {
          "base_uri": "https://localhost:8080/",
          "height": 121
        }
      },
      "source": [
        "from google.colab import drive\n",
        "drive.mount('/content/drive')"
      ],
      "execution_count": 1,
      "outputs": [
        {
          "output_type": "stream",
          "text": [
            "Go to this URL in a browser: https://accounts.google.com/o/oauth2/auth?client_id=947318989803-6bn6qk8qdgf4n4g3pfee6491hc0brc4i.apps.googleusercontent.com&redirect_uri=urn%3aietf%3awg%3aoauth%3a2.0%3aoob&response_type=code&scope=email%20https%3a%2f%2fwww.googleapis.com%2fauth%2fdocs.test%20https%3a%2f%2fwww.googleapis.com%2fauth%2fdrive%20https%3a%2f%2fwww.googleapis.com%2fauth%2fdrive.photos.readonly%20https%3a%2f%2fwww.googleapis.com%2fauth%2fpeopleapi.readonly\n",
            "\n",
            "Enter your authorization code:\n",
            "··········\n",
            "Mounted at /content/drive\n"
          ],
          "name": "stdout"
        }
      ]
    },
    {
      "cell_type": "code",
      "metadata": {
        "id": "0nXJrhNzvMKa",
        "colab_type": "code",
        "colab": {}
      },
      "source": [
        "import pandas as pd"
      ],
      "execution_count": 0,
      "outputs": []
    },
    {
      "cell_type": "markdown",
      "metadata": {
        "id": "HpDYJwqoBy_7",
        "colab_type": "text"
      },
      "source": [
        "### **Importing data**"
      ]
    },
    {
      "cell_type": "code",
      "metadata": {
        "id": "eL3coEZpuXYW",
        "colab_type": "code",
        "colab": {}
      },
      "source": [
        "path = '/content/drive/My Drive/Team 2 BI/Meet/Fake_News/train.csv'\n",
        "train_data = pd.read_csv(path)"
      ],
      "execution_count": 0,
      "outputs": []
    },
    {
      "cell_type": "code",
      "metadata": {
        "id": "G1Xg-Zhb7B1A",
        "colab_type": "code",
        "outputId": "87201945-155d-4e86-fa80-9ac27205249e",
        "colab": {
          "base_uri": "https://localhost:8080/",
          "height": 34
        }
      },
      "source": [
        "train_data.shape"
      ],
      "execution_count": 4,
      "outputs": [
        {
          "output_type": "execute_result",
          "data": {
            "text/plain": [
              "(20800, 5)"
            ]
          },
          "metadata": {
            "tags": []
          },
          "execution_count": 4
        }
      ]
    },
    {
      "cell_type": "code",
      "metadata": {
        "id": "9SrWX49h7HwT",
        "colab_type": "code",
        "colab": {}
      },
      "source": [
        ""
      ],
      "execution_count": 0,
      "outputs": []
    },
    {
      "cell_type": "code",
      "metadata": {
        "id": "T2CZbAx16c1P",
        "colab_type": "code",
        "colab": {}
      },
      "source": [
        "path = '/content/drive/My Drive/test.csv'\n",
        "test_data = pd.read_csv(path)"
      ],
      "execution_count": 0,
      "outputs": []
    },
    {
      "cell_type": "code",
      "metadata": {
        "id": "QnsSS5KN6-6G",
        "colab_type": "code",
        "outputId": "d0963b61-1bd1-4268-881b-605732087596",
        "colab": {
          "base_uri": "https://localhost:8080/",
          "height": 34
        }
      },
      "source": [
        "test_data.shape"
      ],
      "execution_count": 6,
      "outputs": [
        {
          "output_type": "execute_result",
          "data": {
            "text/plain": [
              "(5200, 4)"
            ]
          },
          "metadata": {
            "tags": []
          },
          "execution_count": 6
        }
      ]
    },
    {
      "cell_type": "markdown",
      "metadata": {
        "id": "RwTCSo1WB5Ef",
        "colab_type": "text"
      },
      "source": [
        "### **Data Preprocessing**"
      ]
    },
    {
      "cell_type": "code",
      "metadata": {
        "id": "oqvAKTXevkXh",
        "colab_type": "code",
        "outputId": "f6c16c9d-2a26-478e-ca87-c6397e1c8baf",
        "colab": {
          "base_uri": "https://localhost:8080/",
          "height": 118
        }
      },
      "source": [
        "train_data.isnull().sum()"
      ],
      "execution_count": 7,
      "outputs": [
        {
          "output_type": "execute_result",
          "data": {
            "text/plain": [
              "id           0\n",
              "title      558\n",
              "author    1957\n",
              "text        39\n",
              "label        0\n",
              "dtype: int64"
            ]
          },
          "metadata": {
            "tags": []
          },
          "execution_count": 7
        }
      ]
    },
    {
      "cell_type": "code",
      "metadata": {
        "id": "S1i-OQ2O6ga7",
        "colab_type": "code",
        "outputId": "820e4d17-5850-4595-923d-a82cad1b20a4",
        "colab": {
          "base_uri": "https://localhost:8080/",
          "height": 101
        }
      },
      "source": [
        "test_data.isnull().sum()"
      ],
      "execution_count": 8,
      "outputs": [
        {
          "output_type": "execute_result",
          "data": {
            "text/plain": [
              "id          0\n",
              "title     122\n",
              "author    503\n",
              "text        7\n",
              "dtype: int64"
            ]
          },
          "metadata": {
            "tags": []
          },
          "execution_count": 8
        }
      ]
    },
    {
      "cell_type": "code",
      "metadata": {
        "id": "E_zQgwN8vsCT",
        "colab_type": "code",
        "outputId": "52f14940-a5a9-4d4d-af9f-be7dd41980ea",
        "colab": {
          "base_uri": "https://localhost:8080/",
          "height": 118
        }
      },
      "source": [
        "train_data[['title' , 'author']] = train_data[['title' , 'author']].fillna(value = 'Missing')\n",
        "train_data = train_data.dropna()\n",
        "train_data.isnull().sum()"
      ],
      "execution_count": 9,
      "outputs": [
        {
          "output_type": "execute_result",
          "data": {
            "text/plain": [
              "id        0\n",
              "title     0\n",
              "author    0\n",
              "text      0\n",
              "label     0\n",
              "dtype: int64"
            ]
          },
          "metadata": {
            "tags": []
          },
          "execution_count": 9
        }
      ]
    },
    {
      "cell_type": "code",
      "metadata": {
        "id": "HFhHWuT36pIo",
        "colab_type": "code",
        "outputId": "7f1054c0-6be0-4df6-ae47-15a38f981fd3",
        "colab": {
          "base_uri": "https://localhost:8080/",
          "height": 118
        }
      },
      "source": [
        "test_data[['title' , 'author']] = test_data[['title' , 'author']].fillna(value = 'Missing')\n",
        "test_data = train_data.dropna()\n",
        "test_data.isnull().sum()"
      ],
      "execution_count": 10,
      "outputs": [
        {
          "output_type": "execute_result",
          "data": {
            "text/plain": [
              "id        0\n",
              "title     0\n",
              "author    0\n",
              "text      0\n",
              "label     0\n",
              "dtype: int64"
            ]
          },
          "metadata": {
            "tags": []
          },
          "execution_count": 10
        }
      ]
    },
    {
      "cell_type": "code",
      "metadata": {
        "id": "Htwb7Kr-vxZK",
        "colab_type": "code",
        "outputId": "3db39074-f0b7-48df-ad26-83951bbad9dc",
        "colab": {
          "base_uri": "https://localhost:8080/",
          "height": 195
        }
      },
      "source": [
        "length = []\n",
        "[length.append(len(str(text))) for text in train_data['text']]\n",
        "train_data['length'] = length\n",
        "train_data.head()"
      ],
      "execution_count": 11,
      "outputs": [
        {
          "output_type": "execute_result",
          "data": {
            "text/html": [
              "<div>\n",
              "<style scoped>\n",
              "    .dataframe tbody tr th:only-of-type {\n",
              "        vertical-align: middle;\n",
              "    }\n",
              "\n",
              "    .dataframe tbody tr th {\n",
              "        vertical-align: top;\n",
              "    }\n",
              "\n",
              "    .dataframe thead th {\n",
              "        text-align: right;\n",
              "    }\n",
              "</style>\n",
              "<table border=\"1\" class=\"dataframe\">\n",
              "  <thead>\n",
              "    <tr style=\"text-align: right;\">\n",
              "      <th></th>\n",
              "      <th>id</th>\n",
              "      <th>title</th>\n",
              "      <th>author</th>\n",
              "      <th>text</th>\n",
              "      <th>label</th>\n",
              "      <th>length</th>\n",
              "    </tr>\n",
              "  </thead>\n",
              "  <tbody>\n",
              "    <tr>\n",
              "      <th>0</th>\n",
              "      <td>0</td>\n",
              "      <td>House Dem Aide: We Didn’t Even See Comey’s Let...</td>\n",
              "      <td>Darrell Lucus</td>\n",
              "      <td>House Dem Aide: We Didn’t Even See Comey’s Let...</td>\n",
              "      <td>1</td>\n",
              "      <td>4930</td>\n",
              "    </tr>\n",
              "    <tr>\n",
              "      <th>1</th>\n",
              "      <td>1</td>\n",
              "      <td>FLYNN: Hillary Clinton, Big Woman on Campus - ...</td>\n",
              "      <td>Daniel J. Flynn</td>\n",
              "      <td>Ever get the feeling your life circles the rou...</td>\n",
              "      <td>0</td>\n",
              "      <td>4160</td>\n",
              "    </tr>\n",
              "    <tr>\n",
              "      <th>2</th>\n",
              "      <td>2</td>\n",
              "      <td>Why the Truth Might Get You Fired</td>\n",
              "      <td>Consortiumnews.com</td>\n",
              "      <td>Why the Truth Might Get You Fired October 29, ...</td>\n",
              "      <td>1</td>\n",
              "      <td>7692</td>\n",
              "    </tr>\n",
              "    <tr>\n",
              "      <th>3</th>\n",
              "      <td>3</td>\n",
              "      <td>15 Civilians Killed In Single US Airstrike Hav...</td>\n",
              "      <td>Jessica Purkiss</td>\n",
              "      <td>Videos 15 Civilians Killed In Single US Airstr...</td>\n",
              "      <td>1</td>\n",
              "      <td>3237</td>\n",
              "    </tr>\n",
              "    <tr>\n",
              "      <th>4</th>\n",
              "      <td>4</td>\n",
              "      <td>Iranian woman jailed for fictional unpublished...</td>\n",
              "      <td>Howard Portnoy</td>\n",
              "      <td>Print \\nAn Iranian woman has been sentenced to...</td>\n",
              "      <td>1</td>\n",
              "      <td>938</td>\n",
              "    </tr>\n",
              "  </tbody>\n",
              "</table>\n",
              "</div>"
            ],
            "text/plain": [
              "   id                                              title  ... label length\n",
              "0   0  House Dem Aide: We Didn’t Even See Comey’s Let...  ...     1   4930\n",
              "1   1  FLYNN: Hillary Clinton, Big Woman on Campus - ...  ...     0   4160\n",
              "2   2                  Why the Truth Might Get You Fired  ...     1   7692\n",
              "3   3  15 Civilians Killed In Single US Airstrike Hav...  ...     1   3237\n",
              "4   4  Iranian woman jailed for fictional unpublished...  ...     1    938\n",
              "\n",
              "[5 rows x 6 columns]"
            ]
          },
          "metadata": {
            "tags": []
          },
          "execution_count": 11
        }
      ]
    },
    {
      "cell_type": "code",
      "metadata": {
        "id": "zENfMKZ560h4",
        "colab_type": "code",
        "outputId": "42fca77c-1fcd-4eab-9765-ec0bdc24af9e",
        "colab": {
          "base_uri": "https://localhost:8080/",
          "height": 195
        }
      },
      "source": [
        "length = []\n",
        "[length.append(len(str(text))) for text in test_data['text']]\n",
        "test_data['length'] = length\n",
        "test_data.head()"
      ],
      "execution_count": 12,
      "outputs": [
        {
          "output_type": "execute_result",
          "data": {
            "text/html": [
              "<div>\n",
              "<style scoped>\n",
              "    .dataframe tbody tr th:only-of-type {\n",
              "        vertical-align: middle;\n",
              "    }\n",
              "\n",
              "    .dataframe tbody tr th {\n",
              "        vertical-align: top;\n",
              "    }\n",
              "\n",
              "    .dataframe thead th {\n",
              "        text-align: right;\n",
              "    }\n",
              "</style>\n",
              "<table border=\"1\" class=\"dataframe\">\n",
              "  <thead>\n",
              "    <tr style=\"text-align: right;\">\n",
              "      <th></th>\n",
              "      <th>id</th>\n",
              "      <th>title</th>\n",
              "      <th>author</th>\n",
              "      <th>text</th>\n",
              "      <th>label</th>\n",
              "      <th>length</th>\n",
              "    </tr>\n",
              "  </thead>\n",
              "  <tbody>\n",
              "    <tr>\n",
              "      <th>0</th>\n",
              "      <td>0</td>\n",
              "      <td>House Dem Aide: We Didn’t Even See Comey’s Let...</td>\n",
              "      <td>Darrell Lucus</td>\n",
              "      <td>House Dem Aide: We Didn’t Even See Comey’s Let...</td>\n",
              "      <td>1</td>\n",
              "      <td>4930</td>\n",
              "    </tr>\n",
              "    <tr>\n",
              "      <th>1</th>\n",
              "      <td>1</td>\n",
              "      <td>FLYNN: Hillary Clinton, Big Woman on Campus - ...</td>\n",
              "      <td>Daniel J. Flynn</td>\n",
              "      <td>Ever get the feeling your life circles the rou...</td>\n",
              "      <td>0</td>\n",
              "      <td>4160</td>\n",
              "    </tr>\n",
              "    <tr>\n",
              "      <th>2</th>\n",
              "      <td>2</td>\n",
              "      <td>Why the Truth Might Get You Fired</td>\n",
              "      <td>Consortiumnews.com</td>\n",
              "      <td>Why the Truth Might Get You Fired October 29, ...</td>\n",
              "      <td>1</td>\n",
              "      <td>7692</td>\n",
              "    </tr>\n",
              "    <tr>\n",
              "      <th>3</th>\n",
              "      <td>3</td>\n",
              "      <td>15 Civilians Killed In Single US Airstrike Hav...</td>\n",
              "      <td>Jessica Purkiss</td>\n",
              "      <td>Videos 15 Civilians Killed In Single US Airstr...</td>\n",
              "      <td>1</td>\n",
              "      <td>3237</td>\n",
              "    </tr>\n",
              "    <tr>\n",
              "      <th>4</th>\n",
              "      <td>4</td>\n",
              "      <td>Iranian woman jailed for fictional unpublished...</td>\n",
              "      <td>Howard Portnoy</td>\n",
              "      <td>Print \\nAn Iranian woman has been sentenced to...</td>\n",
              "      <td>1</td>\n",
              "      <td>938</td>\n",
              "    </tr>\n",
              "  </tbody>\n",
              "</table>\n",
              "</div>"
            ],
            "text/plain": [
              "   id                                              title  ... label length\n",
              "0   0  House Dem Aide: We Didn’t Even See Comey’s Let...  ...     1   4930\n",
              "1   1  FLYNN: Hillary Clinton, Big Woman on Campus - ...  ...     0   4160\n",
              "2   2                  Why the Truth Might Get You Fired  ...     1   7692\n",
              "3   3  15 Civilians Killed In Single US Airstrike Hav...  ...     1   3237\n",
              "4   4  Iranian woman jailed for fictional unpublished...  ...     1    938\n",
              "\n",
              "[5 rows x 6 columns]"
            ]
          },
          "metadata": {
            "tags": []
          },
          "execution_count": 12
        }
      ]
    },
    {
      "cell_type": "code",
      "metadata": {
        "id": "MIJmnXPOv1Zn",
        "colab_type": "code",
        "outputId": "25a4381f-86de-4ab8-c283-b8b53f81ee47",
        "colab": {
          "base_uri": "https://localhost:8080/",
          "height": 34
        }
      },
      "source": [
        "len(train_data[train_data['length'] < 50])"
      ],
      "execution_count": 13,
      "outputs": [
        {
          "output_type": "execute_result",
          "data": {
            "text/plain": [
              "207"
            ]
          },
          "metadata": {
            "tags": []
          },
          "execution_count": 13
        }
      ]
    },
    {
      "cell_type": "code",
      "metadata": {
        "id": "IoZ8X_5J7cg1",
        "colab_type": "code",
        "outputId": "a031169f-04a2-4522-8d03-454a26cde251",
        "colab": {
          "base_uri": "https://localhost:8080/",
          "height": 34
        }
      },
      "source": [
        "len(test_data[test_data['length'] < 50])"
      ],
      "execution_count": 14,
      "outputs": [
        {
          "output_type": "execute_result",
          "data": {
            "text/plain": [
              "207"
            ]
          },
          "metadata": {
            "tags": []
          },
          "execution_count": 14
        }
      ]
    },
    {
      "cell_type": "code",
      "metadata": {
        "id": "PCnpHR0Rv4DG",
        "colab_type": "code",
        "outputId": "e37fe819-6824-4844-bf6c-9fe4867456b2",
        "colab": {
          "base_uri": "https://localhost:8080/",
          "height": 218
        }
      },
      "source": [
        "train_data['text'][train_data['length'] < 50]"
      ],
      "execution_count": 15,
      "outputs": [
        {
          "output_type": "execute_result",
          "data": {
            "text/plain": [
              "82                                                   \n",
              "169                                                  \n",
              "173                                   Guest   Guest  \n",
              "196            They got the heater turned up on high.\n",
              "295                                                  \n",
              "                             ...                     \n",
              "20350                         I hope nobody got hurt!\n",
              "20418                                 Guest   Guest  \n",
              "20431    \\nOctober 28, 2016 The Mothers by stclair by\n",
              "20513                                                \n",
              "20636                              Trump all the way!\n",
              "Name: text, Length: 207, dtype: object"
            ]
          },
          "metadata": {
            "tags": []
          },
          "execution_count": 15
        }
      ]
    },
    {
      "cell_type": "markdown",
      "metadata": {
        "id": "3DQIg8hwB9K7",
        "colab_type": "text"
      },
      "source": [
        "### **Removing Outliers**"
      ]
    },
    {
      "cell_type": "code",
      "metadata": {
        "id": "8IRizHyvv6oQ",
        "colab_type": "code",
        "colab": {}
      },
      "source": [
        "train_data = train_data.drop(train_data['text'][train_data['length'] < 50].index, axis = 0)"
      ],
      "execution_count": 0,
      "outputs": []
    },
    {
      "cell_type": "code",
      "metadata": {
        "id": "GhRHlyRQ7wIB",
        "colab_type": "code",
        "colab": {}
      },
      "source": [
        "test_data = test_data.drop(test_data['text'][test_data['length'] < 50].index, axis = 0)"
      ],
      "execution_count": 0,
      "outputs": []
    },
    {
      "cell_type": "code",
      "metadata": {
        "id": "RymaYRkyv9WY",
        "colab_type": "code",
        "colab": {}
      },
      "source": [
        "train_data = train_data.apply(lambda x: x.astype(str).str.lower())\n"
      ],
      "execution_count": 0,
      "outputs": []
    },
    {
      "cell_type": "markdown",
      "metadata": {
        "id": "GYWmaReICPxK",
        "colab_type": "text"
      },
      "source": [
        "### **Tokenization**"
      ]
    },
    {
      "cell_type": "code",
      "metadata": {
        "id": "hLRsNgxbwCFt",
        "colab_type": "code",
        "colab": {}
      },
      "source": [
        "train_data['title'] = train_data['title'].str.replace('[^\\w\\s]','')\n",
        "train_data['title'] = train_data['title'].str.replace('<.*?>','')\n",
        "train_data['text'] = train_data['text'].str.replace('[^\\w\\s]','')\n",
        "train_data['text'] = train_data['text'].str.replace('<.*?>','')"
      ],
      "execution_count": 0,
      "outputs": []
    },
    {
      "cell_type": "code",
      "metadata": {
        "id": "DAi-prr9wMLS",
        "colab_type": "code",
        "colab": {
          "base_uri": "https://localhost:8080/",
          "height": 34
        },
        "outputId": "36137adf-489f-4c33-d2c0-9bc05023408a"
      },
      "source": [
        "import tensorflow as tf\n",
        "from keras.preprocessing.text import text_to_word_sequence"
      ],
      "execution_count": 20,
      "outputs": [
        {
          "output_type": "stream",
          "text": [
            "Using TensorFlow backend.\n"
          ],
          "name": "stderr"
        }
      ]
    },
    {
      "cell_type": "code",
      "metadata": {
        "id": "X-p7j9z0wGiy",
        "colab_type": "code",
        "colab": {}
      },
      "source": [
        "tokens = []\n",
        "[tokens.append(text_to_word_sequence(text)) for text in train_data['text']]\n",
        "train_data['tokens_text'] = tokens\n"
      ],
      "execution_count": 0,
      "outputs": []
    },
    {
      "cell_type": "code",
      "metadata": {
        "id": "gDFIYmG4wWgo",
        "colab_type": "code",
        "colab": {}
      },
      "source": [
        "tokens = []\n",
        "[tokens.append(text_to_word_sequence(text)) for text in train_data['title']]\n",
        "train_data['tokens_title'] = tokens\n"
      ],
      "execution_count": 0,
      "outputs": []
    },
    {
      "cell_type": "code",
      "metadata": {
        "id": "QbvH2obOwZkJ",
        "colab_type": "code",
        "outputId": "f60f63ae-681f-442f-97ef-970c932f0c04",
        "colab": {
          "base_uri": "https://localhost:8080/",
          "height": 402
        }
      },
      "source": [
        "train_data[['tokens_title' , 'tokens_text']]"
      ],
      "execution_count": 23,
      "outputs": [
        {
          "output_type": "execute_result",
          "data": {
            "text/html": [
              "<div>\n",
              "<style scoped>\n",
              "    .dataframe tbody tr th:only-of-type {\n",
              "        vertical-align: middle;\n",
              "    }\n",
              "\n",
              "    .dataframe tbody tr th {\n",
              "        vertical-align: top;\n",
              "    }\n",
              "\n",
              "    .dataframe thead th {\n",
              "        text-align: right;\n",
              "    }\n",
              "</style>\n",
              "<table border=\"1\" class=\"dataframe\">\n",
              "  <thead>\n",
              "    <tr style=\"text-align: right;\">\n",
              "      <th></th>\n",
              "      <th>tokens_title</th>\n",
              "      <th>tokens_text</th>\n",
              "    </tr>\n",
              "  </thead>\n",
              "  <tbody>\n",
              "    <tr>\n",
              "      <th>0</th>\n",
              "      <td>[house, dem, aide, we, didnt, even, see, comey...</td>\n",
              "      <td>[house, dem, aide, we, didnt, even, see, comey...</td>\n",
              "    </tr>\n",
              "    <tr>\n",
              "      <th>1</th>\n",
              "      <td>[flynn, hillary, clinton, big, woman, on, camp...</td>\n",
              "      <td>[ever, get, the, feeling, your, life, circles,...</td>\n",
              "    </tr>\n",
              "    <tr>\n",
              "      <th>2</th>\n",
              "      <td>[why, the, truth, might, get, you, fired]</td>\n",
              "      <td>[why, the, truth, might, get, you, fired, octo...</td>\n",
              "    </tr>\n",
              "    <tr>\n",
              "      <th>3</th>\n",
              "      <td>[15, civilians, killed, in, single, us, airstr...</td>\n",
              "      <td>[videos, 15, civilians, killed, in, single, us...</td>\n",
              "    </tr>\n",
              "    <tr>\n",
              "      <th>4</th>\n",
              "      <td>[iranian, woman, jailed, for, fictional, unpub...</td>\n",
              "      <td>[print, an, iranian, woman, has, been, sentenc...</td>\n",
              "    </tr>\n",
              "    <tr>\n",
              "      <th>...</th>\n",
              "      <td>...</td>\n",
              "      <td>...</td>\n",
              "    </tr>\n",
              "    <tr>\n",
              "      <th>20795</th>\n",
              "      <td>[rapper, ti, trump, a, poster, child, for, whi...</td>\n",
              "      <td>[rapper, t, i, unloaded, on, black, celebritie...</td>\n",
              "    </tr>\n",
              "    <tr>\n",
              "      <th>20796</th>\n",
              "      <td>[nfl, playoffs, schedule, matchups, and, odds,...</td>\n",
              "      <td>[when, the, green, bay, packers, lost, to, the...</td>\n",
              "    </tr>\n",
              "    <tr>\n",
              "      <th>20797</th>\n",
              "      <td>[macys, is, said, to, receive, takeover, appro...</td>\n",
              "      <td>[the, macys, of, today, grew, from, the, union...</td>\n",
              "    </tr>\n",
              "    <tr>\n",
              "      <th>20798</th>\n",
              "      <td>[nato, russia, to, hold, parallel, exercises, ...</td>\n",
              "      <td>[nato, russia, to, hold, parallel, exercises, ...</td>\n",
              "    </tr>\n",
              "    <tr>\n",
              "      <th>20799</th>\n",
              "      <td>[what, keeps, the, f35, alive]</td>\n",
              "      <td>[david, swanson, is, an, author, activist, jou...</td>\n",
              "    </tr>\n",
              "  </tbody>\n",
              "</table>\n",
              "<p>20554 rows × 2 columns</p>\n",
              "</div>"
            ],
            "text/plain": [
              "                                            tokens_title                                        tokens_text\n",
              "0      [house, dem, aide, we, didnt, even, see, comey...  [house, dem, aide, we, didnt, even, see, comey...\n",
              "1      [flynn, hillary, clinton, big, woman, on, camp...  [ever, get, the, feeling, your, life, circles,...\n",
              "2              [why, the, truth, might, get, you, fired]  [why, the, truth, might, get, you, fired, octo...\n",
              "3      [15, civilians, killed, in, single, us, airstr...  [videos, 15, civilians, killed, in, single, us...\n",
              "4      [iranian, woman, jailed, for, fictional, unpub...  [print, an, iranian, woman, has, been, sentenc...\n",
              "...                                                  ...                                                ...\n",
              "20795  [rapper, ti, trump, a, poster, child, for, whi...  [rapper, t, i, unloaded, on, black, celebritie...\n",
              "20796  [nfl, playoffs, schedule, matchups, and, odds,...  [when, the, green, bay, packers, lost, to, the...\n",
              "20797  [macys, is, said, to, receive, takeover, appro...  [the, macys, of, today, grew, from, the, union...\n",
              "20798  [nato, russia, to, hold, parallel, exercises, ...  [nato, russia, to, hold, parallel, exercises, ...\n",
              "20799                     [what, keeps, the, f35, alive]  [david, swanson, is, an, author, activist, jou...\n",
              "\n",
              "[20554 rows x 2 columns]"
            ]
          },
          "metadata": {
            "tags": []
          },
          "execution_count": 23
        }
      ]
    },
    {
      "cell_type": "markdown",
      "metadata": {
        "id": "bcGDZ_Z5CSnR",
        "colab_type": "text"
      },
      "source": [
        "### **Removing Stopword**"
      ]
    },
    {
      "cell_type": "code",
      "metadata": {
        "id": "O5fZSXv4wcg_",
        "colab_type": "code",
        "outputId": "67b12118-e9da-4753-8442-d8ab089f22e0",
        "colab": {
          "base_uri": "https://localhost:8080/",
          "height": 50
        }
      },
      "source": [
        "import nltk\n",
        "nltk.download('stopwords')\n",
        "\n",
        "from nltk.corpus import stopwords\n",
        "stops = set(stopwords.words(\"english\"))\n",
        "\n",
        "def remove_stops(row):\n",
        "  my_list = row['tokens_title']\n",
        "  final_text = [w for w in my_list if not w in stops]\n",
        "  return(final_text)\n",
        "\n",
        "train_data['title'] = train_data.apply(remove_stops, axis = 1)"
      ],
      "execution_count": 24,
      "outputs": [
        {
          "output_type": "stream",
          "text": [
            "[nltk_data] Downloading package stopwords to /root/nltk_data...\n",
            "[nltk_data]   Unzipping corpora/stopwords.zip.\n"
          ],
          "name": "stdout"
        }
      ]
    },
    {
      "cell_type": "code",
      "metadata": {
        "id": "E_aHUy7FwiJD",
        "colab_type": "code",
        "colab": {}
      },
      "source": [
        "from nltk.corpus import stopwords\n",
        "stops = set(stopwords.words(\"english\"))\n",
        "\n",
        "def remove_stops(row):\n",
        "  my_list = row['tokens_text']\n",
        "  final_text = [w for w in my_list if not w in stops]\n",
        "  return(final_text)\n",
        "\n",
        "train_data['text'] = train_data.apply(remove_stops, axis = 1)"
      ],
      "execution_count": 0,
      "outputs": []
    },
    {
      "cell_type": "code",
      "metadata": {
        "id": "L0285XarwmhK",
        "colab_type": "code",
        "colab": {}
      },
      "source": [
        "def rejoin_words(row):\n",
        "  my_list = row['text']\n",
        "  joined_words = ( \" \".join(my_list))\n",
        "  return joined_words\n",
        "\n",
        "train_data['text'] = train_data.apply(rejoin_words, axis = 1)"
      ],
      "execution_count": 0,
      "outputs": []
    },
    {
      "cell_type": "code",
      "metadata": {
        "id": "IwfWwu_zwp6t",
        "colab_type": "code",
        "colab": {}
      },
      "source": [
        "def rejoin_words(row):\n",
        "  my_list = row['title']\n",
        "  joined_words = ( \" \".join(my_list))\n",
        "  return joined_words\n",
        "\n",
        "train_data['title'] = train_data.apply(rejoin_words, axis = 1)"
      ],
      "execution_count": 0,
      "outputs": []
    },
    {
      "cell_type": "code",
      "metadata": {
        "id": "4jnVlF92xFeb",
        "colab_type": "code",
        "outputId": "ffda689d-ee0d-4b27-a3ee-b144ce3b3499",
        "colab": {
          "base_uri": "https://localhost:8080/",
          "height": 402
        }
      },
      "source": [
        "train_data[['title' , 'text']]"
      ],
      "execution_count": 28,
      "outputs": [
        {
          "output_type": "execute_result",
          "data": {
            "text/html": [
              "<div>\n",
              "<style scoped>\n",
              "    .dataframe tbody tr th:only-of-type {\n",
              "        vertical-align: middle;\n",
              "    }\n",
              "\n",
              "    .dataframe tbody tr th {\n",
              "        vertical-align: top;\n",
              "    }\n",
              "\n",
              "    .dataframe thead th {\n",
              "        text-align: right;\n",
              "    }\n",
              "</style>\n",
              "<table border=\"1\" class=\"dataframe\">\n",
              "  <thead>\n",
              "    <tr style=\"text-align: right;\">\n",
              "      <th></th>\n",
              "      <th>title</th>\n",
              "      <th>text</th>\n",
              "    </tr>\n",
              "  </thead>\n",
              "  <tbody>\n",
              "    <tr>\n",
              "      <th>0</th>\n",
              "      <td>house dem aide didnt even see comeys letter ja...</td>\n",
              "      <td>house dem aide didnt even see comeys letter ja...</td>\n",
              "    </tr>\n",
              "    <tr>\n",
              "      <th>1</th>\n",
              "      <td>flynn hillary clinton big woman campus breitbart</td>\n",
              "      <td>ever get feeling life circles roundabout rathe...</td>\n",
              "    </tr>\n",
              "    <tr>\n",
              "      <th>2</th>\n",
              "      <td>truth might get fired</td>\n",
              "      <td>truth might get fired october 29 2016 tension ...</td>\n",
              "    </tr>\n",
              "    <tr>\n",
              "      <th>3</th>\n",
              "      <td>15 civilians killed single us airstrike identi...</td>\n",
              "      <td>videos 15 civilians killed single us airstrike...</td>\n",
              "    </tr>\n",
              "    <tr>\n",
              "      <th>4</th>\n",
              "      <td>iranian woman jailed fictional unpublished sto...</td>\n",
              "      <td>print iranian woman sentenced six years prison...</td>\n",
              "    </tr>\n",
              "    <tr>\n",
              "      <th>...</th>\n",
              "      <td>...</td>\n",
              "      <td>...</td>\n",
              "    </tr>\n",
              "    <tr>\n",
              "      <th>20795</th>\n",
              "      <td>rapper ti trump poster child white supremacy</td>\n",
              "      <td>rapper unloaded black celebrities met donald t...</td>\n",
              "    </tr>\n",
              "    <tr>\n",
              "      <th>20796</th>\n",
              "      <td>nfl playoffs schedule matchups odds new york t...</td>\n",
              "      <td>green bay packers lost washington redskins wee...</td>\n",
              "    </tr>\n",
              "    <tr>\n",
              "      <th>20797</th>\n",
              "      <td>macys said receive takeover approach hudsons b...</td>\n",
              "      <td>macys today grew union several great names ame...</td>\n",
              "    </tr>\n",
              "    <tr>\n",
              "      <th>20798</th>\n",
              "      <td>nato russia hold parallel exercises balkans</td>\n",
              "      <td>nato russia hold parallel exercises balkans 11...</td>\n",
              "    </tr>\n",
              "    <tr>\n",
              "      <th>20799</th>\n",
              "      <td>keeps f35 alive</td>\n",
              "      <td>david swanson author activist journalist radio...</td>\n",
              "    </tr>\n",
              "  </tbody>\n",
              "</table>\n",
              "<p>20554 rows × 2 columns</p>\n",
              "</div>"
            ],
            "text/plain": [
              "                                                   title                                               text\n",
              "0      house dem aide didnt even see comeys letter ja...  house dem aide didnt even see comeys letter ja...\n",
              "1       flynn hillary clinton big woman campus breitbart  ever get feeling life circles roundabout rathe...\n",
              "2                                  truth might get fired  truth might get fired october 29 2016 tension ...\n",
              "3      15 civilians killed single us airstrike identi...  videos 15 civilians killed single us airstrike...\n",
              "4      iranian woman jailed fictional unpublished sto...  print iranian woman sentenced six years prison...\n",
              "...                                                  ...                                                ...\n",
              "20795       rapper ti trump poster child white supremacy  rapper unloaded black celebrities met donald t...\n",
              "20796  nfl playoffs schedule matchups odds new york t...  green bay packers lost washington redskins wee...\n",
              "20797  macys said receive takeover approach hudsons b...  macys today grew union several great names ame...\n",
              "20798        nato russia hold parallel exercises balkans  nato russia hold parallel exercises balkans 11...\n",
              "20799                                    keeps f35 alive  david swanson author activist journalist radio...\n",
              "\n",
              "[20554 rows x 2 columns]"
            ]
          },
          "metadata": {
            "tags": []
          },
          "execution_count": 28
        }
      ]
    },
    {
      "cell_type": "code",
      "metadata": {
        "id": "LaSYBn1zxSFI",
        "colab_type": "code",
        "colab": {}
      },
      "source": [
        "max_features = 4500"
      ],
      "execution_count": 0,
      "outputs": []
    },
    {
      "cell_type": "code",
      "metadata": {
        "id": "ey93Wx0fxKo8",
        "colab_type": "code",
        "colab": {}
      },
      "source": [
        "from tensorflow.keras.preprocessing.text import Tokenizer\n",
        "from tensorflow.keras.preprocessing.sequence import pad_sequences\n",
        "\n",
        "\n",
        "tokenizer = Tokenizer(num_words = max_features, filters='!\"#$%&()*+,-./:;<=>?@[\\\\]^_`{|}~\\t\\n', lower = True, split = ' ')\n",
        "tokenizer.fit_on_texts(texts = train_data['text'])\n",
        "X = tokenizer.texts_to_sequences(texts = train_data['text'])"
      ],
      "execution_count": 0,
      "outputs": []
    },
    {
      "cell_type": "code",
      "metadata": {
        "id": "bTomNeve172J",
        "colab_type": "code",
        "colab": {}
      },
      "source": [
        ""
      ],
      "execution_count": 0,
      "outputs": []
    },
    {
      "cell_type": "code",
      "metadata": {
        "id": "t4MNrojxxAdK",
        "colab_type": "code",
        "colab": {}
      },
      "source": [
        "word_index = tokenizer.word_index"
      ],
      "execution_count": 0,
      "outputs": []
    },
    {
      "cell_type": "markdown",
      "metadata": {
        "id": "ZYX_nTPjCWWX",
        "colab_type": "text"
      },
      "source": [
        "### **Padding**"
      ]
    },
    {
      "cell_type": "code",
      "metadata": {
        "id": "esgCAhOwx49w",
        "colab_type": "code",
        "colab": {}
      },
      "source": [
        "X = pad_sequences(sequences = X, maxlen = 1000, padding = 'pre')"
      ],
      "execution_count": 0,
      "outputs": []
    },
    {
      "cell_type": "code",
      "metadata": {
        "id": "0Hj2uyBjyK4N",
        "colab_type": "code",
        "outputId": "682b8a5c-ac7c-44f4-ab57-0d3e2e89656b",
        "colab": {
          "base_uri": "https://localhost:8080/",
          "height": 50
        }
      },
      "source": [
        "from keras.utils.np_utils import to_categorical\n",
        "import numpy as np\n",
        "\n",
        "print(X.shape)\n",
        "y = to_categorical(np.asarray(train_data['label'].values), num_classes = 2)\n",
        "print(y.shape)"
      ],
      "execution_count": 34,
      "outputs": [
        {
          "output_type": "stream",
          "text": [
            "(20554, 1000)\n",
            "(20554, 2)\n"
          ],
          "name": "stdout"
        }
      ]
    },
    {
      "cell_type": "code",
      "metadata": {
        "id": "ItQf2u2XxvhQ",
        "colab_type": "code",
        "colab": {}
      },
      "source": [
        "from sklearn.model_selection import train_test_split\n",
        "\n",
        "X_train, X_test, y_train, y_test = train_test_split(X, y, test_size = 0.2, random_state = 42)\n",
        "x_test, x_val, y_test, y_val = train_test_split( X, y, test_size=0.50, random_state=42)"
      ],
      "execution_count": 0,
      "outputs": []
    },
    {
      "cell_type": "code",
      "metadata": {
        "id": "DEn6O2uGf3bo",
        "colab_type": "code",
        "colab": {}
      },
      "source": [
        "# print(np.any(np.isnan(X_test)))\n",
        "# # print(np.any(np.isnan(y_test)))"
      ],
      "execution_count": 0,
      "outputs": []
    },
    {
      "cell_type": "code",
      "metadata": {
        "id": "Cbc1L3oPUSEN",
        "colab_type": "code",
        "colab": {}
      },
      "source": [
        ""
      ],
      "execution_count": 0,
      "outputs": []
    },
    {
      "cell_type": "markdown",
      "metadata": {
        "id": "bRqw5vT7CYrc",
        "colab_type": "text"
      },
      "source": [
        "### **GloVe Model**"
      ]
    },
    {
      "cell_type": "code",
      "metadata": {
        "id": "WebPVAILwsNg",
        "colab_type": "code",
        "outputId": "284df314-3dce-4ef6-e48e-b10cf55bbe17",
        "colab": {
          "base_uri": "https://localhost:8080/",
          "height": 34
        }
      },
      "source": [
        "import os\n",
        "from keras.models import Sequential\n",
        "from keras.layers import Embedding, Flatten, Dense, LSTM\n",
        "\n",
        "MAX_SEQUENCE_LENGTH = 1000\n",
        "GLOVE_DIR = '/content/drive/My Drive/glove.6B.100d.txt' \n",
        "EMBEDDING_DIM = 100\n",
        "embeddings_index = {}\n",
        "f = open(os.path.join(GLOVE_DIR), encoding=\"utf8\")\n",
        "for line in f:\n",
        "    values = line.split()\n",
        "    #print(values[1:])\n",
        "    word = values[0]\n",
        "    coefs = np.asarray(values[1:], dtype='float32')\n",
        "    embeddings_index[word] = coefs\n",
        "f.close()\n",
        "\n",
        "print('Total %s word vectors in Glove.' % len(embeddings_index))\n",
        "\n",
        "embedding_matrix = np.random.random((len(word_index) + 1, EMBEDDING_DIM))\n",
        "for word, i in word_index.items():\n",
        "    embedding_vector = embeddings_index.get(word)\n",
        "    if embedding_vector is not None:\n",
        "        # words not found in embedding index will be all-zeros.\n",
        "        embedding_matrix[i] = embedding_vector\n",
        "        \n",
        "embedding_layer = Embedding(len(word_index) + 1,\n",
        "                            EMBEDDING_DIM,\n",
        "                            weights=[embedding_matrix],\n",
        "                            input_length=MAX_SEQUENCE_LENGTH)"
      ],
      "execution_count": 37,
      "outputs": [
        {
          "output_type": "stream",
          "text": [
            "Total 400000 word vectors in Glove.\n"
          ],
          "name": "stdout"
        }
      ]
    },
    {
      "cell_type": "markdown",
      "metadata": {
        "id": "lBd-9wBwCbO5",
        "colab_type": "text"
      },
      "source": [
        "### **LSTM**"
      ]
    },
    {
      "cell_type": "code",
      "metadata": {
        "id": "xN_E7VLnNBnM",
        "colab_type": "code",
        "outputId": "995e3f72-aa1e-4e27-9e7c-0eb9fa153494",
        "colab": {
          "base_uri": "https://localhost:8080/",
          "height": 470
        }
      },
      "source": [
        "from keras.models import Sequential\n",
        "from keras.layers import Embedding, Flatten, Dense, LSTM\n",
        "\n",
        "model = Sequential()\n",
        "model.add(Embedding(len(word_index)+1 , EMBEDDING_DIM , weights = [embedding_matrix], input_length = MAX_SEQUENCE_LENGTH, trainable = False))\n",
        "# model.add(LSTM(128))\n",
        "model.add(LSTM(64))\n",
        "\n",
        "# model.add(Dense(128, activation = 'relu'))\n",
        "# model.add(Dense(64, activation = 'relu'))\n",
        "model.add(Dense(32, activation = 'relu'))\n",
        "model.add(Dense(2, activation = 'softmax'))\n",
        "model.compile(optimizer = 'adam', loss = 'binary_crossentropy', metrics = ['accuracy'])\n",
        "\n",
        "model.summary()\n",
        "history_lstm = model.fit(X_train, y_train, validation_data = (x_val, y_val), epochs = 5, batch_size = 64)\n",
        "\n"
      ],
      "execution_count": 38,
      "outputs": [
        {
          "output_type": "stream",
          "text": [
            "Model: \"sequential_1\"\n",
            "_________________________________________________________________\n",
            "Layer (type)                 Output Shape              Param #   \n",
            "=================================================================\n",
            "embedding_2 (Embedding)      (None, 1000, 100)         21356200  \n",
            "_________________________________________________________________\n",
            "lstm_1 (LSTM)                (None, 64)                42240     \n",
            "_________________________________________________________________\n",
            "dense_1 (Dense)              (None, 32)                2080      \n",
            "_________________________________________________________________\n",
            "dense_2 (Dense)              (None, 2)                 66        \n",
            "=================================================================\n",
            "Total params: 21,400,586\n",
            "Trainable params: 44,386\n",
            "Non-trainable params: 21,356,200\n",
            "_________________________________________________________________\n",
            "Train on 16443 samples, validate on 10277 samples\n",
            "Epoch 1/5\n",
            "16443/16443 [==============================] - 245s 15ms/step - loss: 0.4121 - accuracy: 0.8124 - val_loss: 0.3069 - val_accuracy: 0.8728\n",
            "Epoch 2/5\n",
            "16443/16443 [==============================] - 245s 15ms/step - loss: 0.2933 - accuracy: 0.8772 - val_loss: 0.2279 - val_accuracy: 0.9074\n",
            "Epoch 3/5\n",
            "16443/16443 [==============================] - 244s 15ms/step - loss: 0.2073 - accuracy: 0.9149 - val_loss: 0.2422 - val_accuracy: 0.8981\n",
            "Epoch 4/5\n",
            "16443/16443 [==============================] - 243s 15ms/step - loss: 0.1633 - accuracy: 0.9356 - val_loss: 0.1924 - val_accuracy: 0.9172\n",
            "Epoch 5/5\n",
            "16443/16443 [==============================] - 244s 15ms/step - loss: 0.1291 - accuracy: 0.9504 - val_loss: 0.1291 - val_accuracy: 0.9531\n"
          ],
          "name": "stdout"
        }
      ]
    },
    {
      "cell_type": "code",
      "metadata": {
        "id": "uNFtOTP8uast",
        "colab_type": "code",
        "colab": {}
      },
      "source": [
        ""
      ],
      "execution_count": 0,
      "outputs": []
    },
    {
      "cell_type": "code",
      "metadata": {
        "id": "QDHve0AGgsIo",
        "colab_type": "code",
        "outputId": "050f0bbe-1350-45d0-cad9-55530ee6c151",
        "colab": {
          "base_uri": "https://localhost:8080/",
          "height": 67
        }
      },
      "source": [
        "test_preds = model.predict(X_train)\n",
        "test_preds = np.round(test_preds)\n",
        "correct_predictions = float(sum(test_preds == y_train)[0])\n",
        "print(\"Correct predictions:\", correct_predictions)\n",
        "print(\"Total number of test examples:\", len(y_train))\n",
        "print(\"Accuracy of model1: \", correct_predictions/float(len(y_train)))"
      ],
      "execution_count": 39,
      "outputs": [
        {
          "output_type": "stream",
          "text": [
            "Correct predictions: 15793.0\n",
            "Total number of test examples: 16443\n",
            "Accuracy of model1:  0.9604695006993857\n"
          ],
          "name": "stdout"
        }
      ]
    },
    {
      "cell_type": "code",
      "metadata": {
        "id": "IfYwzmuLhLHx",
        "colab_type": "code",
        "outputId": "b9c14adf-1026-4115-8b96-4be3ab3cedd6",
        "colab": {
          "base_uri": "https://localhost:8080/",
          "height": 67
        }
      },
      "source": [
        "test_preds = model.predict(x_test)\n",
        "test_preds = np.round(test_preds)\n",
        "correct_predictions = float(sum(test_preds == y_test)[0])\n",
        "print(\"Correct predictions:\", correct_predictions)\n",
        "print(\"Total number of test examples:\", len(y_test))\n",
        "print(\"Accuracy of model1: \", correct_predictions/float(len(y_test)))"
      ],
      "execution_count": 40,
      "outputs": [
        {
          "output_type": "stream",
          "text": [
            "Correct predictions: 9864.0\n",
            "Total number of test examples: 10277\n",
            "Accuracy of model1:  0.959813175051085\n"
          ],
          "name": "stdout"
        }
      ]
    },
    {
      "cell_type": "markdown",
      "metadata": {
        "id": "DbKSPKfKCe-c",
        "colab_type": "text"
      },
      "source": [
        "### **Deep CNN**"
      ]
    },
    {
      "cell_type": "code",
      "metadata": {
        "id": "093643JWjeRS",
        "colab_type": "code",
        "outputId": "35b6482f-bfdf-445b-a7be-071deaaedd8f",
        "colab": {
          "base_uri": "https://localhost:8080/",
          "height": 1000
        }
      },
      "source": [
        "from keras.layers import Dense, Input, Flatten\n",
        "from keras.layers import Conv1D, MaxPooling1D, GlobalMaxPooling1D, Embedding, Dropout\n",
        "from keras.models import Model\n",
        "\n",
        "convs = []\n",
        "filter_sizes = [3,4,5]\n",
        "\n",
        "sequence_input = Input(shape=(MAX_SEQUENCE_LENGTH,), dtype='int32')\n",
        "embedded_sequences = embedding_layer(sequence_input)\n",
        "\n",
        "for fsz in filter_sizes:\n",
        "    l_conv = Conv1D(nb_filter=64,filter_length=fsz,activation='relu')(embedded_sequences)\n",
        "    l_pool = MaxPooling1D(5)(l_conv)\n",
        "    convs.append(l_pool)\n",
        "  \n",
        "\n",
        "# model.add()\n",
        "# model.add(Conv1D(filters=64, kernel_size=5, activation='relu'))\n",
        "# model.add(MaxPooling(5))\n",
        "# model.add(Conv1D(filters=64, kernel_size=5, activation='relu'))\n",
        "# model.add(MaxPooling1D(30))\n",
        "# model.add(Flatten())\n",
        "# model.add(Dense(128, activation = 'relu'))\n",
        "# model.add(Dense(64, activation = 'relu'))\n",
        "# model.add(Dense(32, activation = 'relu'))\n",
        "# model.add(Dense(2, activation = 'softmax'))\n",
        "#l_merge = Merge(mode='concat', concat_axis=1)(convs)\n",
        "l_conv1 = Conv1D(filters=256, kernel_size=5, activation='relu')(l_pool)\n",
        "l_pool1 = MaxPooling1D(pool_size = 2)(l_conv1)\n",
        "\n",
        "l_conv2 = Conv1D(filters=256, kernel_size=5, activation='relu')(l_pool1)\n",
        "\n",
        "l_drop1 = Dropout(0.2)(l_conv2) \n",
        "\n",
        "l_pool2 = MaxPooling1D(pool_size = 2)(l_conv2)\n",
        "l_conv3 = Conv1D(filters = 128, kernel_size = 5, activation = 'relu')(l_pool2)\n",
        "\n",
        "l_drop2 = Dropout(0.2)(l_conv3)\n",
        "\n",
        "# l_pool3 = MaxPooling1D(pool_size = 2)(l_conv3)\n",
        "# l_conv4 = Conv1D(filters = 256, kernel_size = 5, activation = 'relu')(l_pool3)\n",
        "\n",
        "# l_drop3 = Dropout(0.2)(l_conv4)\n",
        "\n",
        "# l_pool4 = MaxPooling1D(pool_size = 2)(l_conv4)\n",
        "# l_conv5 = Conv1D(filters = 256, kernel_size= 5, activation = 'relu')(l_pool4)\n",
        "\n",
        "# l_drop4 = Dropout(0.2)(l_conv5)\n",
        "\n",
        "l_pool5 = MaxPooling1D(pool_size = 2)(l_conv3)\n",
        "l_flat = Flatten()(l_pool5)\n",
        "# l_dense1 = Dense(1024, activation='relu')(l_flat)\n",
        "# l_dense2 = Dense(512, activation ='relu')(l_dense1)\n",
        "# l_dense3 = Dense(256, activation ='relu')(l_dense2)\n",
        "l_dense4 = Dense(128, activation = 'relu')(l_flat)\n",
        "l_dense5 = Dense(64, activation = 'relu')(l_dense4)\n",
        "l_dense6 = Dense(32, activation = 'relu')(l_dense5)\n",
        "preds = Dense(2, activation='softmax')(l_dense6)\n",
        "\n",
        "model2 = Model(sequence_input, preds)\n",
        "model2.compile(loss='binary_crossentropy',\n",
        "              optimizer='adam',\n",
        "              metrics=['accuracy'])\n",
        "\n",
        "print(\"Fitting a more complex convolutional neural network model\")\n",
        "model2.summary()\n",
        "history_deepcnn = model2.fit(X_train, y_train, validation_data=(x_val, y_val),\n",
        "          epochs=5, batch_size=256)\n",
        "model.save('model.h5')"
      ],
      "execution_count": 43,
      "outputs": [
        {
          "output_type": "stream",
          "text": [
            "/usr/local/lib/python3.6/dist-packages/ipykernel_launcher.py:12: UserWarning: Update your `Conv1D` call to the Keras 2 API: `Conv1D(activation=\"relu\", filters=64, kernel_size=3)`\n",
            "  if sys.path[0] == '':\n",
            "/usr/local/lib/python3.6/dist-packages/ipykernel_launcher.py:12: UserWarning: Update your `Conv1D` call to the Keras 2 API: `Conv1D(activation=\"relu\", filters=64, kernel_size=4)`\n",
            "  if sys.path[0] == '':\n",
            "/usr/local/lib/python3.6/dist-packages/ipykernel_launcher.py:12: UserWarning: Update your `Conv1D` call to the Keras 2 API: `Conv1D(activation=\"relu\", filters=64, kernel_size=5)`\n",
            "  if sys.path[0] == '':\n"
          ],
          "name": "stderr"
        },
        {
          "output_type": "stream",
          "text": [
            "Fitting a more complex convolutional neural network model\n",
            "Model: \"model_2\"\n",
            "_________________________________________________________________\n",
            "Layer (type)                 Output Shape              Param #   \n",
            "=================================================================\n",
            "input_3 (InputLayer)         (None, 1000)              0         \n",
            "_________________________________________________________________\n",
            "embedding_1 (Embedding)      (None, 1000, 100)         21356200  \n",
            "_________________________________________________________________\n",
            "conv1d_15 (Conv1D)           (None, 996, 64)           32064     \n",
            "_________________________________________________________________\n",
            "max_pooling1d_15 (MaxPooling (None, 199, 64)           0         \n",
            "_________________________________________________________________\n",
            "conv1d_16 (Conv1D)           (None, 195, 256)          82176     \n",
            "_________________________________________________________________\n",
            "max_pooling1d_16 (MaxPooling (None, 97, 256)           0         \n",
            "_________________________________________________________________\n",
            "conv1d_17 (Conv1D)           (None, 93, 256)           327936    \n",
            "_________________________________________________________________\n",
            "max_pooling1d_17 (MaxPooling (None, 46, 256)           0         \n",
            "_________________________________________________________________\n",
            "conv1d_18 (Conv1D)           (None, 42, 128)           163968    \n",
            "_________________________________________________________________\n",
            "max_pooling1d_18 (MaxPooling (None, 21, 128)           0         \n",
            "_________________________________________________________________\n",
            "flatten_3 (Flatten)          (None, 2688)              0         \n",
            "_________________________________________________________________\n",
            "dense_8 (Dense)              (None, 128)               344192    \n",
            "_________________________________________________________________\n",
            "dense_9 (Dense)              (None, 64)                8256      \n",
            "_________________________________________________________________\n",
            "dense_10 (Dense)             (None, 32)                2080      \n",
            "_________________________________________________________________\n",
            "dense_11 (Dense)             (None, 2)                 66        \n",
            "=================================================================\n",
            "Total params: 22,316,938\n",
            "Trainable params: 22,316,938\n",
            "Non-trainable params: 0\n",
            "_________________________________________________________________\n"
          ],
          "name": "stdout"
        },
        {
          "output_type": "stream",
          "text": [
            "/usr/local/lib/python3.6/dist-packages/tensorflow/python/framework/indexed_slices.py:434: UserWarning: Converting sparse IndexedSlices to a dense Tensor of unknown shape. This may consume a large amount of memory.\n",
            "  \"Converting sparse IndexedSlices to a dense Tensor of unknown shape. \"\n"
          ],
          "name": "stderr"
        },
        {
          "output_type": "stream",
          "text": [
            "Train on 16443 samples, validate on 10277 samples\n",
            "Epoch 1/5\n",
            "16443/16443 [==============================] - 238s 14ms/step - loss: 0.5472 - accuracy: 0.7067 - val_loss: 0.3268 - val_accuracy: 0.8607\n",
            "Epoch 2/5\n",
            "16443/16443 [==============================] - 237s 14ms/step - loss: 0.2441 - accuracy: 0.9006 - val_loss: 0.1846 - val_accuracy: 0.9280\n",
            "Epoch 3/5\n",
            "16443/16443 [==============================] - 238s 14ms/step - loss: 0.1319 - accuracy: 0.9529 - val_loss: 0.1200 - val_accuracy: 0.9589\n",
            "Epoch 4/5\n",
            "16443/16443 [==============================] - 240s 15ms/step - loss: 0.0926 - accuracy: 0.9697 - val_loss: 0.1293 - val_accuracy: 0.9516\n",
            "Epoch 5/5\n",
            "16443/16443 [==============================] - 234s 14ms/step - loss: 0.0551 - accuracy: 0.9830 - val_loss: 0.0682 - val_accuracy: 0.9789\n"
          ],
          "name": "stdout"
        }
      ]
    },
    {
      "cell_type": "code",
      "metadata": {
        "id": "ikEeh7h88r41",
        "colab_type": "code",
        "colab": {}
      },
      "source": [
        ""
      ],
      "execution_count": 0,
      "outputs": []
    },
    {
      "cell_type": "code",
      "metadata": {
        "id": "Y2vSHc8EtBDE",
        "colab_type": "code",
        "outputId": "60e22e8a-ccce-4efd-c337-972ee2a0e530",
        "colab": {
          "base_uri": "https://localhost:8080/",
          "height": 67
        }
      },
      "source": [
        "test_preds = model2.predict(X_train)\n",
        "test_preds = np.round(test_preds)\n",
        "correct_predictions = float(sum(test_preds == y_train)[0])\n",
        "print(\"Correct predictions:\", correct_predictions)\n",
        "print(\"Total number of test examples:\", len(y_train))\n",
        "print(\"Accuracy of model1: \", correct_predictions/float(len(y_train)))"
      ],
      "execution_count": 44,
      "outputs": [
        {
          "output_type": "stream",
          "text": [
            "Correct predictions: 16329.0\n",
            "Total number of test examples: 16443\n",
            "Accuracy of model1:  0.9930669585841999\n"
          ],
          "name": "stdout"
        }
      ]
    },
    {
      "cell_type": "code",
      "metadata": {
        "id": "rZgN1N1TpZs6",
        "colab_type": "code",
        "outputId": "d2eb0b4a-a2e0-4553-8025-5c35054d90eb",
        "colab": {
          "base_uri": "https://localhost:8080/",
          "height": 67
        }
      },
      "source": [
        "test_preds = model.predict(x_test)\n",
        "test_preds = np.round(test_preds)\n",
        "correct_predictions = float(sum(test_preds == y_test)[0])\n",
        "print(\"Correct predictions:\", correct_predictions)\n",
        "print(\"Total number of test examples:\", len(y_test))\n",
        "print(\"Accuracy of model1: \", correct_predictions/float(len(y_test)))"
      ],
      "execution_count": 45,
      "outputs": [
        {
          "output_type": "stream",
          "text": [
            "Correct predictions: 9864.0\n",
            "Total number of test examples: 10277\n",
            "Accuracy of model1:  0.959813175051085\n"
          ],
          "name": "stdout"
        }
      ]
    },
    {
      "cell_type": "markdown",
      "metadata": {
        "id": "445S76AwCiCk",
        "colab_type": "text"
      },
      "source": [
        "### **CNN**"
      ]
    },
    {
      "cell_type": "code",
      "metadata": {
        "id": "dkLmf4_ZBnL-",
        "colab_type": "code",
        "colab": {
          "base_uri": "https://localhost:8080/",
          "height": 877
        },
        "outputId": "0994ecb5-4d0a-47e2-ad4a-b84ef69726f1"
      },
      "source": [
        "convs = []\n",
        "filter_sizes = [3,4,5]\n",
        "\n",
        "sequence_input = Input(shape=(MAX_SEQUENCE_LENGTH,), dtype='int32')\n",
        "embedded_sequences = embedding_layer(sequence_input)\n",
        "\n",
        "for fsz in filter_sizes:\n",
        "    l_conv = Conv1D(nb_filter=128,filter_length=fsz,activation='relu')(embedded_sequences)\n",
        "    l_pool = MaxPooling1D(5)(l_conv)\n",
        "    convs.append(l_pool)\n",
        "    \n",
        "# l_merge = Merge(mode='concat', concat_axis=1)(convs)\n",
        "l_cov1= Conv1D(filters=128, kernel_size=5, activation='relu')(l_pool)\n",
        "l_pool1 = MaxPooling1D(5)(l_cov1)\n",
        "l_cov2 = Conv1D(filters=128, kernel_size=5, activation='relu')(l_pool1)\n",
        "l_pool2 = MaxPooling1D(30)(l_cov2)\n",
        "l_flat = Flatten()(l_pool2)\n",
        "l_dense = Dense(128, activation='relu')(l_flat)\n",
        "preds = Dense(2, activation='softmax')(l_dense)\n",
        "\n",
        "model2_256 = Model(sequence_input, preds)\n",
        "model2_256.compile(loss='categorical_crossentropy',\n",
        "              optimizer='adadelta',\n",
        "              metrics=['accuracy'])\n",
        "\n",
        "print(\"Fitting a more complex convolutional neural network model\")\n",
        "model2_256.summary()\n",
        "history_cnn = model2_256.fit(X_train, y_train, validation_data=(x_val, y_val),\n",
        "          epochs=5, batch_size=128)\n",
        "model2_256.save('model.h5')"
      ],
      "execution_count": 47,
      "outputs": [
        {
          "output_type": "stream",
          "text": [
            "/usr/local/lib/python3.6/dist-packages/ipykernel_launcher.py:8: UserWarning: Update your `Conv1D` call to the Keras 2 API: `Conv1D(activation=\"relu\", filters=128, kernel_size=3)`\n",
            "  \n",
            "/usr/local/lib/python3.6/dist-packages/ipykernel_launcher.py:8: UserWarning: Update your `Conv1D` call to the Keras 2 API: `Conv1D(activation=\"relu\", filters=128, kernel_size=4)`\n",
            "  \n",
            "/usr/local/lib/python3.6/dist-packages/ipykernel_launcher.py:8: UserWarning: Update your `Conv1D` call to the Keras 2 API: `Conv1D(activation=\"relu\", filters=128, kernel_size=5)`\n",
            "  \n"
          ],
          "name": "stderr"
        },
        {
          "output_type": "stream",
          "text": [
            "Fitting a more complex convolutional neural network model\n",
            "Model: \"model_4\"\n",
            "_________________________________________________________________\n",
            "Layer (type)                 Output Shape              Param #   \n",
            "=================================================================\n",
            "input_5 (InputLayer)         (None, 1000)              0         \n",
            "_________________________________________________________________\n",
            "embedding_1 (Embedding)      (None, 1000, 100)         21356200  \n",
            "_________________________________________________________________\n",
            "conv1d_26 (Conv1D)           (None, 996, 128)          64128     \n",
            "_________________________________________________________________\n",
            "max_pooling1d_26 (MaxPooling (None, 199, 128)          0         \n",
            "_________________________________________________________________\n",
            "conv1d_27 (Conv1D)           (None, 195, 128)          82048     \n",
            "_________________________________________________________________\n",
            "max_pooling1d_27 (MaxPooling (None, 39, 128)           0         \n",
            "_________________________________________________________________\n",
            "conv1d_28 (Conv1D)           (None, 35, 128)           82048     \n",
            "_________________________________________________________________\n",
            "max_pooling1d_28 (MaxPooling (None, 1, 128)            0         \n",
            "_________________________________________________________________\n",
            "flatten_5 (Flatten)          (None, 128)               0         \n",
            "_________________________________________________________________\n",
            "dense_14 (Dense)             (None, 128)               16512     \n",
            "_________________________________________________________________\n",
            "dense_15 (Dense)             (None, 2)                 258       \n",
            "=================================================================\n",
            "Total params: 21,601,194\n",
            "Trainable params: 21,601,194\n",
            "Non-trainable params: 0\n",
            "_________________________________________________________________\n"
          ],
          "name": "stdout"
        },
        {
          "output_type": "stream",
          "text": [
            "/usr/local/lib/python3.6/dist-packages/tensorflow/python/framework/indexed_slices.py:434: UserWarning: Converting sparse IndexedSlices to a dense Tensor of unknown shape. This may consume a large amount of memory.\n",
            "  \"Converting sparse IndexedSlices to a dense Tensor of unknown shape. \"\n"
          ],
          "name": "stderr"
        },
        {
          "output_type": "stream",
          "text": [
            "Train on 16443 samples, validate on 10277 samples\n",
            "Epoch 1/5\n",
            "16443/16443 [==============================] - 232s 14ms/step - loss: 0.5650 - accuracy: 0.7211 - val_loss: 0.3251 - val_accuracy: 0.8676\n",
            "Epoch 2/5\n",
            "16443/16443 [==============================] - 228s 14ms/step - loss: 0.2956 - accuracy: 0.8740 - val_loss: 0.2517 - val_accuracy: 0.8956\n",
            "Epoch 3/5\n",
            "16443/16443 [==============================] - 226s 14ms/step - loss: 0.2428 - accuracy: 0.8958 - val_loss: 0.2326 - val_accuracy: 0.9022\n",
            "Epoch 4/5\n",
            "16443/16443 [==============================] - 230s 14ms/step - loss: 0.2221 - accuracy: 0.9042 - val_loss: 0.3751 - val_accuracy: 0.8539\n",
            "Epoch 5/5\n",
            "16443/16443 [==============================] - 229s 14ms/step - loss: 0.2067 - accuracy: 0.9114 - val_loss: 0.2339 - val_accuracy: 0.9013\n"
          ],
          "name": "stdout"
        }
      ]
    },
    {
      "cell_type": "code",
      "metadata": {
        "id": "MJZTAaiBBp6o",
        "colab_type": "code",
        "colab": {
          "base_uri": "https://localhost:8080/",
          "height": 67
        },
        "outputId": "75cdf6b4-6a36-461b-b7fd-65c2214771fb"
      },
      "source": [
        "test_preds = model2_256.predict(X_train)\n",
        "test_preds = np.round(test_preds)\n",
        "correct_predictions = float(sum(test_preds == y_train)[0])\n",
        "print(\"Correct predictions:\", correct_predictions)\n",
        "print(\"Total number of test examples:\", len(y_train))\n",
        "print(\"Accuracy of model1: \", correct_predictions/float(len(y_train)))"
      ],
      "execution_count": 48,
      "outputs": [
        {
          "output_type": "stream",
          "text": [
            "Correct predictions: 15020.0\n",
            "Total number of test examples: 16443\n",
            "Accuracy of model1:  0.9134586146080399\n"
          ],
          "name": "stdout"
        }
      ]
    },
    {
      "cell_type": "code",
      "metadata": {
        "id": "nleYM2YQBtxx",
        "colab_type": "code",
        "colab": {
          "base_uri": "https://localhost:8080/",
          "height": 67
        },
        "outputId": "e93ab787-715e-450b-f1dd-f48dbda8d38d"
      },
      "source": [
        "test_preds = model2_256.predict(x_test)\n",
        "test_preds = np.round(test_preds)\n",
        "correct_predictions = float(sum(test_preds == y_test)[0])\n",
        "print(\"Correct predictions:\", correct_predictions)\n",
        "print(\"Total number of test examples:\", len(y_test))\n",
        "print(\"Accuracy of model1: \", correct_predictions/float(len(y_test)))"
      ],
      "execution_count": 49,
      "outputs": [
        {
          "output_type": "stream",
          "text": [
            "Correct predictions: 9399.0\n",
            "Total number of test examples: 10277\n",
            "Accuracy of model1:  0.9145665077357206\n"
          ],
          "name": "stdout"
        }
      ]
    },
    {
      "cell_type": "code",
      "metadata": {
        "id": "W4UOnCN5uDjS",
        "colab_type": "code",
        "outputId": "ca5a2597-c0fc-4f8a-c63a-7636afeec22e",
        "colab": {
          "base_uri": "https://localhost:8080/",
          "height": 346
        }
      },
      "source": [
        "\n",
        "import matplotlib.pyplot as plt\n",
        "%matplotlib inline \n",
        "# list all data in history\n",
        "print(history_lstm.history.keys())\n",
        "print(history_cnn.history.keys())\n",
        "print(history_deepcnn.history.keys())\n",
        "\n",
        "\n",
        "\n",
        "\n",
        "plt.plot(history_lstm.history['accuracy'], color = 'green')\n",
        "plt.plot(history_lstm.history['val_accuracy'])\n",
        "\n",
        "\n",
        "plt.plot(history_cnn.history['accuracy'], color = 'blue')\n",
        "plt.plot(history_cnn.history['val_accuracy'])\n",
        "\n",
        "\n",
        "plt.plot(history_deepcnn.history['accuracy'], color = 'black')\n",
        "plt.plot(history_deepcnn.history['val_accuracy'])\n",
        "\n",
        "\n",
        "\n",
        "\n",
        "plt.legend(['lstm_train'  , 'lstm_test', 'cnn_train', 'cnn_test' , 'deepcnn_train', 'deepcnn_test'])\n",
        "\n",
        "\n",
        "plt.title('model accuracy')\n",
        "plt.ylabel('accuracy')\n",
        "plt.xlabel('epoch')\n",
        "\n",
        "plt.show()"
      ],
      "execution_count": 55,
      "outputs": [
        {
          "output_type": "stream",
          "text": [
            "dict_keys(['val_loss', 'val_accuracy', 'loss', 'accuracy'])\n",
            "dict_keys(['val_loss', 'val_accuracy', 'loss', 'accuracy'])\n",
            "dict_keys(['val_loss', 'val_accuracy', 'loss', 'accuracy'])\n"
          ],
          "name": "stdout"
        },
        {
          "output_type": "display_data",
          "data": {
            "image/png": "[encoded data removed]",
            "text/plain": [
              "<Figure size 432x288 with 1 Axes>"
            ]
          },
          "metadata": {
            "tags": [],
            "needs_background": "light"
          }
        }
      ]
    },
    {
      "cell_type": "code",
      "metadata": {
        "id": "2zvWN3YcOCJV",
        "colab_type": "code",
        "colab": {}
      },
      "source": [
        "# model.compile(optimizer = 'rmsprop' , loss = 'binary_crossentropy', metrics = ['accuracy'])\n",
        "# history = model.fit(x_train, y_train, epochs = 3, batch_size = 32, validation_data= (x_val, y_val))\n"
      ],
      "execution_count": 0,
      "outputs": []
    },
    {
      "cell_type": "code",
      "metadata": {
        "id": "jC-qQFFGywvH",
        "colab_type": "code",
        "colab": {}
      },
      "source": [
        "# # import tensorflow as tf\n",
        "# # from tensorflow.keras.preprocessing.text import Tokenizer\n",
        "# # from tensorflow.keras.preprocessing.sequence import pad_sequences\n",
        "# # from tensorflow.keras.models import Sequential\n",
        "# # from tensorflow.keras.layers import Dense, Dropout, Embedding, GRU, LSTM, RNN, SpatialDropout1D, add\n",
        "# # from keras.models import Model\n",
        "# # from keras.layers import Dense, Embedding, LSTM, GRU\n",
        "\n",
        "# from keras.layers import Embedding\n",
        "# from keras.layers import Dense, Input, Flatten\n",
        "# from keras.layers import Conv1D, MaxPooling1D, Embedding, Dropout\n",
        "# from keras.models import Model\n",
        "\n",
        "# import tensorflow\n",
        "# print(tensorflow.__version__)\n",
        "\n",
        "# import keras\n",
        "# print(keras.__version__)"
      ],
      "execution_count": 0,
      "outputs": []
    },
    {
      "cell_type": "code",
      "metadata": {
        "id": "lJAbpPyslIaE",
        "colab_type": "code",
        "colab": {}
      },
      "source": [
        "# # LSTM Neural Network\n",
        "# lstm_model = Sequential(name = 'lstm_nn_model')\n",
        "# lstm_model.add(layer = Embedding(input_dim = max_features, output_dim = 120, name = '1st_layer'))\n",
        "# lstm_model.add(layer = LSTM(units = 120, dropout = 0.2, recurrent_dropout = 0.2, name = '2nd_layer'))\n",
        "# lstm_model.add(layer = Dropout(rate = 0.5, name = '3rd_layer'))\n",
        "# lstm_model.add(layer = Dense(units = 120,  activation = 'relu', name = '4th_layer'))\n",
        "# lstm_model.add(layer = Dropout(rate = 0.5, name = '5th_layer'))\n",
        "# lstm_model.add(layer = Dense(units = len(set(y)),  activation = 'sigmoid', name = 'output_layer'))\n",
        "# # compiling the model\n",
        "# lstm_model.compile(optimizer = 'adam', loss = 'sparse_categorical_crossentropy', metrics = ['accuracy'])\n",
        "# lstm_model_fit = lstm_model.fit(X_train, y_train, epochs = 1)"
      ],
      "execution_count": 0,
      "outputs": []
    },
    {
      "cell_type": "code",
      "metadata": {
        "id": "jPig1r4ByS0v",
        "colab_type": "code",
        "colab": {}
      },
      "source": [
        "# # model = Sequential()\n",
        "# # model.add(Embedding(len(tokenizer.word_index)+1 , 100 , weights = [embedding_matrix], input_length = 1000, trainable = False))\n",
        "# # model.add(LSTM(75))\n",
        "# # model.add(Dense(32, activation = 'relu'))\n",
        "# # model.add(Dense(2, activation = 'softmax'))\n",
        "# # model.compile(optimizer = 'adam', loss = 'binary_crossentropy', metrics = ['accuracy'])\n",
        "# # model.summary\n",
        "# # history = model.fit(X_train, y_train, validation_data = (x_val, y_val), epochs = 3, batch_size = 32)\n",
        "\n",
        "# # sequence_input = Input(shape = (1000,), dtype = 'int32')\n",
        "# # embedded_sequences = embedding_layer(sequence_input)\n",
        "# lstm_model = Sequential(name = 'lstm_nn_model')\n",
        "\n",
        "# lstm_model.add(layer = Embedding(len(tokenizer.word_index)+1 , 100 , weights = [embedding_matrix], input_length = 1000, trainable = False))\n",
        "# lstm_model.add(layer = LSTM(units = 64, dropout = 0.2, recurrent_dropout=0.2, name = '2nd layer'))\n",
        "# lstm_model.add(layer = Dropout(rate = 0.5, name = '3rd layer'))\n",
        "# lstm_model.add(layer = Dense(units = 32, activation = 'relu', name = '4th layer'))\n",
        "# lstm_model.add(layer = Dropout(rate = 0.5 , name = '5th layer'))\n",
        "# lstm_model.add(layer = Dense(units = len(set(y)), activation = 'sigmoid', name = 'output layer')\n",
        "\n",
        "# lstm_model.compile(optimizer = 'adam', loss = 'sparse_categorical_crossentropy', metrics = ['accuracy'])\n",
        "\n",
        "\n",
        "# lstm_model_fit = lstm_model.fit(X_train , y_train, validation_data= (x_val, y_val), epochs = 3, batch_size = 32)\n",
        "\n",
        "# #\n",
        "# # sequence_input = Input(shape=(1000,), dtype='int32')\n",
        "# # embedded_sequences = embedding_layer(sequence_input)\n",
        "# # l_1= LSTM(256, activation = 'relu')\n",
        "# # l_2 = Dense(128, activation='relu')(l_1)\n",
        "# # preds = Dense(2,activation='softmax')(l_2)\n",
        "# # # l_pool2 = MaxPooling1D(5)(l_cov2)\n",
        "# # # l_cov3 = Conv1D(64, 5, activation='relu')(l_pool2)\n",
        "# # # l_pool3 = MaxPooling1D(35)(l_cov3)  # global max pooling\n",
        "# # # l_flat = Flatten()(l_pool3)\n",
        "# # # l_dense = Dense(64, activation='relu')(l_flat)\n",
        "# # # preds = Dense(2, activation='softmax')(l_dense)\n",
        "\n",
        "# # model = Model(sequence_input, preds)\n",
        "# # model.compile(loss='binary_crossentropy',\n",
        "# #               optimizer='adam',\n",
        "# #               metrics=['accuracy'])\n",
        "\n",
        "# # history = model.fit(X_train, y_train, validation_data=(x_val, y_val),\n",
        "# #           epochs=3, batch_size=128)\n",
        "\n",
        "\n",
        "# # model = Sequential()\n",
        "# # model.add()"
      ],
      "execution_count": 0,
      "outputs": []
    },
    {
      "cell_type": "code",
      "metadata": {
        "id": "gHJmkoGhy9k-",
        "colab_type": "code",
        "colab": {}
      },
      "source": [
        "# lstm_model_fit = lstm_model.fit(X_train, y_train, epochs = 3)"
      ],
      "execution_count": 0,
      "outputs": []
    }
  ]
}